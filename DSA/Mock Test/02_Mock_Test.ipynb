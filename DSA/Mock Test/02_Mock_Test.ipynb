{
 "cells": [
  {
   "cell_type": "markdown",
   "id": "78b70935-5ac1-483b-a5df-bbbbac755c21",
   "metadata": {},
   "source": [
    "Question - 1\n",
    "\n",
    "Given a non-negative integer x, return the square root of x rounded down to the nearest integer. The returned integer should be non-negative as well. You must not use any built-in exponent function or operator. \n",
    "\n",
    " Example 1:\n",
    "Input: x = 4 Output: 2 Explanation: The square root of 4 is 2, so we return 2.\n",
    "Example 2:\n",
    "\n",
    "Input: x = 8 Output: 2 Explanation: The square root of 8 is 2.82842..., and since we round it down to the nearest integer, 2 is returned.\n",
    "Constraints:\n",
    "\n",
    "0 <= x <= 2^31 - 1\n",
    "\n",
    "Note: Create a GitHub file for the solution and add the file link the the answer section below.\n",
    "5 points\n"
   ]
  },
  {
   "cell_type": "code",
   "execution_count": 3,
   "id": "0293d366-5dbf-4412-94d6-6372abc3b477",
   "metadata": {},
   "outputs": [
    {
     "name": "stdin",
     "output_type": "stream",
     "text": [
      "Enter a non-negative integer:  4\n"
     ]
    },
    {
     "name": "stdout",
     "output_type": "stream",
     "text": [
      "Input: 4\n",
      "Square root: 2\n"
     ]
    }
   ],
   "source": [
    "def fun1(x):\n",
    "    if x == 0:\n",
    "        return 0\n",
    "    \n",
    "    left = 1\n",
    "    right = x\n",
    "    \n",
    "    while left <= right:\n",
    "        mid = (left + right) // 2\n",
    "        if mid * mid == x:\n",
    "            return mid\n",
    "        elif mid * mid < x:\n",
    "            left = mid + 1\n",
    "        else:\n",
    "            right = mid - 1\n",
    "    \n",
    "    return right\n",
    "\n",
    "x = int(input(\"Enter a non-negative integer: \"))\n",
    "result = fun1(x)\n",
    "print(\"Input:\", x)\n",
    "print(\"Square root:\", result)"
   ]
  },
  {
   "cell_type": "markdown",
   "id": "455d670f-d5c2-4a35-8889-88f07cfcacbe",
   "metadata": {},
   "source": [
    "Question -2\n",
    "\n",
    "You are given two non-empty linked lists representing two non-negative integers. The digits are stored in reverse order, and each of their nodes contains a single digit. Add the two numbers and return the sum as a linked list.\n",
    "\n",
    "You may assume the two numbers do not contain any leading zero, except the number 0 itself.\n",
    "\n",
    "\n",
    "Example 1:\n",
    "\n",
    "Input: l1 = [2,4,3], l2 = [5,6,4] Output: [7,0,8] Explanation: 342 + 465 = 807.\n",
    "\n",
    "Example 2:\n",
    "\n",
    "Input: l1 = [0], l2 = [0] Output: [0]\n",
    "\n",
    "Example 3:\n",
    "\n",
    "Input: l1 = [9,9,9,9,9,9,9], l2 = [9,9,9,9] Output: [8,9,9,9,0,0,0,1]\n",
    "\n",
    " \n",
    "\n",
    "Constraints:\n",
    "\n",
    "The number of nodes in each linked list is in the range [1, 100].\n",
    "0 <= Node.val <= 9 It is guaranteed that the list represents a number that does not have leading zeros."
   ]
  },
  {
   "cell_type": "code",
   "execution_count": 4,
   "id": "f781f06f-0c89-41e8-90ab-1a865ea3e41f",
   "metadata": {},
   "outputs": [
    {
     "name": "stdin",
     "output_type": "stream",
     "text": [
      "Enter the values of the first linked list in reverse order:  2 4 3\n",
      "Enter the values of the second linked list in reverse order:  5 6 4\n"
     ]
    },
    {
     "name": "stdout",
     "output_type": "stream",
     "text": [
      "Sum of the two numbers:\n",
      "7 -> 0 -> 8 -> None\n"
     ]
    }
   ],
   "source": [
    "class ListNode:\n",
    "    def __init__(self, val=0, next=None):\n",
    "        self.val = val\n",
    "        self.next = next\n",
    "\n",
    "def addTwoNumbers(l1, l2):\n",
    "    dummy = ListNode(0)\n",
    "    curr = dummy\n",
    "    carry = 0\n",
    "\n",
    "    while l1 or l2 or carry:\n",
    "        val1 = l1.val if l1 else 0\n",
    "        val2 = l2.val if l2 else 0\n",
    "\n",
    "        carry, digit = divmod(val1 + val2 + carry, 10)\n",
    "        curr.next = ListNode(digit)\n",
    "        curr = curr.next\n",
    "\n",
    "        if l1:\n",
    "            l1 = l1.next\n",
    "        if l2:\n",
    "            l2 = l2.next\n",
    "\n",
    "    return dummy.next\n",
    "\n",
    "def createLinkedList(nums):\n",
    "    head = ListNode(nums[0])\n",
    "    curr = head\n",
    "    for num in nums[1:]:\n",
    "        curr.next = ListNode(num)\n",
    "        curr = curr.next\n",
    "    return head\n",
    "\n",
    "def printLinkedList(head):\n",
    "    curr = head\n",
    "    while curr:\n",
    "        print(curr.val, end=\" -> \")\n",
    "        curr = curr.next\n",
    "    print(\"None\")\n",
    "\n",
    "nums1 = list(map(int, input(\"Enter the values of the first linked list in reverse order: \").split()))\n",
    "nums2 = list(map(int, input(\"Enter the values of the second linked list in reverse order: \").split()))\n",
    "\n",
    "l1 = createLinkedList(nums1)\n",
    "l2 = createLinkedList(nums2)\n",
    "\n",
    "result = addTwoNumbers(l1, l2)\n",
    "\n",
    "print(\"Sum of the two numbers:\")\n",
    "printLinkedList(result)\n"
   ]
  },
  {
   "cell_type": "code",
   "execution_count": null,
   "id": "a9f5cc67-a130-48d4-9887-d6439be1f35c",
   "metadata": {},
   "outputs": [],
   "source": []
  }
 ],
 "metadata": {
  "kernelspec": {
   "display_name": "Python 3 (ipykernel)",
   "language": "python",
   "name": "python3"
  },
  "language_info": {
   "codemirror_mode": {
    "name": "ipython",
    "version": 3
   },
   "file_extension": ".py",
   "mimetype": "text/x-python",
   "name": "python",
   "nbconvert_exporter": "python",
   "pygments_lexer": "ipython3",
   "version": "3.10.8"
  }
 },
 "nbformat": 4,
 "nbformat_minor": 5
}
