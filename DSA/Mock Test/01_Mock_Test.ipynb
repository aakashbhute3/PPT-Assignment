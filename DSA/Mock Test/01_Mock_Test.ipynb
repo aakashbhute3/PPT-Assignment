{
 "cells": [
  {
   "cell_type": "markdown",
   "id": "71338598-2c8d-4bf8-8c8f-eee2c3d1e9f3",
   "metadata": {},
   "source": [
    "# DSA - Mock Test 1 - Python"
   ]
  },
  {
   "cell_type": "markdown",
   "id": "692cf637-7d9e-4ad7-8dab-3c53705c1be4",
   "metadata": {},
   "source": [
    "Given an integer array nums, move all 0's to the end of it while maintaining the relative order of the non-zero elements.\n",
    "\n",
    "Note that you must do this in-place without making a copy of the array.\n",
    "\n",
    "Example 1:\n",
    "Input: nums = [0,1,0,3,12]\n",
    "Output: [1,3,12,0,0]\n",
    "\n",
    "Example 2:\n",
    "Input: nums = [0]\n",
    "Output: [0]\n",
    "\n",
    "Constraints:\n",
    "a. 1 <= nums.length <= 10^4\n",
    "b. -2^31 <= nums[i] <= 2^31 - 1"
   ]
  },
  {
   "cell_type": "code",
   "execution_count": 4,
   "id": "ef92f483-42a7-4f03-b22a-b11448b1b3f4",
   "metadata": {},
   "outputs": [
    {
     "name": "stdout",
     "output_type": "stream",
     "text": [
      "[1, 3, 12, 0, 0]\n",
      "[0]\n"
     ]
    }
   ],
   "source": [
    "def f1(nums):\n",
    "    \n",
    "    insert_pos = 0\n",
    "    \n",
    "    for num in nums:\n",
    "        if num != 0:\n",
    "            nums[insert_pos] = num\n",
    "            insert_pos += 1\n",
    "    \n",
    "    while insert_pos < len(nums):\n",
    "        nums[insert_pos] = 0\n",
    "        insert_pos += 1\n",
    "    \n",
    "    return nums\n",
    "\n",
    "nums1 = [0, 1, 0, 3, 12]\n",
    "print(f1(nums1))  \n",
    "\n",
    "nums2 = [0]\n",
    "print(f1(nums2))  \n"
   ]
  },
  {
   "cell_type": "markdown",
   "id": "a7495a88-0316-4440-9723-8b4249ace86c",
   "metadata": {},
   "source": [
    "First Unique Character in a String\n",
    "\n",
    "Given a string s, find the first non-repeating character in it and return its index. If it does not exist, return -1.\n",
    "\n",
    "Example 1:\n",
    "Input: s = \"leetcode\"\n",
    "Output: 0\n",
    "\n",
    "Example 2:\n",
    "Input: s = \"loveleetcode\"\n",
    "Output: 2\n",
    "\n",
    "Example 3:\n",
    "Input: s = \"aabb\"\n",
    "Output: -1\n",
    "\n",
    "Constraints:\n",
    "a. 1 <= s.length <= 10^5\n",
    "b. s consists of only lowercase English letters.\n"
   ]
  },
  {
   "cell_type": "code",
   "execution_count": 9,
   "id": "d892eb74-2b90-4920-82b2-79e4117f4341",
   "metadata": {},
   "outputs": [
    {
     "name": "stdout",
     "output_type": "stream",
     "text": [
      "0\n",
      "2\n",
      "-1\n"
     ]
    }
   ],
   "source": [
    "def f2(s):\n",
    "    \n",
    "    count = {}\n",
    "    \n",
    "    for char in s:\n",
    "        count[char] = count.get(char, 0) + 1\n",
    "    \n",
    "    for i in range(len(s)):\n",
    "        if count[s[i]] == 1:\n",
    "            return i\n",
    "    \n",
    "    return -1\n",
    "\n",
    "s1 = \"leetcode\"\n",
    "print(f2(s1))  \n",
    "\n",
    "s2 = \"loveleetcode\"\n",
    "print(f2(s2))  \n",
    "\n",
    "s3 = \"aabb\"\n",
    "print(f2(s3))  \n"
   ]
  }
 ],
 "metadata": {
  "kernelspec": {
   "display_name": "Python 3 (ipykernel)",
   "language": "python",
   "name": "python3"
  },
  "language_info": {
   "codemirror_mode": {
    "name": "ipython",
    "version": 3
   },
   "file_extension": ".py",
   "mimetype": "text/x-python",
   "name": "python",
   "nbconvert_exporter": "python",
   "pygments_lexer": "ipython3",
   "version": "3.10.8"
  }
 },
 "nbformat": 4,
 "nbformat_minor": 5
}
