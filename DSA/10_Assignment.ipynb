{
 "cells": [
  {
   "cell_type": "markdown",
   "id": "63c345f4-bf14-4bc3-a6d7-725c16a63280",
   "metadata": {},
   "source": [
    "# Assignment Questions 10"
   ]
  },
  {
   "cell_type": "markdown",
   "id": "b1fb1be5-bb42-4c16-a62c-e7b402e2a8e3",
   "metadata": {},
   "source": [
    "\n",
    "💡 **Question 1**\n",
    "\n",
    "Given an integer `n`, return *`true` if it is a power of three. Otherwise, return `false`*.\n",
    "\n",
    "An integer `n` is a power of three, if there exists an integer `x` such that `n == 3x`.\n",
    "\n",
    "**Example 1:**\n",
    "\n",
    "\n",
    "Input: n = 27\n",
    "Output: true\n",
    "Explanation: 27 = 33\n",
    "```\n",
    "\n",
    "**Example 2:**\n",
    "\n",
    "\n",
    "Input: n = 0\n",
    "Output: false\n",
    "Explanation: There is no x where 3x = 0.\n",
    "\n",
    "\n",
    "\n",
    "**Example 3:**\n",
    "\n",
    "Input: n = -1\n",
    "\n",
    "Output: false\n",
    "\n",
    "Explanation: There is no x where 3x = (-1).\n",
    "\n"
   ]
  },
  {
   "cell_type": "code",
   "execution_count": 1,
   "id": "47a49ea8-1326-446a-8eea-d962326a26c1",
   "metadata": {},
   "outputs": [
    {
     "name": "stdin",
     "output_type": "stream",
     "text": [
      "Enter an integer:  -1\n"
     ]
    },
    {
     "name": "stdout",
     "output_type": "stream",
     "text": [
      "Input:\n",
      "n = -1\n",
      "Output:\n",
      "False\n"
     ]
    }
   ],
   "source": [
    "def fun1(n):\n",
    "    if n <= 0:\n",
    "        return False\n",
    "    while n % 3 == 0:\n",
    "        n //= 3\n",
    "    return n == 1\n",
    "\n",
    "n = int(input(\"Enter an integer: \"))\n",
    "\n",
    "print(\"Input:\")\n",
    "print(\"n =\", n)\n",
    "\n",
    "output = fun1(n)\n",
    "print(\"Output:\")\n",
    "print(output)\n"
   ]
  },
  {
   "cell_type": "markdown",
   "id": "76943409-93fe-45a6-9380-f3333e911577",
   "metadata": {},
   "source": [
    "\n",
    "💡 **Question 2**\n",
    "\n",
    "You have a list `arr` of all integers in the range `[1, n]` sorted in a strictly increasing order. Apply the following algorithm on `arr`:\n",
    "\n",
    "- Starting from left to right, remove the first number and every other number afterward until you reach the end of the list.\n",
    "- Repeat the previous step again, but this time from right to left, remove the rightmost number and every other number from the remaining numbers.\n",
    "- Keep repeating the steps again, alternating left to right and right to left, until a single number remains.\n",
    "\n",
    "Given the integer `n`, return *the last number that remains in* `arr`.\n",
    "\n",
    "**Example 1:**\n",
    "\n",
    "Input: n = 9\n",
    "\n",
    "Output: 6\n",
    "\n",
    "Explanation:\n",
    "\n",
    "arr = [1, 2,3, 4,5, 6,7, 8,9]\n",
    "\n",
    "arr = [2,4, 6,8]\n",
    "\n",
    "arr = [2, 6]\n",
    "\n",
    "arr = [6]\n",
    "\n"
   ]
  },
  {
   "cell_type": "code",
   "execution_count": 2,
   "id": "3217bd5a-5d0a-427a-857e-29db92421f36",
   "metadata": {},
   "outputs": [
    {
     "name": "stdin",
     "output_type": "stream",
     "text": [
      "Enter an integer:  9\n"
     ]
    },
    {
     "name": "stdout",
     "output_type": "stream",
     "text": [
      "Input:\n",
      "n = 9\n",
      "Output:\n",
      "2\n"
     ]
    }
   ],
   "source": [
    "def fun2(n):\n",
    "    arr = list(range(1, n+1))\n",
    "    left_to_right = True\n",
    "\n",
    "    while len(arr) > 1:\n",
    "        if left_to_right:\n",
    "            arr = arr[1::2]  \n",
    "        else:\n",
    "            arr = arr[-2::-2]  \n",
    "        left_to_right = not left_to_right\n",
    "\n",
    "    return arr[0]\n",
    "\n",
    "n = int(input(\"Enter an integer: \"))\n",
    "\n",
    "print(\"Input:\")\n",
    "print(\"n =\", n)\n",
    "\n",
    "output = fun2(n)\n",
    "print(\"Output:\")\n",
    "print(output)\n"
   ]
  },
  {
   "cell_type": "markdown",
   "id": "38e1ba81-57db-437e-91b7-d7e16c1a4655",
   "metadata": {},
   "source": [
    "\n",
    "💡 **Question 3**\n",
    "\n",
    "****Given a set represented as a string, write a recursive code to print all subsets of it. The subsets can be printed in any order.\n",
    "\n",
    "**Example 1:**\n",
    "\n",
    "Input :  set = “abc”\n",
    "\n",
    "Output : { “”, “a”, “b”, “c”, “ab”, “ac”, “bc”, “abc”}\n",
    "\n",
    "**Example 2:**\n",
    "\n",
    "Input : set = “abcd”\n",
    "\n",
    "Output : { “”, “a” ,”ab” ,”abc” ,”abcd”, “abd” ,”ac” ,”acd”, “ad” ,”b”, “bc” ,”bcd” ,”bd” ,”c” ,”cd” ,”d” }\n"
   ]
  },
  {
   "cell_type": "code",
   "execution_count": 3,
   "id": "80860b28-0a94-4d72-a53f-f957a1778d2d",
   "metadata": {},
   "outputs": [
    {
     "name": "stdin",
     "output_type": "stream",
     "text": [
      "Enter a set as a string:  abc\n"
     ]
    },
    {
     "name": "stdout",
     "output_type": "stream",
     "text": [
      "Input:\n",
      "set = abc\n",
      "Output:\n",
      "['', 'c', 'b', 'bc', 'a', 'ac', 'ab', 'abc']\n"
     ]
    }
   ],
   "source": [
    "def fun3(set_str):\n",
    "    subsets = []\n",
    "    generate_subsets(set_str, \"\", 0, subsets)\n",
    "    return subsets\n",
    "\n",
    "def generate_subsets(set_str, current_subset, index, subsets):\n",
    "    if index == len(set_str):\n",
    "        subsets.append(current_subset)\n",
    "        return\n",
    "\n",
    "    generate_subsets(set_str, current_subset, index + 1, subsets)\n",
    "\n",
    "    generate_subsets(set_str, current_subset + set_str[index], index + 1, subsets)\n",
    "\n",
    "set_str = input(\"Enter a set as a string: \")\n",
    "\n",
    "print(\"Input:\")\n",
    "print(\"set =\", set_str)\n",
    "\n",
    "output = fun3(set_str)\n",
    "print(\"Output:\")\n",
    "print(output)\n"
   ]
  },
  {
   "cell_type": "markdown",
   "id": "e81a3d1d-fe77-450e-92b7-a333e7c3d22e",
   "metadata": {},
   "source": [
    "\n",
    "💡 **Question 4**\n",
    "\n",
    "Given a string calculate length of the string using recursion.\n",
    "\n",
    "**Examples:**\n",
    "\n",
    "Input : str = \"abcd\"\n",
    "\n",
    "Output :4\n",
    "\n",
    "\n",
    "\n",
    "Input : str = \"GEEKSFORGEEKS\"\n",
    "\n",
    "Output :13\n"
   ]
  },
  {
   "cell_type": "code",
   "execution_count": 5,
   "id": "98c64804-89ae-44ae-ba55-16244ad8659e",
   "metadata": {},
   "outputs": [
    {
     "name": "stdin",
     "output_type": "stream",
     "text": [
      "Enter a string:  abcd\n"
     ]
    },
    {
     "name": "stdout",
     "output_type": "stream",
     "text": [
      "Input:\n",
      "str = abcd\n",
      "Output:\n",
      "4\n"
     ]
    }
   ],
   "source": [
    "def fun4(string):\n",
    "    if string == \"\":\n",
    "        return 0\n",
    "    else:\n",
    "        return 1 + fun4(string[:-1])\n",
    "\n",
    "string = input(\"Enter a string: \")\n",
    "\n",
    "print(\"Input:\")\n",
    "print(\"str =\", string)\n",
    "\n",
    "output = fun4(string)\n",
    "print(\"Output:\")\n",
    "print(output)\n"
   ]
  },
  {
   "cell_type": "markdown",
   "id": "1998c0cc-43bc-48cb-90ba-ff97a78a0a21",
   "metadata": {},
   "source": [
    "\n",
    "💡 **Question 5**\n",
    "\n",
    "We are given a string S, we need to find count of all contiguous substrings starting and ending with same character.\n",
    "\n",
    "**Examples :**\n",
    "\n",
    "Input  : S = \"abcab\"\n",
    "\n",
    "Output : 7\n",
    "\n",
    "There are 15 substrings of \"abcab\"\n",
    "a, ab, abc, abca, abcab, b, bc, bca\n",
    "bcab, c, ca, cab, a, ab, b\n",
    "Out of the above substrings, there\n",
    "are 7 substrings : a, abca, b, bcab,\n",
    "c, a and b.\n",
    "\n",
    "Input  : S = \"aba\"\n",
    "Output : 4\n",
    "The substrings are a, b, a and aba"
   ]
  },
  {
   "cell_type": "code",
   "execution_count": 6,
   "id": "c0bd69c3-c818-4196-956c-3c0c99a0f20e",
   "metadata": {},
   "outputs": [
    {
     "name": "stdin",
     "output_type": "stream",
     "text": [
      "Enter a string:  abcab\n"
     ]
    },
    {
     "name": "stdout",
     "output_type": "stream",
     "text": [
      "Input:\n",
      "S = abcab\n",
      "Output:\n",
      "7\n"
     ]
    }
   ],
   "source": [
    "def fun5(string):\n",
    "    count = 0\n",
    "    for i in range(len(string)):\n",
    "        for j in range(i, len(string)):\n",
    "            if string[i] == string[j]:\n",
    "                count += 1\n",
    "    return count\n",
    "\n",
    "string = input(\"Enter a string: \")\n",
    "\n",
    "print(\"Input:\")\n",
    "print(\"S =\", string)\n",
    "\n",
    "output = fun5(string)\n",
    "print(\"Output:\")\n",
    "print(output)\n"
   ]
  },
  {
   "cell_type": "markdown",
   "id": "b650fcd0-961d-4cb7-bc15-090afcc65cd4",
   "metadata": {},
   "source": [
    "\n",
    "💡 **Question 6**\n",
    "\n",
    "The [tower of Hanoi](https://en.wikipedia.org/wiki/Tower_of_Hanoi) is a famous puzzle where we have three rods and **N** disks. The objective of the puzzle is to move the entire stack to another rod. You are given the number of discs **N**. Initially, these discs are in the rod 1. You need to print all the steps of discs movement so that all the discs reach the 3rd rod. Also, you need to find the total moves.**Note:** The discs are arranged such that the **top disc is numbered 1** and the **bottom-most disc is numbered N**. Also, all the discs have **different sizes** and a bigger disc **cannot** be put on the top of a smaller disc. Refer the provided link to get a better clarity about the puzzle.\n",
    "\n",
    "**Example 1:**\n",
    "\n",
    "Input:\n",
    "N = 2\n",
    "Output:\n",
    "move disk 1 from rod 1 to rod 2\n",
    "move disk 2 from rod 1 to rod 3\n",
    "move disk 1 from rod 2 to rod 3\n",
    "3\n",
    "Explanation:For N=2 , steps will be\n",
    "as follows in the example and total\n",
    "3 steps will be taken.\n",
    "\n"
   ]
  },
  {
   "cell_type": "code",
   "execution_count": 7,
   "id": "140a7fd7-c3a0-42de-99e4-3b17538c2383",
   "metadata": {},
   "outputs": [
    {
     "name": "stdin",
     "output_type": "stream",
     "text": [
      "Enter the number of discs:  2\n"
     ]
    },
    {
     "name": "stdout",
     "output_type": "stream",
     "text": [
      "Input:\n",
      "N = 2\n",
      "Output:\n",
      "move disk 1 from rod 1 to rod 2\n",
      "move disk 2 from rod 1 to rod 3\n",
      "move disk 1 from rod 2 to rod 3\n",
      "3\n"
     ]
    }
   ],
   "source": [
    "def fun6(n, source, destination, auxiliary):\n",
    "    if n == 1:\n",
    "        print(\"move disk 1 from rod\", source, \"to rod\", destination)\n",
    "        return 1\n",
    "    count = 0\n",
    "    count += fun6(n-1, source, auxiliary, destination)\n",
    "    print(\"move disk\", n, \"from rod\", source, \"to rod\", destination)\n",
    "    count += 1\n",
    "    count += fun6(n-1, auxiliary, destination, source)\n",
    "    return count\n",
    "\n",
    "n = int(input(\"Enter the number of discs: \"))\n",
    "\n",
    "print(\"Input:\")\n",
    "print(\"N =\", n)\n",
    "\n",
    "print(\"Output:\")\n",
    "total_moves = fun6(n, 1, 3, 2)\n",
    "print(total_moves)\n"
   ]
  },
  {
   "cell_type": "markdown",
   "id": "fe3fbc23-38b8-4b25-85e3-c268a8da6c91",
   "metadata": {},
   "source": [
    "\n",
    "💡 **Question 7**\n",
    "\n",
    "Given a string **str**, the task is to print all the permutations of **str**. A **permutation** is an arrangement of all or part of a set of objects, with regard to the order of the arrangement. For instance, the words ‘bat’ and ‘tab’ represents two distinct permutation (or arrangements) of a similar three letter word.\n",
    "\n",
    "**Examples:**\n",
    "\n",
    "> Input: str = “cd”\n",
    "> \n",
    "> \n",
    "> **Output:** cd dc\n",
    "> \n",
    "> **Input:** str = “abb”\n",
    "> \n",
    "> **Output:** abb abb bab bba bab bba\n",
    ">\n",
    "\n",
    "\n"
   ]
  },
  {
   "cell_type": "code",
   "execution_count": 8,
   "id": "c990fb68-4748-49b9-ab9d-235071e9c669",
   "metadata": {},
   "outputs": [
    {
     "name": "stdin",
     "output_type": "stream",
     "text": [
      "Enter a string:  abb\n"
     ]
    },
    {
     "name": "stdout",
     "output_type": "stream",
     "text": [
      "Input:\n",
      "str = abb\n",
      "Output:\n",
      "abb\n",
      "abb\n",
      "bab\n",
      "bba\n",
      "bba\n",
      "bab\n"
     ]
    }
   ],
   "source": [
    "def fun7(s, left, right):\n",
    "    if left == right:\n",
    "        print(s)\n",
    "    else:\n",
    "        for i in range(left, right + 1):\n",
    "            s = swap(s, left, i)\n",
    "            fun7(s, left + 1, right)\n",
    "            s = swap(s, left, i)\n",
    "\n",
    "def swap(s, i, j):\n",
    "    chars = list(s)\n",
    "    chars[i], chars[j] = chars[j], chars[i]\n",
    "    return ''.join(chars)\n",
    "\n",
    "s = input(\"Enter a string: \")\n",
    "\n",
    "print(\"Input:\")\n",
    "print(\"str =\", s)\n",
    "\n",
    "print(\"Output:\")\n",
    "fun7(s, 0, len(s) - 1)\n"
   ]
  },
  {
   "cell_type": "markdown",
   "id": "264c2723-800e-4786-9d60-768f89e0b2c9",
   "metadata": {},
   "source": [
    "\n",
    "💡 **Question 8**\n",
    "\n",
    "Given a string, count total number of consonants in it. A consonant is an English alphabet character that is not vowel (a, e, i, o and u). Examples of constants are b, c, d, f, and g.\n",
    "\n",
    "**Examples :**\n",
    "\n",
    "Input : abc de\n",
    "Output : 3\n",
    "There are three consonants b, c and d.\n",
    "\n",
    "Input : geeksforgeeks portal\n",
    "Output : 12\n",
    "\n"
   ]
  },
  {
   "cell_type": "code",
   "execution_count": 10,
   "id": "64d5d513-a00c-42e4-823b-7e22982e3677",
   "metadata": {},
   "outputs": [
    {
     "name": "stdin",
     "output_type": "stream",
     "text": [
      "Enter a string:  abc de\n"
     ]
    },
    {
     "name": "stdout",
     "output_type": "stream",
     "text": [
      "Input:\n",
      "str = abc de\n",
      "Output:\n",
      "Number of consonants: 3\n"
     ]
    }
   ],
   "source": [
    "def fun8(s):\n",
    "    count = 0\n",
    "    vowels = ['a', 'e', 'i', 'o', 'u']\n",
    "    for char in s:\n",
    "        if char.isalpha() and char.lower() not in vowels:\n",
    "            count += 1\n",
    "    return count\n",
    "\n",
    "s = input(\"Enter a string: \")\n",
    "\n",
    "print(\"Input:\")\n",
    "print(\"str =\", s)\n",
    "\n",
    "print(\"Output:\")\n",
    "print(\"Number of consonants:\", fun8(s))\n"
   ]
  },
  {
   "cell_type": "code",
   "execution_count": null,
   "id": "4d04365d-69e2-4b6d-9e4d-8f4361aaca01",
   "metadata": {},
   "outputs": [],
   "source": []
  }
 ],
 "metadata": {
  "kernelspec": {
   "display_name": "Python 3 (ipykernel)",
   "language": "python",
   "name": "python3"
  },
  "language_info": {
   "codemirror_mode": {
    "name": "ipython",
    "version": 3
   },
   "file_extension": ".py",
   "mimetype": "text/x-python",
   "name": "python",
   "nbconvert_exporter": "python",
   "pygments_lexer": "ipython3",
   "version": "3.10.8"
  }
 },
 "nbformat": 4,
 "nbformat_minor": 5
}
