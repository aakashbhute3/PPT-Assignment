{
 "cells": [
  {
   "cell_type": "markdown",
   "id": "ae91bf27-1db8-4bba-9f04-e1cf40ee0518",
   "metadata": {},
   "source": [
    "# Assignment Questions 6 "
   ]
  },
  {
   "cell_type": "markdown",
   "id": "8a4efa90-c8f1-429f-9087-3bffafbf368e",
   "metadata": {},
   "source": [
    "\n",
    "💡 **Question 1**\n",
    "\n",
    "A permutation perm of n + 1 integers of all the integers in the range [0, n] can be represented as a string s of length n where:\n",
    "\n",
    "- s[i] == 'I' if perm[i] < perm[i + 1], and\n",
    "- s[i] == 'D' if perm[i] > perm[i + 1].\n",
    "\n",
    "Given a string s, reconstruct the permutation perm and return it. If there are multiple valid permutations perm, return **any of them**.\n",
    "\n",
    "**Example 1:**\n",
    "\n",
    "**Input:** s = \"IDID\"\n",
    "\n",
    "**Output:**\n",
    "\n",
    "[0,4,1,3,2]\n"
   ]
  },
  {
   "cell_type": "code",
   "execution_count": 1,
   "id": "2e990405-71a9-4e41-aa77-84d387098f40",
   "metadata": {},
   "outputs": [
    {
     "name": "stdin",
     "output_type": "stream",
     "text": [
      "Enter the pattern string:  IDID\n"
     ]
    },
    {
     "name": "stdout",
     "output_type": "stream",
     "text": [
      "s = IDID\n",
      "Reconstructed permutation: [0, 4, 1, 3, 2]\n"
     ]
    }
   ],
   "source": [
    "def fun1(s):\n",
    "    n = len(s)\n",
    "    perm = []\n",
    "    left = 0\n",
    "    right = n\n",
    "    \n",
    "    for i in range(n):\n",
    "        if s[i] == 'I':\n",
    "            perm.append(left)\n",
    "            left += 1\n",
    "        else:\n",
    "            perm.append(right)\n",
    "            right -= 1\n",
    "    \n",
    "    perm.append(left)\n",
    "    \n",
    "    return perm\n",
    "\n",
    "s = input(\"Enter the pattern string: \")\n",
    "\n",
    "print(\"s =\", s)\n",
    "\n",
    "result = fun1(s)\n",
    "print(\"Reconstructed permutation:\", result)\n"
   ]
  },
  {
   "cell_type": "markdown",
   "id": "adefcced-5325-4b90-9d0c-865355500220",
   "metadata": {},
   "source": [
    "\n",
    "💡 **Question 2**\n",
    "\n",
    "You are given an m x n integer matrix matrix with the following two properties:\n",
    "\n",
    "- Each row is sorted in non-decreasing order.\n",
    "- The first integer of each row is greater than the last integer of the previous row.\n",
    "\n",
    "Given an integer target, return true *if* target *is in* matrix *or* false *otherwise*.\n",
    "\n",
    "You must write a solution in O(log(m * n)) time complexity.\n",
    "\n",
    "**Example 1:**\n",
    "\n",
    "![Screenshot 2023-05-29 005303.png](https://s3-us-west-2.amazonaws.com/secure.notion-static.com/e4b0271f-15f0-4744-826b-18500ccfcb75/Screenshot_2023-05-29_005303.png)\n",
    "\n",
    "\n",
    "**Input:** matrix = [[1,3,5,7],[10,11,16,20],[23,30,34,60]], target = 3\n",
    "\n",
    "**Output:** true\n",
    "\n"
   ]
  },
  {
   "cell_type": "code",
   "execution_count": 5,
   "id": "f7cdb648-1f25-45b1-8eff-424c3fa7a961",
   "metadata": {},
   "outputs": [
    {
     "name": "stdin",
     "output_type": "stream",
     "text": [
      "Enter the number of rows:  3\n",
      "Enter the elements of row 1 (space-separated):  1 3 5 7\n",
      "Enter the elements of row 2 (space-separated):  10 11 16 20\n",
      "Enter the elements of row 3 (space-separated):  23 30 34 60\n",
      "Enter the target number:  3\n"
     ]
    },
    {
     "name": "stdout",
     "output_type": "stream",
     "text": [
      "matrix = [[1, 3, 5, 7], [10, 11, 16, 20], [23, 30, 34, 60]]\n",
      "target = 3\n",
      "Result: True\n"
     ]
    }
   ],
   "source": [
    "def fun2(matrix, target):\n",
    "    if not matrix or not matrix[0]:\n",
    "        return False\n",
    "    \n",
    "    m = len(matrix)\n",
    "    n = len(matrix[0])\n",
    "    \n",
    "    left = 0\n",
    "    right = m * n - 1\n",
    "    \n",
    "    while left <= right:\n",
    "        mid = (left + right) // 2\n",
    "        row = mid // n\n",
    "        col = mid % n\n",
    "        if matrix[row][col] == target:\n",
    "            return True\n",
    "        elif matrix[row][col] < target:\n",
    "            left = mid + 1\n",
    "        else:\n",
    "            right = mid - 1\n",
    "    \n",
    "    return False\n",
    "\n",
    "matrix = []\n",
    "m = int(input(\"Enter the number of rows: \"))\n",
    "for i in range(m):\n",
    "    row = list(map(int, input(f\"Enter the elements of row {i+1} (space-separated): \").split()))\n",
    "    matrix.append(row)\n",
    "\n",
    "target = int(input(\"Enter the target number: \"))\n",
    "\n",
    "print(\"matrix =\", matrix)\n",
    "print(\"target =\", target)\n",
    "\n",
    "result = fun2(matrix, target)\n",
    "print(\"Result:\", result)\n",
    "\n"
   ]
  },
  {
   "cell_type": "markdown",
   "id": "ed8c93dd-3281-4475-88cb-e70535c7861c",
   "metadata": {},
   "source": [
    "\n",
    "💡 **Question 3**\n",
    "\n",
    "Given an array of integers arr, return *true if and only if it is a valid mountain array*.\n",
    "\n",
    "Recall that arr is a mountain array if and only if:\n",
    "\n",
    "- arr.length >= 3\n",
    "- There exists some i with 0 < i < arr.length - 1 such that:\n",
    "    - arr[0] < arr[1] < ... < arr[i - 1] < arr[i]\n",
    "    - arr[i] > arr[i + 1] > ... > arr[arr.length - 1]\n",
    "\n",
    "![Screenshot 2023-05-29 005352.png](https://s3-us-west-2.amazonaws.com/secure.notion-static.com/5565e778-ac57-4ced-85a2-ccb13268bdf6/Screenshot_2023-05-29_005352.png)\n",
    "\n",
    "\n",
    "**Example 1:**\n",
    "\n",
    "**Input:** arr = [2,1]\n",
    "\n",
    "**Output:**\n",
    "\n",
    "false\n"
   ]
  },
  {
   "cell_type": "code",
   "execution_count": 7,
   "id": "c6ccf2e0-0e17-4966-8795-ac849f6f2475",
   "metadata": {},
   "outputs": [
    {
     "name": "stdin",
     "output_type": "stream",
     "text": [
      "Enter the elements of the array (space-separated):  2 1\n"
     ]
    },
    {
     "name": "stdout",
     "output_type": "stream",
     "text": [
      "arr = [2, 1]\n",
      "Result: False\n"
     ]
    }
   ],
   "source": [
    "def fun3(arr):\n",
    "    if len(arr) < 3:\n",
    "        return False\n",
    "    \n",
    "    peak_index = arr.index(max(arr))\n",
    "    \n",
    "    if peak_index == 0 or peak_index == len(arr) - 1:\n",
    "        return False\n",
    "    \n",
    "    for i in range(peak_index):\n",
    "        if arr[i] >= arr[i+1]:\n",
    "            return False\n",
    "    \n",
    "    for i in range(peak_index, len(arr) - 1):\n",
    "        if arr[i] <= arr[i+1]:\n",
    "            return False\n",
    "    \n",
    "    return True\n",
    "\n",
    "arr = list(map(int, input(\"Enter the elements of the array (space-separated): \").split()))\n",
    "\n",
    "print(\"arr =\", arr)\n",
    "\n",
    "result = fun3(arr)\n",
    "print(\"Result:\", result)\n"
   ]
  },
  {
   "cell_type": "markdown",
   "id": "14d26afd-11cf-464a-8ecd-ade14f213b83",
   "metadata": {},
   "source": [
    "\n",
    "💡 **Question 4**\n",
    "\n",
    "Given a binary array nums, return *the maximum length of a contiguous subarray with an equal number of* 0 *and* 1.\n",
    "\n",
    "**Example 1:**\n",
    "\n",
    "**Input:** nums = [0,1]\n",
    "\n",
    "**Output:** 2\n",
    "\n",
    "**Explanation:**\n",
    "\n",
    "[0, 1] is the longest contiguous subarray with an equal number of 0 and 1.\n"
   ]
  },
  {
   "cell_type": "code",
   "execution_count": 8,
   "id": "f73fa630-69a8-4014-bc0e-8182541e608f",
   "metadata": {},
   "outputs": [
    {
     "name": "stdin",
     "output_type": "stream",
     "text": [
      "Enter the binary array (space-separated):  0 1\n"
     ]
    },
    {
     "name": "stdout",
     "output_type": "stream",
     "text": [
      "nums = [0, 1]\n",
      "Result: 2\n"
     ]
    }
   ],
   "source": [
    "def fun4(nums):\n",
    "    count = 0\n",
    "    max_length = 0\n",
    "    counts = {0: -1}  \n",
    "    \n",
    "    for i, num in enumerate(nums):\n",
    "        if num == 0:\n",
    "            count -= 1\n",
    "        else:\n",
    "            count += 1\n",
    "            \n",
    "        if count in counts:\n",
    "            max_length = max(max_length, i - counts[count])\n",
    "        else:\n",
    "            counts[count] = i\n",
    "    \n",
    "    return max_length\n",
    "\n",
    "nums = list(map(int, input(\"Enter the binary array (space-separated): \").split()))\n",
    "\n",
    "print(\"nums =\", nums)\n",
    "\n",
    "result = fun4(nums)\n",
    "print(\"Result:\", result)\n"
   ]
  },
  {
   "cell_type": "markdown",
   "id": "b549be9d-d027-475e-83cf-5e0c71661a48",
   "metadata": {},
   "source": [
    "\n",
    "💡 **Question 5**\n",
    "\n",
    "The **product sum** of two equal-length arrays a and b is equal to the sum of a[i] * b[i] for all 0 <= i < a.length (**0-indexed**).\n",
    "\n",
    "- For example, if a = [1,2,3,4] and b = [5,2,3,1], the **product sum** would be 1*5 + 2*2 + 3*3 + 4*1 = 22.\n",
    "\n",
    "Given two arrays nums1 and nums2 of length n, return *the **minimum product sum** if you are allowed to **rearrange** the **order** of the elements in* nums1.\n",
    "\n",
    "**Example 1:**\n",
    "\n",
    "**Input:** nums1 = [5,3,4,2], nums2 = [4,2,2,5]\n",
    "\n",
    "**Output:** 40\n",
    "\n",
    "**Explanation:**\n",
    "\n",
    "We can rearrange nums1 to become [3,5,4,2]. The product sum of [3,5,4,2] and [4,2,2,5] is 3*4 + 5*2 + 4*2 + 2*5 = 40.\n",
    "\n"
   ]
  },
  {
   "cell_type": "code",
   "execution_count": 9,
   "id": "87d23e28-fed3-4ade-9eb7-55098cb1366d",
   "metadata": {},
   "outputs": [
    {
     "name": "stdin",
     "output_type": "stream",
     "text": [
      "Enter the first array (space-separated):  5 3 4 2\n",
      "Enter the second array (space-separated):  4 2 2 5\n"
     ]
    },
    {
     "name": "stdout",
     "output_type": "stream",
     "text": [
      "nums1 = [5, 3, 4, 2]\n",
      "nums2 = [4, 2, 2, 5]\n",
      "Result: 40\n"
     ]
    }
   ],
   "source": [
    "def fun5(nums1, nums2):\n",
    "    \n",
    "    nums1.sort()\n",
    "    nums2.sort(reverse=True)\n",
    "    \n",
    "    product_sum = sum(nums1[i] * nums2[i] for i in range(len(nums1)))\n",
    "    \n",
    "    return product_sum\n",
    "\n",
    "nums1 = list(map(int, input(\"Enter the first array (space-separated): \").split()))\n",
    "nums2 = list(map(int, input(\"Enter the second array (space-separated): \").split()))\n",
    "\n",
    "print(\"nums1 =\", nums1)\n",
    "print(\"nums2 =\", nums2)\n",
    "\n",
    "result = fun5(nums1, nums2)\n",
    "print(\"Result:\", result)\n"
   ]
  },
  {
   "cell_type": "markdown",
   "id": "9e6d2610-b5ba-4189-9123-1226708f1699",
   "metadata": {},
   "source": [
    "\n",
    "💡 **Question 6**\n",
    "\n",
    "An integer array original is transformed into a **doubled** array changed by appending **twice the value** of every element in original, and then randomly **shuffling** the resulting array.\n",
    "\n",
    "Given an array changed, return original *if* changed *is a **doubled** array. If* changed *is not a **doubled** array, return an empty array. The elements in* original *may be returned in **any** order*.\n",
    "\n",
    "**Example 1:**\n",
    "\n",
    "**Input:** changed = [1,3,4,2,6,8]\n",
    "\n",
    "**Output:** [1,3,4]\n",
    "\n",
    "**Explanation:** One possible original array could be [1,3,4]:\n",
    "\n",
    "- Twice the value of 1 is 1 * 2 = 2.\n",
    "- Twice the value of 3 is 3 * 2 = 6.\n",
    "- Twice the value of 4 is 4 * 2 = 8.\n",
    "\n",
    "Other original arrays could be [4,3,1] or [3,1,4].\n"
   ]
  },
  {
   "cell_type": "code",
   "execution_count": 10,
   "id": "1f730c53-d110-46fb-98b3-16beb7bcc09d",
   "metadata": {},
   "outputs": [
    {
     "name": "stdin",
     "output_type": "stream",
     "text": [
      "Enter the array 'changed' (space-separated):  1 3 4 2 6 8\n"
     ]
    },
    {
     "name": "stdout",
     "output_type": "stream",
     "text": [
      "changed = [1, 3, 4, 2, 6, 8]\n",
      "Result: []\n"
     ]
    }
   ],
   "source": [
    "def fun6(changed):\n",
    "\n",
    "    count = {}\n",
    "    \n",
    "    for num in changed:\n",
    "        if num not in count:\n",
    "            count[num] = 0\n",
    "        count[num] += 1\n",
    "    \n",
    "    for num in count:\n",
    "    \n",
    "        if num * 2 in count and count[num] == count[num * 2]:\n",
    "            continue\n",
    "        else:\n",
    "            return []\n",
    "    \n",
    "    return list(count.keys())\n",
    "\n",
    "changed = list(map(int, input(\"Enter the array 'changed' (space-separated): \").split()))\n",
    "\n",
    "print(\"changed =\", changed)\n",
    "\n",
    "result = fun6(changed)\n",
    "print(\"Result:\", result)\n"
   ]
  },
  {
   "cell_type": "markdown",
   "id": "3bf87163-fe3e-4b48-a1bd-867602387f22",
   "metadata": {},
   "source": [
    "\n",
    "💡 **Question 7**\n",
    "\n",
    "Given a positive integer n, generate an n x n matrix filled with elements from 1 to n2 in spiral order.\n",
    "\n",
    "**Example 1:**\n",
    "\n",
    "![Screenshot 2023-05-29 005522.png](https://s3-us-west-2.amazonaws.com/secure.notion-static.com/00c8517f-7682-4e0b-bdd9-ce0e087f3f94/Screenshot_2023-05-29_005522.png)\n",
    "\n",
    "\n",
    "**Input:** n = 3\n",
    "\n",
    "**Output:** [[1,2,3],[8,9,4],[7,6,5]]\n"
   ]
  },
  {
   "cell_type": "code",
   "execution_count": 12,
   "id": "2d952130-89bf-4e27-8117-dec1a5398369",
   "metadata": {},
   "outputs": [
    {
     "name": "stdin",
     "output_type": "stream",
     "text": [
      "Enter the value of n:  3\n"
     ]
    },
    {
     "name": "stdout",
     "output_type": "stream",
     "text": [
      "n = 3\n",
      "Result: [[1, 2, 3], [8, 9, 4], [7, 6, 5]]\n"
     ]
    }
   ],
   "source": [
    "def fun7(n):\n",
    "    \n",
    "    matrix = [[0] * n for _ in range(n)]\n",
    "    \n",
    "    top = 0\n",
    "    bottom = n - 1\n",
    "    left = 0\n",
    "    right = n - 1\n",
    "    \n",
    "    num = 1\n",
    "    \n",
    "    while num <= n * n:\n",
    "    \n",
    "        for i in range(left, right + 1):\n",
    "            matrix[top][i] = num\n",
    "            num += 1\n",
    "        top += 1\n",
    "        \n",
    "        for i in range(top, bottom + 1):\n",
    "            matrix[i][right] = num\n",
    "            num += 1\n",
    "        right -= 1\n",
    "        \n",
    "        for i in range(right, left - 1, -1):\n",
    "            matrix[bottom][i] = num\n",
    "            num += 1\n",
    "        bottom -= 1\n",
    "        \n",
    "        for i in range(bottom, top - 1, -1):\n",
    "            matrix[i][left] = num\n",
    "            num += 1\n",
    "        left += 1\n",
    "    \n",
    "    return matrix\n",
    "\n",
    "n = int(input(\"Enter the value of n: \"))\n",
    "\n",
    "print(\"n =\", n)\n",
    "\n",
    "result = fun7(n)\n",
    "print(\"Result:\", result)\n"
   ]
  },
  {
   "cell_type": "markdown",
   "id": "925e00d1-7a18-45e5-b696-ad40dffb1394",
   "metadata": {},
   "source": [
    "\n",
    "💡 **Question 8**\n",
    "\n",
    "Given two [sparse matrices](https://en.wikipedia.org/wiki/Sparse_matrix) mat1 of size m x k and mat2 of size k x n, return the result of mat1 x mat2. You may assume that multiplication is always possible.\n",
    "\n",
    "**Example 1:**\n",
    "\n",
    "![Screenshot 2023-05-29 005557.png](https://s3-us-west-2.amazonaws.com/secure.notion-static.com/df57e793-12bf-4104-a17b-4e6a88dc7955/Screenshot_2023-05-29_005557.png)\n",
    "\n",
    "\n",
    "**Input:** mat1 = [[1,0,0],[-1,0,3]], mat2 = [[7,0,0],[0,0,0],[0,0,1]]\n",
    "\n",
    "**Output:**\n",
    "\n",
    "[[7,0,0],[-7,0,3]]\n"
   ]
  },
  {
   "cell_type": "code",
   "execution_count": 14,
   "id": "08d46e37-df26-4433-89a5-18e8e4e5ecbb",
   "metadata": {},
   "outputs": [
    {
     "name": "stdout",
     "output_type": "stream",
     "text": [
      "mat1 = [[1, 0, 0], [-1, 0, 3]]\n",
      "mat2 = [[7, 0, 0], [0, 0, 0], [0, 0, 1]]\n",
      "Result: [[7, 0, 0], [-7, 0, 3]]\n"
     ]
    }
   ],
   "source": [
    "def fun8(mat1, mat2):\n",
    "    \n",
    "    m = len(mat1)\n",
    "    k = len(mat1[0])\n",
    "    n = len(mat2[0])\n",
    "    \n",
    "    result = [[0] * n for _ in range(m)]\n",
    "    \n",
    "    for i in range(m):\n",
    "        for j in range(n):\n",
    "            for l in range(k):\n",
    "                result[i][j] += mat1[i][l] * mat2[l][j]\n",
    "    \n",
    "    return result\n",
    "\n",
    "mat1 = [[1, 0, 0], [-1, 0, 3]]\n",
    "mat2 = [[7, 0, 0], [0, 0, 0], [0, 0, 1]]\n",
    "\n",
    "print(\"mat1 =\", mat1)\n",
    "print(\"mat2 =\", mat2)\n",
    "\n",
    "result = fun8(mat1, mat2)\n",
    "print(\"Result:\", result)\n"
   ]
  },
  {
   "cell_type": "code",
   "execution_count": null,
   "id": "f3e49752-2b75-4b2a-94e3-888425ef4bac",
   "metadata": {},
   "outputs": [],
   "source": []
  }
 ],
 "metadata": {
  "kernelspec": {
   "display_name": "Python 3 (ipykernel)",
   "language": "python",
   "name": "python3"
  },
  "language_info": {
   "codemirror_mode": {
    "name": "ipython",
    "version": 3
   },
   "file_extension": ".py",
   "mimetype": "text/x-python",
   "name": "python",
   "nbconvert_exporter": "python",
   "pygments_lexer": "ipython3",
   "version": "3.10.8"
  }
 },
 "nbformat": 4,
 "nbformat_minor": 5
}
