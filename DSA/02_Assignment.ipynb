{
 "cells": [
  {
   "cell_type": "markdown",
   "id": "854be5d6-fc25-402c-83a3-240a0154b5f6",
   "metadata": {},
   "source": [
    "# Assignment 2 Questions - Arrays | DSA"
   ]
  },
  {
   "cell_type": "markdown",
   "id": "b38f9a77-4ca7-46b0-ab86-b4a3e1399764",
   "metadata": {},
   "source": [
    "Question 1\n",
    "Given an integer array nums of 2n integers, group these integers into n pairs (a1, b1), (a2, b2),\n",
    "..., (an, bn) such that the sum of min(ai, bi) for all i is maximized. Return the maximized sum.\n",
    "\n",
    "Example 1:\n",
    "Input: nums = [1,4,3,2]\n",
    "Output: 4\n",
    "\n",
    "Explanation: All possible pairings (ignoring the ordering of elements) are:\n",
    "1. (1, 4), (2, 3) -> min(1, 4) + min(2, 3) = 1 + 2 = 3\n",
    "2. (1, 3), (2, 4) -> min(1, 3) + min(2, 4) = 1 + 2 = 3\n",
    "3. (1, 2), (3, 4) -> min(1, 2) + min(3, 4) = 1 + 3 = 4\n",
    "\n",
    "So the maximum possible sum is 4"
   ]
  },
  {
   "cell_type": "code",
   "execution_count": 3,
   "id": "2425659b-22df-46da-93c3-785a5242a779",
   "metadata": {},
   "outputs": [
    {
     "name": "stdin",
     "output_type": "stream",
     "text": [
      "Enter the array of integers (space-separated):  1 4 2 3\n"
     ]
    },
    {
     "name": "stdout",
     "output_type": "stream",
     "text": [
      "Input: [1, 4, 2, 3]\n",
      "Output: 4\n"
     ]
    }
   ],
   "source": [
    "def fun1(nums):\n",
    "    nums.sort()\n",
    "    max_sum = 0\n",
    "\n",
    "    for i in range(0, len(nums), 2):\n",
    "        max_sum += nums[i]\n",
    "\n",
    "    return max_sum\n",
    "\n",
    "nums = input(\"Enter the array of integers (space-separated): \").split()\n",
    "nums = [int(num) for num in nums]\n",
    "\n",
    "print(\"Input:\", nums)\n",
    "\n",
    "result = fun1(nums)\n",
    "\n",
    "print(\"Output:\", result)\n"
   ]
  },
  {
   "cell_type": "markdown",
   "id": "87d13b09-ac4a-4b61-81b5-0be4ce302ecc",
   "metadata": {},
   "source": []
  },
  {
   "cell_type": "markdown",
   "id": "9a468f79-a416-4e6f-8eb0-6f26838e6040",
   "metadata": {},
   "source": [
    "Question 2\n",
    "Alice has n candies, where the ith candy is of type candyType[i]. Alice noticed that she started\n",
    "to gain weight, so she visited a doctor.\n",
    "\n",
    "The doctor advised Alice to only eat n / 2 of the candies she has (n is always even). Alice\n",
    "likes her candies very much, and she wants to eat the maximum number of different types of\n",
    "candies while still following the doctor's advice.\n",
    "\n",
    "Given the integer array candyType of length n, return the maximum number of different types\n",
    "of candies she can eat if she only eats n / 2 of them.\n",
    "\n",
    "Example 1:\n",
    "\n",
    "Input: candyType = [1,1,2,2,3,3]\n",
    "Output: 3\n",
    "\n",
    "Explanation: Alice can only eat 6 / 2 = 3 candies. Since there are only 3 types, she can eat one\n",
    "of each type."
   ]
  },
  {
   "cell_type": "code",
   "execution_count": 5,
   "id": "cd66b893-59b6-4c5a-b3e1-ff7dd2a3e837",
   "metadata": {},
   "outputs": [
    {
     "name": "stdin",
     "output_type": "stream",
     "text": [
      "Enter the candy types (space-separated):  1 1 2 2 3 3 \n"
     ]
    },
    {
     "name": "stdout",
     "output_type": "stream",
     "text": [
      "Input: [1, 1, 2, 2, 3, 3]\n",
      "Output: 3\n"
     ]
    }
   ],
   "source": [
    "def fun2(candyType):\n",
    "    max_types = len(set(candyType))\n",
    "    max_allowed = len(candyType) // 2\n",
    "    return min(max_types, max_allowed)\n",
    "\n",
    "candyType = input(\"Enter the candy types (space-separated): \").split()\n",
    "candyType = [int(candy) for candy in candyType]\n",
    "\n",
    "print(\"Input:\", candyType)\n",
    "\n",
    "result = fun2(candyType)\n",
    "\n",
    "print(\"Output:\", result)\n"
   ]
  },
  {
   "cell_type": "markdown",
   "id": "69b81e47-db22-42a1-80f5-8ede3519400a",
   "metadata": {},
   "source": [
    "Question 3\n",
    "\n",
    "We define a harmonious array as an array where the difference between its maximum value\n",
    "and its minimum value is exactly 1.\n",
    "\n",
    "Given an integer array nums, return the length of its longest harmonious subsequence\n",
    "among all its possible subsequences.\n",
    "\n",
    "A subsequence of an array is a sequence that can be derived from the array by deleting some\n",
    "or no elements without changing the order of the remaining elements.\n",
    "\n",
    "Example 1:\n",
    "\n",
    "Input: nums = [1,3,2,2,5,2,3,7]\n",
    "Output: 5\n",
    "\n",
    "Explanation: The longest harmonious subsequence is [3,2,2,2,3]."
   ]
  },
  {
   "cell_type": "code",
   "execution_count": 7,
   "id": "1515b411-378a-4e3f-8310-78937191e611",
   "metadata": {},
   "outputs": [
    {
     "name": "stdin",
     "output_type": "stream",
     "text": [
      "Enter the array of integers (space-separated):  1 3 2 2 5 2 3 7\n"
     ]
    },
    {
     "name": "stdout",
     "output_type": "stream",
     "text": [
      "Input: [1, 3, 2, 2, 5, 2, 3, 7]\n",
      "Output: 5\n"
     ]
    }
   ],
   "source": [
    "def fun3(nums):\n",
    "    num_counts = {}\n",
    "    max_length = 0\n",
    "\n",
    "    for num in nums:\n",
    "        num_counts[num] = num_counts.get(num, 0) + 1\n",
    "\n",
    "    for num in num_counts:\n",
    "        if num + 1 in num_counts:\n",
    "            max_length = max(max_length, num_counts[num] + num_counts[num + 1])\n",
    "\n",
    "    return max_length\n",
    "\n",
    "nums = input(\"Enter the array of integers (space-separated): \").split()\n",
    "nums = [int(num) for num in nums]\n",
    "\n",
    "print(\"Input:\", nums)\n",
    "\n",
    "result = fun3(nums)\n",
    "\n",
    "print(\"Output:\", result)\n"
   ]
  },
  {
   "cell_type": "markdown",
   "id": "3aca2169-fe4e-4554-abe4-95d7e6fd78e7",
   "metadata": {},
   "source": []
  },
  {
   "cell_type": "markdown",
   "id": "2a6d6ca0-0e4f-4d9c-ba76-1f1583e373dc",
   "metadata": {},
   "source": [
    "Question 4\n",
    "\n",
    "You have a long flowerbed in which some of the plots are planted, and some are not.\n",
    "However, flowers cannot be planted in adjacent plots.\n",
    "\n",
    "Given an integer array flowerbed containing 0's and 1's, where 0 means empty and 1 means\n",
    "not empty, and an integer n, return true if n new flowers can be planted in the flowerbed\n",
    "without violating the no-adjacent-flowers rule and false otherwise.\n",
    "\n",
    "Example 1:\n",
    "\n",
    "Input: flowerbed = [1,0,0,0,1], n = 1\n",
    "Output: true"
   ]
  },
  {
   "cell_type": "code",
   "execution_count": 9,
   "id": "893d9dd3-6634-4a1f-9de0-439f47b04009",
   "metadata": {},
   "outputs": [
    {
     "name": "stdin",
     "output_type": "stream",
     "text": [
      "Enter the flowerbed (0's and 1's, space-separated):  1 0 0 0 1\n",
      "Enter the number of new flowers:  1\n"
     ]
    },
    {
     "name": "stdout",
     "output_type": "stream",
     "text": [
      "Input - Flowerbed: [1, 0, 0, 0, 1]\n",
      "Input - Number of New Flowers: 1\n",
      "Output: True\n"
     ]
    }
   ],
   "source": [
    "def fun4(flowerbed, n):\n",
    "    count = 0\n",
    "    i = 0\n",
    "    while i < len(flowerbed):\n",
    "        if flowerbed[i] == 0 and (i == 0 or flowerbed[i-1] == 0) and (i == len(flowerbed)-1 or flowerbed[i+1] == 0):\n",
    "            flowerbed[i] = 1\n",
    "            count += 1\n",
    "        i += 1\n",
    "\n",
    "    return count >= n\n",
    "\n",
    "flowerbed = input(\"Enter the flowerbed (0's and 1's, space-separated): \").split()\n",
    "flowerbed = [int(plant) for plant in flowerbed]\n",
    "\n",
    "n = int(input(\"Enter the number of new flowers: \"))\n",
    "\n",
    "print(\"Input - Flowerbed:\", flowerbed)\n",
    "print(\"Input - Number of New Flowers:\", n)\n",
    "\n",
    "result = fun4(flowerbed, n)\n",
    "\n",
    "print(\"Output:\", result)\n"
   ]
  },
  {
   "cell_type": "markdown",
   "id": "fd27b2a4-1630-4dc9-b5ab-acfe67d43c57",
   "metadata": {},
   "source": []
  },
  {
   "cell_type": "markdown",
   "id": "123eb099-610e-45eb-b19a-bde122f6bee7",
   "metadata": {},
   "source": [
    "Question 5\n",
    "\n",
    "Given an integer array nums, find three numbers whose product is maximum and return the\n",
    "maximum product.\n",
    "\n",
    "Example 1:\n",
    "\n",
    "Input: nums = [1,2,3]\n",
    "\n",
    "Output: 6"
   ]
  },
  {
   "cell_type": "code",
   "execution_count": 11,
   "id": "2cd54776-15ae-4695-9869-45c53640e8da",
   "metadata": {},
   "outputs": [
    {
     "name": "stdin",
     "output_type": "stream",
     "text": [
      "Enter the array of integers (space-separated):  1 2 3\n"
     ]
    },
    {
     "name": "stdout",
     "output_type": "stream",
     "text": [
      "Input: [1, 2, 3]\n",
      "Output: 6\n"
     ]
    }
   ],
   "source": [
    "def fun5(nums):\n",
    "    nums.sort()\n",
    "    n = len(nums)\n",
    "    return max(nums[0] * nums[1] * nums[n - 1], nums[n - 1] * nums[n - 2] * nums[n - 3])\n",
    "\n",
    "nums = input(\"Enter the array of integers (space-separated): \").split()\n",
    "nums = [int(num) for num in nums]\n",
    "\n",
    "print(\"Input:\", nums)\n",
    "\n",
    "result = fun5(nums)\n",
    "\n",
    "print(\"Output:\", result)\n"
   ]
  },
  {
   "cell_type": "markdown",
   "id": "2628fa23-fc1c-4b10-b0ac-699f6ebd7838",
   "metadata": {},
   "source": []
  },
  {
   "cell_type": "markdown",
   "id": "305f61db-d58c-402d-b794-2b245e266103",
   "metadata": {},
   "source": [
    "Question 6\n",
    "\n",
    "Given an array of integers nums which is sorted in ascending order, and an integer target,\n",
    "write a function to search target in nums. If target exists, then return its index. Otherwise,\n",
    "return -1.\n",
    "\n",
    "You must write an algorithm with O(log n) runtime complexity.\n",
    "\n",
    "Input: nums = [-1,0,3,5,9,12], target = 9\n",
    "\n",
    "Output: 4\n",
    "\n",
    "Explanation: 9 exists in nums and its index is 4"
   ]
  },
  {
   "cell_type": "code",
   "execution_count": 13,
   "id": "37fae844-1a0f-4a91-b24d-ce5f2b59b8b0",
   "metadata": {},
   "outputs": [
    {
     "name": "stdin",
     "output_type": "stream",
     "text": [
      "Enter the array of integers (sorted in ascending order, space-separated):  -1 0 3 5 9 12\n",
      "Enter the target number:  9\n"
     ]
    },
    {
     "name": "stdout",
     "output_type": "stream",
     "text": [
      "Input - Array: [-1, 0, 3, 5, 9, 12]\n",
      "Input - Target: 9\n",
      "Output: 4\n"
     ]
    }
   ],
   "source": [
    "def fun6(nums, target):\n",
    "    left = 0\n",
    "    right = len(nums) - 1\n",
    "\n",
    "    while left <= right:\n",
    "        mid = left + (right - left) // 2\n",
    "        if nums[mid] == target:\n",
    "            return mid\n",
    "        elif nums[mid] < target:\n",
    "            left = mid + 1\n",
    "        else:\n",
    "            right = mid - 1\n",
    "\n",
    "    return -1\n",
    "\n",
    "nums = input(\"Enter the array of integers (sorted in ascending order, space-separated): \").split()\n",
    "nums = [int(num) for num in nums]\n",
    "target = int(input(\"Enter the target number: \"))\n",
    "\n",
    "print(\"Input - Array:\", nums)\n",
    "print(\"Input - Target:\", target)\n",
    "\n",
    "result = fun6(nums, target)\n",
    "\n",
    "print(\"Output:\", result)\n"
   ]
  },
  {
   "cell_type": "markdown",
   "id": "cf7862c9-4dc0-45ef-b781-a965e871d650",
   "metadata": {},
   "source": []
  },
  {
   "cell_type": "markdown",
   "id": "3f82660b-cfbd-43c0-bebc-44ae1e93d852",
   "metadata": {},
   "source": [
    "Question 7\n",
    "\n",
    "An array is monotonic if it is either monotone increasing or monotone decreasing.\n",
    "An array nums is monotone increasing if for all i <= j, nums[i] <= nums[j]. An array nums is\n",
    "monotone decreasing if for all i <= j, nums[i] >= nums[j].\n",
    "\n",
    "Given an integer array nums, return true if the given array is monotonic, or false otherwise.\n",
    "\n",
    "Example 1:\n",
    "\n",
    "Input: nums = [1,2,2,3]\n",
    "\n",
    "Output: true"
   ]
  },
  {
   "cell_type": "code",
   "execution_count": 15,
   "id": "b888f181-48e2-4e61-93d3-703c7a398612",
   "metadata": {},
   "outputs": [
    {
     "name": "stdin",
     "output_type": "stream",
     "text": [
      "Enter the array of integers (space-separated):  1 2 2 3\n"
     ]
    },
    {
     "name": "stdout",
     "output_type": "stream",
     "text": [
      "Input: [1, 2, 2, 3]\n",
      "Output: True\n"
     ]
    }
   ],
   "source": [
    "def fun7(nums):\n",
    "    is_increasing = True\n",
    "    is_decreasing = True\n",
    "\n",
    "    for i in range(1, len(nums)):\n",
    "        if nums[i] < nums[i - 1]:\n",
    "            is_increasing = False\n",
    "        if nums[i] > nums[i - 1]:\n",
    "            is_decreasing = False\n",
    "\n",
    "    return is_increasing or is_decreasing\n",
    "\n",
    "nums = input(\"Enter the array of integers (space-separated): \").split()\n",
    "nums = [int(num) for num in nums]\n",
    "\n",
    "print(\"Input:\", nums)\n",
    "\n",
    "result = fun7(nums)\n",
    "\n",
    "print(\"Output:\", result)\n"
   ]
  },
  {
   "cell_type": "markdown",
   "id": "40f6f7da-d904-4d58-a468-9b725373294b",
   "metadata": {},
   "source": []
  },
  {
   "cell_type": "markdown",
   "id": "6830738c-9ce4-4404-9b1f-a1459223c53c",
   "metadata": {},
   "source": [
    "Question 8\n",
    "\n",
    "You are given an integer array nums and an integer k.\n",
    "\n",
    "In one operation, you can choose any index i where 0 <= i < nums.length and change nums[i]\n",
    "to nums[i] + x where x is an integer from the range [-k, k]. You can apply this operation at\n",
    "most once for each index i.\n",
    "\n",
    "The score of nums is the difference between the maximum and minimum elements in nums.\n",
    "\n",
    "Return the minimum score of nums after applying the mentioned operation at most once for\n",
    "each index in it.\n",
    "\n",
    "Example 1:\n",
    "\n",
    "Input: nums = [1], k = 0\n",
    "\n",
    "Output: 0\n",
    "\n",
    "Explanation: The score is max(nums) - min(nums) = 1 - 1 = 0."
   ]
  },
  {
   "cell_type": "code",
   "execution_count": 17,
   "id": "afb20eae-55b4-47a4-bd2d-78c7ca922742",
   "metadata": {},
   "outputs": [
    {
     "name": "stdin",
     "output_type": "stream",
     "text": [
      "Enter the array of integers (space-separated):  1\n",
      "Enter the value of k:  0\n"
     ]
    },
    {
     "name": "stdout",
     "output_type": "stream",
     "text": [
      "Input - Array: [1]\n",
      "Input - k: 0\n",
      "Output: 0\n"
     ]
    }
   ],
   "source": [
    "def fun8(nums, k):\n",
    "    min_val = min(nums)\n",
    "    max_val = max(nums)\n",
    "\n",
    "    if min_val + k >= max_val - k:\n",
    "        return 0\n",
    "    else:\n",
    "        return (max_val - k) - (min_val + k)\n",
    "\n",
    "nums = input(\"Enter the array of integers (space-separated): \").split()\n",
    "nums = [int(num) for num in nums]\n",
    "k = int(input(\"Enter the value of k: \"))\n",
    "\n",
    "print(\"Input - Array:\", nums)\n",
    "print(\"Input - k:\", k)\n",
    "\n",
    "result = fun8(nums, k)\n",
    "\n",
    "print(\"Output:\", result)\n"
   ]
  },
  {
   "cell_type": "code",
   "execution_count": null,
   "id": "8b9a605d-0dfe-4f58-84a8-5d19b4960d96",
   "metadata": {},
   "outputs": [],
   "source": []
  }
 ],
 "metadata": {
  "kernelspec": {
   "display_name": "Python 3 (ipykernel)",
   "language": "python",
   "name": "python3"
  },
  "language_info": {
   "codemirror_mode": {
    "name": "ipython",
    "version": 3
   },
   "file_extension": ".py",
   "mimetype": "text/x-python",
   "name": "python",
   "nbconvert_exporter": "python",
   "pygments_lexer": "ipython3",
   "version": "3.10.8"
  }
 },
 "nbformat": 4,
 "nbformat_minor": 5
}
