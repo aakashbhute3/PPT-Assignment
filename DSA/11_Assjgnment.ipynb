{
 "cells": [
  {
   "cell_type": "markdown",
   "id": "5f275c46-38bd-4b46-a152-b404d53ce2d1",
   "metadata": {},
   "source": [
    "# Assignment Questions 11"
   ]
  },
  {
   "cell_type": "markdown",
   "id": "e2dfe051-ee10-4e48-b6fb-911a87b40cc4",
   "metadata": {},
   "source": [
    "\n",
    "💡 **Question 1**\n",
    "\n",
    "Given a non-negative integer `x`, return *the square root of* `x` *rounded down to the nearest integer*. The returned integer should be **non-negative** as well.\n",
    "\n",
    "You **must not use** any built-in exponent function or operator.\n",
    "\n",
    "- For example, do not use `pow(x, 0.5)` in c++ or `x ** 0.5` in python.\n",
    "\n",
    "**Example 1:**\n",
    "\n",
    "Input: x = 4\n",
    "\n",
    "Output: 2\n",
    "\n",
    "Explanation: The square root of 4 is 2, so we return 2.\n",
    "\n",
    "\n"
   ]
  },
  {
   "cell_type": "code",
   "execution_count": 1,
   "id": "d40d86ca-edb4-422b-8e0a-ee638297b23c",
   "metadata": {},
   "outputs": [
    {
     "name": "stdin",
     "output_type": "stream",
     "text": [
      "Enter a non-negative integer:  4\n"
     ]
    },
    {
     "name": "stdout",
     "output_type": "stream",
     "text": [
      "Input: 4\n",
      "Square root: 2\n"
     ]
    }
   ],
   "source": [
    "def fun1(x):\n",
    "    if x == 0:\n",
    "        return 0\n",
    "    \n",
    "    left = 1\n",
    "    right = x\n",
    "    \n",
    "    while left <= right:\n",
    "        mid = (left + right) // 2\n",
    "        if mid * mid == x:\n",
    "            return mid\n",
    "        elif mid * mid < x:\n",
    "            left = mid + 1\n",
    "        else:\n",
    "            right = mid - 1\n",
    "    \n",
    "    return right\n",
    "\n",
    "x = int(input(\"Enter a non-negative integer: \"))\n",
    "result = fun1(x)\n",
    "print(\"Input:\", x)\n",
    "print(\"Square root:\", result)\n"
   ]
  },
  {
   "cell_type": "markdown",
   "id": "7ba70d5e-661d-4dba-b9f4-499c76b1caec",
   "metadata": {},
   "source": [
    "\n",
    "💡 **Question 2**\n",
    "\n",
    "A peak element is an element that is strictly greater than its neighbors.\n",
    "\n",
    "Given a **0-indexed** integer array `nums`, find a peak element, and return its index. If the array contains multiple peaks, return the index to **any of the peaks**.\n",
    "\n",
    "You may imagine that `nums[-1] = nums[n] = -∞`. In other words, an element is always considered to be strictly greater than a neighbor that is outside the array.\n",
    "\n",
    "You must write an algorithm that runs in `O(log n)` time.\n",
    "\n",
    "**Example 1:**\n",
    "\n",
    "Input: nums = [1,2,3,1]\n",
    "\n",
    "Output: 2\n",
    "\n",
    "Explanation: 3 is a peak element and your function should return the index number 2."
   ]
  },
  {
   "cell_type": "code",
   "execution_count": 3,
   "id": "dcdc0392-ddcc-4e66-b71b-edd50c3cc73a",
   "metadata": {},
   "outputs": [
    {
     "name": "stdin",
     "output_type": "stream",
     "text": [
      "Enter the elements of the array (space-separated):  1 2 3 1\n"
     ]
    },
    {
     "name": "stdout",
     "output_type": "stream",
     "text": [
      "Input: [1, 2, 3, 1]\n",
      "Output: 2\n"
     ]
    }
   ],
   "source": [
    "def findPeakElement(nums):\n",
    "    left = 0\n",
    "    right = len(nums) - 1\n",
    "    \n",
    "    while left < right:\n",
    "        mid = left + (right - left) // 2\n",
    "        \n",
    "        if nums[mid] < nums[mid + 1]:\n",
    "            left = mid + 1\n",
    "        else:\n",
    "            right = mid\n",
    "    \n",
    "    return left\n",
    "\n",
    "def fun2(nums):\n",
    "    peak_index = findPeakElement(nums)\n",
    "    return peak_index\n",
    "\n",
    "nums = list(map(int, input(\"Enter the elements of the array (space-separated): \").split()))\n",
    "result = fun2(nums)\n",
    "\n",
    "print(\"Input:\", nums)\n",
    "print(\"Output:\", result)\n"
   ]
  },
  {
   "cell_type": "markdown",
   "id": "32589ed2-ba72-4796-86b8-9ce1c9b8d294",
   "metadata": {},
   "source": [
    "\n",
    "💡 **Question 3**\n",
    "\n",
    "****\n",
    "\n",
    "Given an array `nums` containing `n` distinct numbers in the range `[0, n]`, return *the only number in the range that is missing from the array.*\n",
    "\n",
    "**Example 1:**\n",
    "\n",
    "Input: nums = [3,0,1]\n",
    "\n",
    "Output: 2\n",
    "\n",
    "Explanation: n = 3 since there are 3 numbers, so all numbers are in the range [0,3]. 2 is the missing number in the range since it does not appear in nums.\n"
   ]
  },
  {
   "cell_type": "code",
   "execution_count": 4,
   "id": "3d54a539-fb93-4d9d-a3f0-e143a7cbb126",
   "metadata": {},
   "outputs": [
    {
     "name": "stdin",
     "output_type": "stream",
     "text": [
      "Enter the numbers in the array (space-separated):  3 0 1\n"
     ]
    },
    {
     "name": "stdout",
     "output_type": "stream",
     "text": [
      "Input: [3, 0, 1]\n",
      "Output: 2\n"
     ]
    }
   ],
   "source": [
    "def fun3(nums):\n",
    "    n = len(nums)\n",
    "    expected_sum = n * (n + 1) // 2\n",
    "    actual_sum = sum(nums)\n",
    "    missing_number = expected_sum - actual_sum\n",
    "    return missing_number\n",
    "\n",
    "nums = list(map(int, input(\"Enter the numbers in the array (space-separated): \").split()))\n",
    "result = fun3(nums)\n",
    "\n",
    "print(\"Input:\", nums)\n",
    "print(\"Output:\", result)\n"
   ]
  },
  {
   "cell_type": "markdown",
   "id": "d0cc3291-9b7d-4c3f-bc61-cf5be8103a00",
   "metadata": {},
   "source": [
    "\n",
    "💡 **Question 4**\n",
    "\n",
    "Given an array of integers `nums` containing `n + 1` integers where each integer is in the range `[1, n]` inclusive.\n",
    "\n",
    "There is only **one repeated number** in `nums`, return *this repeated number*.\n",
    "\n",
    "You must solve the problem **without** modifying the array `nums` and uses only constant extra space.\n",
    "\n",
    "**Example 1:**\n",
    "\n",
    "Input: nums = [1,3,4,2,2]\n",
    "\n",
    "Output: 2\n",
    "\n"
   ]
  },
  {
   "cell_type": "code",
   "execution_count": 6,
   "id": "657bf83e-32dd-4539-8665-d884122212d2",
   "metadata": {},
   "outputs": [
    {
     "name": "stdin",
     "output_type": "stream",
     "text": [
      "Enter the numbers in the array (space-separated):  1 3 4 2 2\n"
     ]
    },
    {
     "name": "stdout",
     "output_type": "stream",
     "text": [
      "Input: [1, 3, 4, 2, 2]\n",
      "Output: 2\n"
     ]
    }
   ],
   "source": [
    "def findDuplicate(nums):\n",
    "    slow = nums[0]\n",
    "    fast = nums[0]\n",
    "    \n",
    "    while True:\n",
    "        slow = nums[slow]\n",
    "        fast = nums[nums[fast]]\n",
    "        if slow == fast:\n",
    "            break\n",
    "    \n",
    "    slow = nums[0]\n",
    "    while slow != fast:\n",
    "        slow = nums[slow]\n",
    "        fast = nums[fast]\n",
    "    \n",
    "    return slow\n",
    "\n",
    "def fun4(nums):\n",
    "    repeated_number = findDuplicate(nums)\n",
    "    return repeated_number\n",
    "\n",
    "nums = list(map(int, input(\"Enter the numbers in the array (space-separated): \").split()))\n",
    "result = fun4(nums)\n",
    "\n",
    "print(\"Input:\", nums)\n",
    "print(\"Output:\", result)\n"
   ]
  },
  {
   "cell_type": "markdown",
   "id": "87bd0ee8-1ec6-41f7-9194-93b20336d4eb",
   "metadata": {},
   "source": [
    "\n",
    "💡 **Question 5**\n",
    "\n",
    "Given two integer arrays `nums1` and `nums2`, return *an array of their intersection*. Each element in the result must be **unique** and you may return the result in **any order**.\n",
    "\n",
    "**Example 1:**\n",
    "\n",
    "Input: nums1 = [1,2,2,1], nums2 = [2,2]\n",
    "\n",
    "Output: [2]\n",
    "\n"
   ]
  },
  {
   "cell_type": "code",
   "execution_count": 7,
   "id": "ca97026d-a29d-4c87-8c8d-c27fa9e53300",
   "metadata": {},
   "outputs": [
    {
     "name": "stdin",
     "output_type": "stream",
     "text": [
      "Enter the elements of the first array (space-separated):  1 2 2 1\n",
      "Enter the elements of the second array (space-separated):  2 2\n"
     ]
    },
    {
     "name": "stdout",
     "output_type": "stream",
     "text": [
      "Input:\n",
      "nums1: [1, 2, 2, 1]\n",
      "nums2: [2, 2]\n",
      "Output: [2]\n"
     ]
    }
   ],
   "source": [
    "def fun5(nums1, nums2):\n",
    "    set1 = set(nums1)\n",
    "    set2 = set(nums2)\n",
    "    intersection = set1.intersection(set2)\n",
    "    return list(intersection)\n",
    "\n",
    "nums1 = list(map(int, input(\"Enter the elements of the first array (space-separated): \").split()))\n",
    "nums2 = list(map(int, input(\"Enter the elements of the second array (space-separated): \").split()))\n",
    "result = fun5(nums1, nums2)\n",
    "\n",
    "print(\"Input:\")\n",
    "print(\"nums1:\", nums1)\n",
    "print(\"nums2:\", nums2)\n",
    "print(\"Output:\", result)\n"
   ]
  },
  {
   "cell_type": "markdown",
   "id": "3cb6d295-d1ab-4d9a-b0c3-1d1a64c63e0d",
   "metadata": {},
   "source": [
    "💡 **Question 6**\n",
    "\n",
    "Suppose an array of length `n` sorted in ascending order is **rotated** between `1` and `n` times. For example, the array `nums = [0,1,2,4,5,6,7]` might become:\n",
    "\n",
    "- `[4,5,6,7,0,1,2]` if it was rotated `4` times.\n",
    "- `[0,1,2,4,5,6,7]` if it was rotated `7` times.\n",
    "\n",
    "Notice that **rotating** an array `[a[0], a[1], a[2], ..., a[n-1]]` 1 time results in the array `[a[n-1], a[0], a[1], a[2], ..., a[n-2]]`.\n",
    "\n",
    "Given the sorted rotated array `nums` of **unique** elements, return *the minimum element of this array*.\n",
    "\n",
    "You must write an algorithm that runs in `O(log n) time.`\n",
    "\n",
    "**Example 1:**\n",
    "Input: nums = [3,4,5,1,2]\n",
    "\n",
    "Output: 1\n",
    "\n",
    "Explanation: The original array was [1,2,3,4,5] rotated 3 times.\n"
   ]
  },
  {
   "cell_type": "code",
   "execution_count": 8,
   "id": "113cfbb1-9d66-41c6-938e-aaddb684fc37",
   "metadata": {},
   "outputs": [
    {
     "name": "stdin",
     "output_type": "stream",
     "text": [
      "Enter the elements of the array (space-separated):  3 4 5 1 2\n"
     ]
    },
    {
     "name": "stdout",
     "output_type": "stream",
     "text": [
      "Input: [3, 4, 5, 1, 2]\n",
      "Output: 1\n"
     ]
    }
   ],
   "source": [
    "def fun61(nums):\n",
    "    left = 0\n",
    "    right = len(nums) - 1\n",
    "    \n",
    "    while left < right:\n",
    "        mid = left + (right - left) // 2\n",
    "        \n",
    "        if nums[mid] > nums[right]:\n",
    "            left = mid + 1\n",
    "        else:\n",
    "            right = mid\n",
    "    \n",
    "    return nums[left]\n",
    "\n",
    "def fun6(nums):\n",
    "    minimum_element = fun61(nums)\n",
    "    return minimum_element\n",
    "\n",
    "nums = list(map(int, input(\"Enter the elements of the array (space-separated): \").split()))\n",
    "result = fun6(nums)\n",
    "\n",
    "print(\"Input:\", nums)\n",
    "print(\"Output:\", result)\n"
   ]
  },
  {
   "cell_type": "markdown",
   "id": "0ab65bc1-b513-423e-a414-65290503b317",
   "metadata": {},
   "source": [
    "\n",
    "💡 **Question 7**\n",
    "\n",
    "Given an array of integers `nums` sorted in non-decreasing order, find the starting and ending position of a given `target` value.\n",
    "\n",
    "If `target` is not found in the array, return `[-1, -1]`.\n",
    "\n",
    "You must write an algorithm with `O(log n)` runtime complexity.\n",
    "\n",
    "**Example 1:**\n",
    "Input: nums = [5,7,7,8,8,10], \n",
    "\n",
    "target = 8\n",
    "\n",
    "Output: [3,4]\n",
    "\n"
   ]
  },
  {
   "cell_type": "code",
   "execution_count": 9,
   "id": "7fc1f041-a0f4-4783-a7ca-2f2c3f5c3de3",
   "metadata": {},
   "outputs": [
    {
     "name": "stdin",
     "output_type": "stream",
     "text": [
      "Enter the elements of the array (space-separated):  5 7 7 8 8 10\n",
      "Enter the target value:  8\n"
     ]
    },
    {
     "name": "stdout",
     "output_type": "stream",
     "text": [
      "Input:\n",
      "nums: [5, 7, 7, 8, 8, 10]\n",
      "target: 8\n",
      "Output: [3, 4]\n"
     ]
    }
   ],
   "source": [
    "def fun72(nums, target):\n",
    "    left = 0\n",
    "    right = len(nums) - 1\n",
    "    result = -1\n",
    "\n",
    "    while left <= right:\n",
    "        mid = left + (right - left) // 2\n",
    "\n",
    "        if nums[mid] >= target:\n",
    "            right = mid - 1\n",
    "            if nums[mid] == target:\n",
    "                result = mid\n",
    "        else:\n",
    "            left = mid + 1\n",
    "\n",
    "    return result\n",
    "\n",
    "def fun73(nums, target):\n",
    "    left = 0\n",
    "    right = len(nums) - 1\n",
    "    result = -1\n",
    "\n",
    "    while left <= right:\n",
    "        mid = left + (right - left) // 2\n",
    "\n",
    "        if nums[mid] <= target:\n",
    "            left = mid + 1\n",
    "            if nums[mid] == target:\n",
    "                result = mid\n",
    "        else:\n",
    "            right = mid - 1\n",
    "\n",
    "    return result\n",
    "\n",
    "def fun71(nums, target):\n",
    "    first_index = fun72(nums, target)\n",
    "    last_index = fun73(nums, target)\n",
    "\n",
    "    return [first_index, last_index]\n",
    "\n",
    "nums = list(map(int, input(\"Enter the elements of the array (space-separated): \").split()))\n",
    "target = int(input(\"Enter the target value: \"))\n",
    "result = fun71(nums, target)\n",
    "\n",
    "print(\"Input:\")\n",
    "print(\"nums:\", nums)\n",
    "print(\"target:\", target)\n",
    "print(\"Output:\", result)\n"
   ]
  },
  {
   "cell_type": "markdown",
   "id": "3f8d1197-5447-4bbd-986c-52576b1c7b63",
   "metadata": {},
   "source": [
    "\n",
    "💡 **Question 8**\n",
    "\n",
    "Given two integer arrays `nums1` and `nums2`, return *an array of their intersection*. Each element in the result must appear as many times as it shows in both arrays and you may return the result in **any order**.\n",
    "\n",
    "**Example 1:**\n",
    "\n",
    "Input: nums1 = [1,2,2,1], nums2 = [2,2]\n",
    "\n",
    "Output: [2,2]\n",
    "\n"
   ]
  },
  {
   "cell_type": "code",
   "execution_count": 11,
   "id": "024062d5-5463-4382-9aec-234e18e482ba",
   "metadata": {},
   "outputs": [
    {
     "name": "stdin",
     "output_type": "stream",
     "text": [
      "Enter the elements of nums1 (space-separated):  1 2 2 1\n",
      "Enter the elements of nums2 (space-separated):  2 2\n"
     ]
    },
    {
     "name": "stdout",
     "output_type": "stream",
     "text": [
      "Input:\n",
      "nums1: [1, 2, 2, 1]\n",
      "nums2: [2, 2]\n",
      "Output: [2, 2]\n"
     ]
    }
   ],
   "source": [
    "def fun8(nums1, nums2):\n",
    "    \n",
    "    count1 = {}\n",
    "    count2 = {}\n",
    "    \n",
    "   \n",
    "    for num in nums1:\n",
    "        count1[num] = count1.get(num, 0) + 1\n",
    "    \n",
    "   \n",
    "    for num in nums2:\n",
    "        count2[num] = count2.get(num, 0) + 1\n",
    "    \n",
    "   \n",
    "    intersection = []\n",
    "    for num in count1:\n",
    "        if num in count2:\n",
    "            intersection.extend([num] * min(count1[num], count2[num]))\n",
    "    \n",
    "    return intersection\n",
    "\n",
    "nums1 = list(map(int, input(\"Enter the elements of nums1 (space-separated): \").split()))\n",
    "nums2 = list(map(int, input(\"Enter the elements of nums2 (space-separated): \").split()))\n",
    "result = fun8(nums1, nums2)\n",
    "\n",
    "print(\"Input:\")\n",
    "print(\"nums1:\", nums1)\n",
    "print(\"nums2:\", nums2)\n",
    "print(\"Output:\", result)\n"
   ]
  },
  {
   "cell_type": "code",
   "execution_count": null,
   "id": "921eba59-84c8-47fa-890b-959386702e75",
   "metadata": {},
   "outputs": [],
   "source": []
  }
 ],
 "metadata": {
  "kernelspec": {
   "display_name": "Python 3 (ipykernel)",
   "language": "python",
   "name": "python3"
  },
  "language_info": {
   "codemirror_mode": {
    "name": "ipython",
    "version": 3
   },
   "file_extension": ".py",
   "mimetype": "text/x-python",
   "name": "python",
   "nbconvert_exporter": "python",
   "pygments_lexer": "ipython3",
   "version": "3.10.8"
  }
 },
 "nbformat": 4,
 "nbformat_minor": 5
}
