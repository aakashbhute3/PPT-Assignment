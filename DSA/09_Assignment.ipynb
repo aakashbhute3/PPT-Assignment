{
 "cells": [
  {
   "cell_type": "markdown",
   "id": "ac4c3f4c-fc72-4436-9181-25d70231e7f2",
   "metadata": {},
   "source": [
    "# Assignment Questions 9"
   ]
  },
  {
   "cell_type": "markdown",
   "id": "279fb5f8-737e-4c57-be3a-984c97c38b15",
   "metadata": {},
   "source": [
    "\n",
    "💡 **Question 1**\n",
    "\n",
    "Given an integer `n`, return *`true` if it is a power of two. Otherwise, return `false`*.\n",
    "\n",
    "An integer `n` is a power of two, if there exists an integer `x` such that `n == 2x`.\n",
    "\n",
    "**Example 1:**\n",
    "Input: n = 1 \n",
    "\n",
    "Output: true\n",
    "\n",
    "**Example 2:**\n",
    "Input: n = 16 \n",
    "\n",
    "Output: true\n",
    "\n",
    "**Example 3:**\n",
    "Input: n = 3 \n",
    "\n",
    "Output: false\n"
   ]
  },
  {
   "cell_type": "code",
   "execution_count": 1,
   "id": "ce2e7846-3603-43c9-ae7b-b1d1dbe0868a",
   "metadata": {},
   "outputs": [
    {
     "name": "stdin",
     "output_type": "stream",
     "text": [
      "Enter the integer:  1\n"
     ]
    },
    {
     "name": "stdout",
     "output_type": "stream",
     "text": [
      "Input:\n",
      "n = 1\n",
      "Output:\n",
      "True\n"
     ]
    }
   ],
   "source": [
    "def fun1(n):\n",
    "    if n <= 0:\n",
    "        return False\n",
    "    return (n & (n - 1)) == 0\n",
    "\n",
    "n = int(input(\"Enter the integer: \"))\n",
    "\n",
    "print(\"Input:\")\n",
    "print(\"n =\", n)\n",
    "\n",
    "output = fun1(n)\n",
    "print(\"Output:\")\n",
    "print(output)\n"
   ]
  },
  {
   "cell_type": "markdown",
   "id": "28560930-0920-4f7e-a93a-770e505db254",
   "metadata": {},
   "source": [
    "\n",
    "💡 **Question 2**\n",
    "\n",
    "Given a number n, find the sum of the first natural numbers.\n",
    "\n",
    "**Example 1:**\n",
    "\n",
    "Input: n = 3 \n",
    "\n",
    "Output: 6\n",
    "\n",
    "**Example 2:**\n",
    "\n",
    "Input  : 5 \n",
    "\n",
    "Output : 15\n",
    "\n"
   ]
  },
  {
   "cell_type": "code",
   "execution_count": 2,
   "id": "ba2398af-2833-47c4-ac08-21a189d1d042",
   "metadata": {},
   "outputs": [
    {
     "name": "stdin",
     "output_type": "stream",
     "text": [
      "Enter the number:  5\n"
     ]
    },
    {
     "name": "stdout",
     "output_type": "stream",
     "text": [
      "Input:\n",
      "n = 5\n",
      "Output:\n",
      "15\n"
     ]
    }
   ],
   "source": [
    "def fun2(n):\n",
    "    return (n * (n + 1)) // 2\n",
    "\n",
    "n = int(input(\"Enter the number: \"))\n",
    "\n",
    "print(\"Input:\")\n",
    "print(\"n =\", n)\n",
    "\n",
    "output = fun2(n)\n",
    "print(\"Output:\")\n",
    "print(output)\n"
   ]
  },
  {
   "cell_type": "markdown",
   "id": "850afcdc-b5ff-4aa5-81a7-4d860feb2a84",
   "metadata": {},
   "source": [
    "\n",
    "💡 **Question 3**\n",
    "\n",
    "****Given a positive integer, N. Find the factorial of N. \n",
    "\n",
    "**Example 1:**\n",
    "\n",
    "Input: N = 5 \n",
    "\n",
    "Output: 120\n",
    "\n",
    "**Example 2:**\n",
    "\n",
    "Input: N = 4\n",
    "\n",
    "Output: 24\n",
    "\n"
   ]
  },
  {
   "cell_type": "code",
   "execution_count": 3,
   "id": "52696f9d-8579-4a89-92d1-2728eaf830d3",
   "metadata": {},
   "outputs": [
    {
     "name": "stdin",
     "output_type": "stream",
     "text": [
      "Enter the positive integer:  4\n"
     ]
    },
    {
     "name": "stdout",
     "output_type": "stream",
     "text": [
      "Input:\n",
      "N = 4\n",
      "Output:\n",
      "24\n"
     ]
    }
   ],
   "source": [
    "def fun3(N):\n",
    "    factorial = 1\n",
    "    for i in range(1, N + 1):\n",
    "        factorial *= i\n",
    "    return factorial\n",
    "\n",
    "N = int(input(\"Enter the positive integer: \"))\n",
    "\n",
    "print(\"Input:\")\n",
    "print(\"N =\", N)\n",
    "\n",
    "output = fun3(N)\n",
    "print(\"Output:\")\n",
    "print(output)\n"
   ]
  },
  {
   "cell_type": "markdown",
   "id": "a6ca9478-3052-4ba3-ab41-abf427111a7e",
   "metadata": {},
   "source": [
    "\n",
    "💡 **Question 4**\n",
    "\n",
    "Given a number N and a power P, the task is to find the exponent of this number raised to the given power, i.e. N^P.\n",
    "\n",
    "**Example 1 :** \n",
    "\n",
    "Input: N = 5, P = 2\n",
    "\n",
    "Output: 25\n",
    "\n",
    "**Example 2 :**\n",
    "Input: N = 2, P = 5\n",
    "\n",
    "Output: 32\n",
    "\n"
   ]
  },
  {
   "cell_type": "code",
   "execution_count": 5,
   "id": "4f144f3f-4f7a-4d02-9780-65c629dbac3f",
   "metadata": {},
   "outputs": [
    {
     "name": "stdin",
     "output_type": "stream",
     "text": [
      "Enter the number:  5\n",
      "Enter the power:  2\n"
     ]
    },
    {
     "name": "stdout",
     "output_type": "stream",
     "text": [
      "Input:\n",
      "N = 5\n",
      "P = 2\n",
      "Output:\n",
      "25\n"
     ]
    }
   ],
   "source": [
    "def fun4(N, P):\n",
    "    result = 1\n",
    "    for _ in range(P):\n",
    "        result *= N\n",
    "    return result\n",
    "\n",
    "N = int(input(\"Enter the number: \"))\n",
    "P = int(input(\"Enter the power: \"))\n",
    "\n",
    "print(\"Input:\")\n",
    "print(\"N =\", N)\n",
    "print(\"P =\", P)\n",
    "\n",
    "output = fun4(N, P)\n",
    "print(\"Output:\")\n",
    "print(output)\n"
   ]
  },
  {
   "cell_type": "markdown",
   "id": "6d555e32-6576-4b8c-818e-7ab4484ce915",
   "metadata": {},
   "source": [
    "\n",
    "💡 **Question 5**\n",
    "\n",
    "Given an array of integers **arr**, the task is to find maximum element of that array using recursion.\n",
    "\n",
    "**Example 1:**\n",
    "\n",
    "Input: arr = {1, 4, 3, -5, -4, 8, 6};\n",
    "Output: 8\n",
    "\n",
    "**Example 2:**\n",
    "\n",
    "Input: arr = {1, 4, 45, 6, 10, -8};\n",
    "Output: 45\n",
    "\n"
   ]
  },
  {
   "cell_type": "code",
   "execution_count": 6,
   "id": "8f6b8de5-276f-4c8a-8000-f44b4ac8ec8d",
   "metadata": {},
   "outputs": [
    {
     "name": "stdin",
     "output_type": "stream",
     "text": [
      "Enter the array of integers:  1 4 3 -5 -4 8 6\n"
     ]
    },
    {
     "name": "stdout",
     "output_type": "stream",
     "text": [
      "Input:\n",
      "arr = [1, 4, 3, -5, -4, 8, 6]\n",
      "Output:\n",
      "8\n"
     ]
    }
   ],
   "source": [
    "def fun5(arr):\n",
    "    if len(arr) == 1:\n",
    "        return arr[0]\n",
    "    else:\n",
    "        return max(arr[0], fun5(arr[1:]))\n",
    "\n",
    "arr = list(map(int, input(\"Enter the array of integers: \").split()))\n",
    "\n",
    "print(\"Input:\")\n",
    "print(\"arr =\", arr)\n",
    "\n",
    "output = fun5(arr)\n",
    "print(\"Output:\")\n",
    "print(output)\n"
   ]
  },
  {
   "cell_type": "markdown",
   "id": "30b5a215-ef9e-455e-9781-667cd0b68981",
   "metadata": {},
   "source": [
    "\n",
    "💡 **Question 6**\n",
    "\n",
    "Given first term (a), common difference (d) and a integer N of the Arithmetic Progression series, the task is to find Nth term of the series.\n",
    "\n",
    "**Example 1:**\n",
    "\n",
    "Input : a = 2 d = 1 N = 5\n",
    "Output : 6\n",
    "The 5th term of the series is : 6\n",
    "\n",
    "**Example 2:**\n",
    "\n",
    "Input : a = 5 d = 2 N = 10\n",
    "Output : 23\n",
    "The 10th term of the series is : 23\n",
    "\n"
   ]
  },
  {
   "cell_type": "code",
   "execution_count": 7,
   "id": "696806e7-ba52-464d-9bc3-0b5764e4df1f",
   "metadata": {},
   "outputs": [
    {
     "name": "stdin",
     "output_type": "stream",
     "text": [
      "Enter the first term (a):  5\n",
      "Enter the common difference (d):  2\n",
      "Enter the value of N:  10\n"
     ]
    },
    {
     "name": "stdout",
     "output_type": "stream",
     "text": [
      "Input:\n",
      "a = 5\n",
      "d = 2\n",
      "N = 10\n",
      "Output:\n",
      "23\n"
     ]
    }
   ],
   "source": [
    "def fun6(a, d, N):\n",
    "    return a + (N - 1) * d\n",
    "\n",
    "a = int(input(\"Enter the first term (a): \"))\n",
    "d = int(input(\"Enter the common difference (d): \"))\n",
    "N = int(input(\"Enter the value of N: \"))\n",
    "\n",
    "print(\"Input:\")\n",
    "print(\"a =\", a)\n",
    "print(\"d =\", d)\n",
    "print(\"N =\", N)\n",
    "\n",
    "output = fun6(a, d, N)\n",
    "print(\"Output:\")\n",
    "print(output)\n"
   ]
  },
  {
   "cell_type": "markdown",
   "id": "92dc75d7-a528-4123-a7f5-4c0631623cf0",
   "metadata": {},
   "source": [
    "\n",
    "💡 **Question 7**\n",
    "\n",
    "Given a string S, the task is to write a program to print all permutations of a given string.\n",
    "\n",
    "**Example 1:**\n",
    "\n",
    "***Input:***\n",
    "\n",
    "*S = “ABC”*\n",
    "\n",
    "***Output:***\n",
    "\n",
    "*“ABC”, “ACB”, “BAC”, “BCA”, “CBA”, “CAB”*\n",
    "\n",
    "**Example 2:**\n",
    "\n",
    "***Input:***\n",
    "\n",
    "*S = “XY”*\n",
    "\n",
    "***Output:***\n",
    "\n",
    "*“XY”, “YX”*\n",
    "\n"
   ]
  },
  {
   "cell_type": "code",
   "execution_count": 8,
   "id": "77961912-c8f0-4ad5-ba42-d8926d467989",
   "metadata": {},
   "outputs": [
    {
     "name": "stdin",
     "output_type": "stream",
     "text": [
      "Enter a string:  XY\n"
     ]
    },
    {
     "name": "stdout",
     "output_type": "stream",
     "text": [
      "Input:\n",
      "S = XY\n",
      "Output:\n",
      "XY\n",
      "YX\n"
     ]
    }
   ],
   "source": [
    "def fun7(S):\n",
    "\n",
    "    if len(S) == 1:\n",
    "        return [S]\n",
    "\n",
    "    result = []  \n",
    "\n",
    "    for i in range(len(S)):\n",
    "    \n",
    "        current_char = S[i]\n",
    "\n",
    "        remaining_chars = S[:i] + S[i+1:]\n",
    "        permutations = fun7(remaining_chars)\n",
    "\n",
    "        for permutation in permutations:\n",
    "            result.append(current_char + permutation)\n",
    "\n",
    "    return result\n",
    "\n",
    "S = input(\"Enter a string: \")\n",
    "\n",
    "print(\"Input:\")\n",
    "print(\"S =\", S)\n",
    "\n",
    "output = fun7(S)\n",
    "print(\"Output:\")\n",
    "for permutation in output:\n",
    "    print(permutation)\n"
   ]
  },
  {
   "cell_type": "markdown",
   "id": "7eda8a6f-7855-4c4f-9d62-4e186078be05",
   "metadata": {},
   "source": [
    "\n",
    "💡 **Question 8**\n",
    "\n",
    "Given an array, find a product of all array elements.\n",
    "\n",
    "**Example 1:**\n",
    "\n",
    "Input  : arr[] = {1, 2, 3, 4, 5}\n",
    "Output : 120\n",
    "**Example 2:**\n",
    "\n",
    "Input  : arr[] = {1, 6, 3}\n",
    "Output : 18\n"
   ]
  },
  {
   "cell_type": "code",
   "execution_count": 9,
   "id": "5f940fc2-7827-45e5-af24-d5a18cbb5312",
   "metadata": {},
   "outputs": [
    {
     "name": "stdin",
     "output_type": "stream",
     "text": [
      "Enter the array elements:  1 2 3 4 5\n"
     ]
    },
    {
     "name": "stdout",
     "output_type": "stream",
     "text": [
      "Input:\n",
      "arr = [1, 2, 3, 4, 5]\n",
      "Output:\n",
      "120\n"
     ]
    }
   ],
   "source": [
    "def fun8(arr):\n",
    "    product = 1\n",
    "    for num in arr:\n",
    "        product *= num\n",
    "    return product\n",
    "\n",
    "arr = list(map(int, input(\"Enter the array elements: \").split()))\n",
    "\n",
    "print(\"Input:\")\n",
    "print(\"arr =\", arr)\n",
    "\n",
    "output = fun8(arr)\n",
    "print(\"Output:\")\n",
    "print(output)\n"
   ]
  },
  {
   "cell_type": "code",
   "execution_count": null,
   "id": "ac7d62ad-144a-4fe2-b363-5ab171e7969a",
   "metadata": {},
   "outputs": [],
   "source": []
  }
 ],
 "metadata": {
  "kernelspec": {
   "display_name": "Python 3 (ipykernel)",
   "language": "python",
   "name": "python3"
  },
  "language_info": {
   "codemirror_mode": {
    "name": "ipython",
    "version": 3
   },
   "file_extension": ".py",
   "mimetype": "text/x-python",
   "name": "python",
   "nbconvert_exporter": "python",
   "pygments_lexer": "ipython3",
   "version": "3.10.8"
  }
 },
 "nbformat": 4,
 "nbformat_minor": 5
}
