{
 "cells": [
  {
   "cell_type": "markdown",
   "id": "b9888798-8f9d-4e0a-a71f-f98aa221d249",
   "metadata": {},
   "source": [
    "# Assignment Questions 7"
   ]
  },
  {
   "cell_type": "markdown",
   "id": "2a909850-8f54-44c2-ada9-13b430eb5870",
   "metadata": {},
   "source": [
    "\n",
    "💡 **Question 1**\n",
    "\n",
    "Given two strings s and t, *determine if they are isomorphic*.\n",
    "\n",
    "Two strings s and t are isomorphic if the characters in s can be replaced to get t.\n",
    "\n",
    "All occurrences of a character must be replaced with another character while preserving the order of characters. No two characters may map to the same character, but a character may map to itself.\n",
    "\n",
    "**Example 1:**\n",
    "\n",
    "**Input:** s = \"egg\", t = \"add\"\n",
    "\n",
    "**Output:** true\n"
   ]
  },
  {
   "cell_type": "code",
   "execution_count": 2,
   "id": "699fd35e-1cbb-4df4-9b57-a1e268bff9c3",
   "metadata": {},
   "outputs": [
    {
     "name": "stdin",
     "output_type": "stream",
     "text": [
      "Enter string s:  egg\n",
      "Enter string t:  add\n"
     ]
    },
    {
     "name": "stdout",
     "output_type": "stream",
     "text": [
      "s = egg\n",
      "t = add\n",
      "Result: True\n"
     ]
    }
   ],
   "source": [
    "def fun1(s, t):\n",
    "    if len(s) != len(t):\n",
    "        return False\n",
    "    \n",
    "    mapping_s = {}\n",
    "    mapping_t = {}\n",
    "    \n",
    "    for i in range(len(s)):\n",
    "        char_s = s[i]\n",
    "        char_t = t[i]\n",
    "        \n",
    "        if char_s in mapping_s:\n",
    "            if mapping_s[char_s] != char_t:\n",
    "                return False\n",
    "        else:\n",
    "            mapping_s[char_s] = char_t\n",
    "        \n",
    "        if char_t in mapping_t:\n",
    "            if mapping_t[char_t] != char_s:\n",
    "                return False\n",
    "        else:\n",
    "            mapping_t[char_t] = char_s\n",
    "    \n",
    "    return True\n",
    "\n",
    "s = input(\"Enter string s: \")\n",
    "t = input(\"Enter string t: \")\n",
    "\n",
    "print(\"s =\", s)\n",
    "print(\"t =\", t)\n",
    "\n",
    "result = fun1(s, t)\n",
    "print(\"Result:\", result)\n"
   ]
  },
  {
   "cell_type": "markdown",
   "id": "32376f3e-4b0d-43ab-8742-4810196c06df",
   "metadata": {},
   "source": [
    "\n",
    "💡 **Question 2**\n",
    "\n",
    "Given a string num which represents an integer, return true *if* num *is a **strobogrammatic number***.\n",
    "\n",
    "A **strobogrammatic number** is a number that looks the same when rotated 180 degrees (looked at upside down).\n",
    "\n",
    "**Example 1:**\n",
    "\n",
    "**Input:** num = \"69\"\n",
    "\n",
    "**Output:**\n",
    "\n",
    "true\n"
   ]
  },
  {
   "cell_type": "code",
   "execution_count": 3,
   "id": "d2920a6a-2d86-4d0b-a152-21654480f37f",
   "metadata": {},
   "outputs": [
    {
     "name": "stdin",
     "output_type": "stream",
     "text": [
      "Enter the number:  69\n"
     ]
    },
    {
     "name": "stdout",
     "output_type": "stream",
     "text": [
      "num = 69\n",
      "Result: True\n"
     ]
    }
   ],
   "source": [
    "def fun2(num):\n",
    "    pairs = {'0': '0', '1': '1', '6': '9', '8': '8', '9': '6'}\n",
    "    \n",
    "    left = 0\n",
    "    right = len(num) - 1\n",
    "    \n",
    "    while left <= right:\n",
    "    \n",
    "        if num[left] not in pairs or pairs[num[left]] != num[right]:\n",
    "            return False\n",
    "        \n",
    "        left += 1\n",
    "        right -= 1\n",
    "    \n",
    "    return True\n",
    "\n",
    "num = input(\"Enter the number: \")\n",
    "\n",
    "print(\"num =\", num)\n",
    "\n",
    "result = fun2(num)\n",
    "print(\"Result:\", result)\n"
   ]
  },
  {
   "cell_type": "markdown",
   "id": "a15b3e17-8103-42ea-9adf-5d5f225547b8",
   "metadata": {},
   "source": [
    "\n",
    "💡 **Question 3**\n",
    "\n",
    "Given two non-negative integers, num1 and num2 represented as string, return *the sum of* num1 *and* num2 *as a string*.\n",
    "\n",
    "You must solve the problem without using any built-in library for handling large integers (such as BigInteger). You must also not convert the inputs to integers directly.\n",
    "\n",
    "**Example 1:**\n",
    "\n",
    "**Input:** num1 = \"11\", num2 = \"123\"\n",
    "\n",
    "**Output:**\n",
    "\n",
    "\"134\"\n"
   ]
  },
  {
   "cell_type": "code",
   "execution_count": 6,
   "id": "869c4d85-b9cc-4210-ba1a-c442d9c03d1a",
   "metadata": {},
   "outputs": [
    {
     "name": "stdin",
     "output_type": "stream",
     "text": [
      "Enter the first number:  11\n",
      "Enter the second number:  123\n"
     ]
    },
    {
     "name": "stdout",
     "output_type": "stream",
     "text": [
      "num1 = 11\n",
      "num2 = 123\n",
      "Result: 134\n"
     ]
    }
   ],
   "source": [
    "def fun3(num1, num2):\n",
    "\n",
    "    result = \"\"\n",
    "    carry = 0\n",
    "    \n",
    "    i = len(num1) - 1\n",
    "    j = len(num2) - 1\n",
    "    \n",
    "    while i >= 0 or j >= 0 or carry > 0:\n",
    "    \n",
    "        digit1 = int(num1[i]) if i >= 0 else 0\n",
    "        digit2 = int(num2[j]) if j >= 0 else 0\n",
    "        \n",
    "        digit_sum = digit1 + digit2 + carry\n",
    "        carry = digit_sum // 10\n",
    "        digit_sum %= 10\n",
    "        \n",
    "        result = str(digit_sum) + result\n",
    "        \n",
    "        i -= 1\n",
    "        j -= 1\n",
    "    \n",
    "    return result\n",
    "\n",
    "num1 = input(\"Enter the first number: \")\n",
    "num2 = input(\"Enter the second number: \")\n",
    "\n",
    "print(\"num1 =\", num1)\n",
    "print(\"num2 =\", num2)\n",
    "\n",
    "result = fun3(num1, num2)\n",
    "print(\"Result:\", result)\n"
   ]
  },
  {
   "cell_type": "markdown",
   "id": "a6e86dfb-02ed-4af2-acd1-e261c56d6899",
   "metadata": {},
   "source": [
    "\n",
    "💡 **Question 4**\n",
    "\n",
    "Given a string s, reverse the order of characters in each word within a sentence while still preserving whitespace and initial word order.\n",
    "\n",
    "**Example 1:**\n",
    "\n",
    "**Input:** s = \"Let's take LeetCode contest\"\n",
    "\n",
    "**Output:** \"s'teL ekat edoCteeL tsetnoc\"\n"
   ]
  },
  {
   "cell_type": "code",
   "execution_count": 7,
   "id": "b526080d-1e78-444d-ab1d-b0145adb9e18",
   "metadata": {},
   "outputs": [
    {
     "name": "stdin",
     "output_type": "stream",
     "text": [
      "Enter the sentence:  Let's take LeetCode contest\n"
     ]
    },
    {
     "name": "stdout",
     "output_type": "stream",
     "text": [
      "sentence = Let's take LeetCode contest\n",
      "Result: s'teL ekat edoCteeL tsetnoc\n"
     ]
    }
   ],
   "source": [
    "def fun4(s):\n",
    "    \n",
    "    words = s.split()\n",
    "    \n",
    "    reversed_words = [word[::-1] for word in words]\n",
    "    \n",
    "    result = ' '.join(reversed_words)\n",
    "    \n",
    "    return result\n",
    "\n",
    "sentence = input(\"Enter the sentence: \")\n",
    "\n",
    "print(\"sentence =\", sentence)\n",
    "\n",
    "result = fun4(sentence)\n",
    "print(\"Result:\", result)\n"
   ]
  },
  {
   "cell_type": "markdown",
   "id": "2f4dce42-6fb7-4368-862e-fadcb400ddb1",
   "metadata": {},
   "source": [
    "\n",
    "💡 **Question 5**\n",
    "\n",
    "Given a string s and an integer k, reverse the first k characters for every 2k characters counting from the start of the string.\n",
    "\n",
    "If there are fewer than k characters left, reverse all of them. If there are less than 2k but greater than or equal to k characters, then reverse the first k characters and leave the other as original.\n",
    "\n",
    "**Example 1:**\n",
    "\n",
    "**Input:** s = \"abcdefg\", k = 2\n",
    "\n",
    "**Output:**\n",
    "\n",
    "\"bacdfeg\"\n"
   ]
  },
  {
   "cell_type": "code",
   "execution_count": 8,
   "id": "d4786cc5-9df5-4a98-86f8-9212b3ea47f9",
   "metadata": {},
   "outputs": [
    {
     "name": "stdin",
     "output_type": "stream",
     "text": [
      "Enter the string:  abcdefg\n",
      "Enter the value of k:  2\n"
     ]
    },
    {
     "name": "stdout",
     "output_type": "stream",
     "text": [
      "s = abcdefg\n",
      "k = 2\n",
      "Result: bacdfeg\n"
     ]
    }
   ],
   "source": [
    "def fun5(s, k):\n",
    "    \n",
    "    s_list = list(s)\n",
    "    \n",
    "    \n",
    "    for i in range(0, len(s), 2*k):\n",
    "        s_list[i:i+k] = reversed(s_list[i:i+k])\n",
    "\n",
    "    result = ''.join(s_list)\n",
    "    \n",
    "    return result\n",
    "\n",
    "s = input(\"Enter the string: \")\n",
    "k = int(input(\"Enter the value of k: \"))\n",
    "\n",
    "print(\"s =\", s)\n",
    "print(\"k =\", k)\n",
    "\n",
    "result = fun5(s, k)\n",
    "print(\"Result:\", result)\n"
   ]
  },
  {
   "cell_type": "markdown",
   "id": "66527a0e-17f0-45c2-b2ce-10414c71edc4",
   "metadata": {},
   "source": [
    "\n",
    "💡 **Question 6**\n",
    "\n",
    "Given two strings s and goal, return true *if and only if* s *can become* goal *after some number of **shifts** on* s.\n",
    "\n",
    "A **shift** on s consists of moving the leftmost character of s to the rightmost position.\n",
    "\n",
    "- For example, if s = \"abcde\", then it will be \"bcdea\" after one shift.\n",
    "\n",
    "**Example 1:**\n",
    "\n",
    "**Input:** s = \"abcde\", goal = \"cdeab\"\n",
    "\n",
    "**Output:**\n",
    "\n",
    "true\n"
   ]
  },
  {
   "cell_type": "code",
   "execution_count": 9,
   "id": "ef441c57-9793-46ab-9a3a-8489bb85ea5a",
   "metadata": {},
   "outputs": [
    {
     "name": "stdin",
     "output_type": "stream",
     "text": [
      "Enter the first string:  abcde\n",
      "Enter the second string:  cdeab\n"
     ]
    },
    {
     "name": "stdout",
     "output_type": "stream",
     "text": [
      "s = abcde\n",
      "goal = cdeab\n",
      "Result: True\n"
     ]
    }
   ],
   "source": [
    "def fun6(s, goal):\n",
    "    if len(s) != len(goal):\n",
    "        return False\n",
    "    \n",
    "    s += s\n",
    "    \n",
    "    if goal in s:\n",
    "        return True\n",
    "    \n",
    "    return False\n",
    "\n",
    "s = input(\"Enter the first string: \")\n",
    "goal = input(\"Enter the second string: \")\n",
    "\n",
    "print(\"s =\", s)\n",
    "print(\"goal =\", goal)\n",
    "\n",
    "result = fun6(s, goal)\n",
    "print(\"Result:\", result)\n"
   ]
  },
  {
   "cell_type": "markdown",
   "id": "3b672bc9-7cdf-404f-af4f-c16e8dc3c5eb",
   "metadata": {},
   "source": [
    "\n",
    "💡 **Question 7**\n",
    "\n",
    "Given two strings s and t, return true *if they are equal when both are typed into empty text editors*. '#' means a backspace character.\n",
    "\n",
    "Note that after backspacing an empty text, the text will continue empty.\n",
    "\n",
    "**Example 1:**\n",
    "\n",
    "**Input:** s = \"ab#c\", t = \"ad#c\"\n",
    "\n",
    "**Output:** true\n",
    "\n",
    "**Explanation:**\n",
    "\n",
    "Both s and t become \"ac\".\n",
    "\n"
   ]
  },
  {
   "cell_type": "code",
   "execution_count": 11,
   "id": "b51c373b-a6cc-45ad-92dd-7cbc363a7950",
   "metadata": {},
   "outputs": [
    {
     "name": "stdin",
     "output_type": "stream",
     "text": [
      "Enter the first string:  ab#c\n",
      "Enter the second string:  ad#c\n"
     ]
    },
    {
     "name": "stdout",
     "output_type": "stream",
     "text": [
      "s = ab#c\n",
      "t = ad#c\n",
      "Result: True\n"
     ]
    }
   ],
   "source": [
    "def fun7(s, t):\n",
    "    def process_string(string):\n",
    "        stack = []\n",
    "        for char in string:\n",
    "            if char != '#':\n",
    "                stack.append(char)\n",
    "            elif stack:\n",
    "                stack.pop()\n",
    "        return ''.join(stack)\n",
    "\n",
    "    processed_s = process_string(s)\n",
    "    processed_t = process_string(t)\n",
    "\n",
    "    return processed_s == processed_t\n",
    "\n",
    "s = input(\"Enter the first string: \")\n",
    "t = input(\"Enter the second string: \")\n",
    "\n",
    "print(\"s =\", s)\n",
    "print(\"t =\", t)\n",
    "\n",
    "result = fun7(s, t)\n",
    "print(\"Result:\", result)\n"
   ]
  },
  {
   "cell_type": "markdown",
   "id": "dd8e9743-844b-4a3f-a9b7-fc6277551f0a",
   "metadata": {},
   "source": [
    "\n",
    "💡 **Question 8**\n",
    "\n",
    "You are given an array coordinates, coordinates[i] = [x, y], where [x, y] represents the coordinate of a point. Check if these points make a straight line in the XY plane.\n",
    "\n",
    "**Example 1:**\n",
    "\n",
    "![Screenshot 2023-05-29 010117.png](https://s3-us-west-2.amazonaws.com/secure.notion-static.com/012b0a97-4e4b-49b6-bc95-0531fc712978/Screenshot_2023-05-29_010117.png)\n",
    "\n",
    "**Input:** coordinates = [[1,2],[2,3],[3,4],[4,5],[5,6],[6,7]]\n",
    "\n",
    "**Output:** true\n",
    "\n"
   ]
  },
  {
   "cell_type": "code",
   "execution_count": 14,
   "id": "0a1d4c39-9d8c-45ec-abe7-cbe4f46cea72",
   "metadata": {},
   "outputs": [
    {
     "name": "stdin",
     "output_type": "stream",
     "text": [
      "Enter the number of points:  6\n",
      "Enter the x-coordinate of point 1:  1\n",
      "Enter the y-coordinate of point 1:  2\n",
      "Enter the x-coordinate of point 2:  2\n",
      "Enter the y-coordinate of point 2:  3\n",
      "Enter the x-coordinate of point 3:  3\n",
      "Enter the y-coordinate of point 3:  4\n",
      "Enter the x-coordinate of point 4:  4\n",
      "Enter the y-coordinate of point 4:  5\n",
      "Enter the x-coordinate of point 5:  5\n",
      "Enter the y-coordinate of point 5:  6\n",
      "Enter the x-coordinate of point 6:  6\n",
      "Enter the y-coordinate of point 6:  7\n"
     ]
    },
    {
     "name": "stdout",
     "output_type": "stream",
     "text": [
      "coordinates = [[1, 2], [2, 3], [3, 4], [4, 5], [5, 6], [6, 7]]\n",
      "Result: True\n"
     ]
    }
   ],
   "source": [
    "def fun8(coordinates):\n",
    "    \n",
    "    x0, y0 = coordinates[0]\n",
    "    x1, y1 = coordinates[1]\n",
    "    slope = (y1 - y0) / (x1 - x0) if x1 - x0 != 0 else float('inf')\n",
    "\n",
    "    for i in range(2, len(coordinates)):\n",
    "        xi, yi = coordinates[i]\n",
    "        if (xi - x0) != 0 and (yi - y0) / (xi - x0) != slope:\n",
    "            return False\n",
    "\n",
    "    return True\n",
    "\n",
    "coordinates = []\n",
    "n = int(input(\"Enter the number of points: \"))\n",
    "for i in range(n):\n",
    "    x = int(input(f\"Enter the x-coordinate of point {i+1}: \"))\n",
    "    y = int(input(f\"Enter the y-coordinate of point {i+1}: \"))\n",
    "    coordinates.append([x, y])\n",
    "\n",
    "print(\"coordinates =\", coordinates)\n",
    "\n",
    "result = fun8(coordinates)\n",
    "print(\"Result:\", result)\n"
   ]
  },
  {
   "cell_type": "code",
   "execution_count": null,
   "id": "a34e962e-4ca3-425f-982b-014915aae2a2",
   "metadata": {},
   "outputs": [],
   "source": []
  }
 ],
 "metadata": {
  "kernelspec": {
   "display_name": "Python 3 (ipykernel)",
   "language": "python",
   "name": "python3"
  },
  "language_info": {
   "codemirror_mode": {
    "name": "ipython",
    "version": 3
   },
   "file_extension": ".py",
   "mimetype": "text/x-python",
   "name": "python",
   "nbconvert_exporter": "python",
   "pygments_lexer": "ipython3",
   "version": "3.10.8"
  }
 },
 "nbformat": 4,
 "nbformat_minor": 5
}
