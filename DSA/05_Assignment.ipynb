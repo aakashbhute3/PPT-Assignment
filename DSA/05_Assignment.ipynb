{
 "cells": [
  {
   "cell_type": "markdown",
   "id": "a0b9d4d5-105f-4765-9935-7046aefe1edb",
   "metadata": {},
   "source": [
    "# Assignment Questions 5"
   ]
  },
  {
   "cell_type": "markdown",
   "id": "6e5aebaf-3ae9-4863-a9a2-0c7b89dcafa1",
   "metadata": {},
   "source": [
    "\n",
    "💡 **Question 1**\n",
    "\n",
    "Convert 1D Array Into 2D Array\n",
    "\n",
    "You are given a **0-indexed** 1-dimensional (1D) integer array original, and two integers, m and n. You are tasked with creating a 2-dimensional (2D) array with  m rows and n columns using **all** the elements from original.\n",
    "\n",
    "The elements from indices 0 to n - 1 (**inclusive**) of original should form the first row of the constructed 2D array, the elements from indices n to 2 * n - 1 (**inclusive**) should form the second row of the constructed 2D array, and so on.\n",
    "\n",
    "Return *an* m x n *2D array constructed according to the above procedure, or an empty 2D array if it is impossible*.\n",
    "\n",
    "**Example 1:**\n",
    "\n",
    "![Screenshot 2023-05-29 004311.png](https://s3-us-west-2.amazonaws.com/secure.notion-static.com/de7ec927-9e60-4545-9475-f3ee31116192/Screenshot_2023-05-29_004311.png)\n",
    "\n",
    "\n",
    "**Input:** original = [1,2,3,4], m = 2, n = 2\n",
    "\n",
    "**Output:** [[1,2],[3,4]]\n",
    "\n",
    "**Explanation:** The constructed 2D array should contain 2 rows and 2 columns.\n",
    "\n",
    "The first group of n=2 elements in original, [1,2], becomes the first row in the constructed 2D array.\n",
    "\n",
    "The second group of n=2 elements in original, [3,4], becomes the second row in the constructed 2D array.\n",
    "\n"
   ]
  },
  {
   "cell_type": "code",
   "execution_count": 2,
   "id": "cc7c3bdf-1605-4eac-b367-396ef1a1b259",
   "metadata": {},
   "outputs": [
    {
     "name": "stdin",
     "output_type": "stream",
     "text": [
      "Enter the elements of the 1D array (space-separated):  1 2 3 4\n",
      "Enter the number of rows (m):  2\n",
      "Enter the number of columns (n):  2\n"
     ]
    },
    {
     "name": "stdout",
     "output_type": "stream",
     "text": [
      "Original array: [1, 2, 3, 4]\n",
      "m = 2\n",
      "n = 2\n",
      "Converted 2D array: [[1, 2], [3, 4]]\n"
     ]
    }
   ],
   "source": [
    "def fun1(original, m, n):\n",
    "    if m * n != len(original):\n",
    "        return [] \n",
    "    \n",
    "    result = []\n",
    "    for i in range(0, len(original), n):\n",
    "        result.append(original[i:i+n])\n",
    "    \n",
    "    return result\n",
    "\n",
    "original = list(map(int, input(\"Enter the elements of the 1D array (space-separated): \").split()))\n",
    "m = int(input(\"Enter the number of rows (m): \"))\n",
    "n = int(input(\"Enter the number of columns (n): \"))\n",
    "\n",
    "print(\"Original array:\", original)\n",
    "print(\"m =\", m)\n",
    "print(\"n =\", n)\n",
    "\n",
    "result = fun1(original, m, n)\n",
    "print(\"Converted 2D array:\", result)\n"
   ]
  },
  {
   "cell_type": "markdown",
   "id": "78b90330-9f5c-4f73-8b91-2bd8fd88ce4a",
   "metadata": {},
   "source": [
    "\n",
    "💡 **Question 2**\n",
    "\n",
    "You have n coins and you want to build a staircase with these coins. The staircase consists of k rows where the ith row has exactly i coins. The last row of the staircase **may be** incomplete.\n",
    "\n",
    "Given the integer n, return *the number of **complete rows** of the staircase you will build*.\n",
    "\n",
    "**Example 1:**\n",
    "\n",
    "![Screenshot 2023-05-29 004404.png](https://s3-us-west-2.amazonaws.com/secure.notion-static.com/0649438a-417e-4a97-ad4a-5d576ecbfee6/Screenshot_2023-05-29_004404.png)\n",
    "\n",
    "\n",
    "**Input:** n = 5\n",
    "\n",
    "**Output:** 2\n",
    "\n",
    "**Explanation:** Because the 3rd row is incomplete, we return 2.\n"
   ]
  },
  {
   "cell_type": "code",
   "execution_count": 3,
   "id": "ef2517f6-da53-4419-934c-6950d08c2c3e",
   "metadata": {},
   "outputs": [
    {
     "name": "stdin",
     "output_type": "stream",
     "text": [
      "Enter the number of coins (n):  5\n"
     ]
    },
    {
     "name": "stdout",
     "output_type": "stream",
     "text": [
      "n = 5\n",
      "Number of complete rows: 2\n"
     ]
    }
   ],
   "source": [
    "def fun2(n):\n",
    "    \n",
    "    complete_rows = 0\n",
    "    total_coins = 0\n",
    "    row = 1\n",
    "    \n",
    "    while total_coins + row <= n:\n",
    "        total_coins += row\n",
    "        complete_rows += 1\n",
    "        row += 1\n",
    "    \n",
    "    return complete_rows\n",
    "\n",
    "n = int(input(\"Enter the number of coins (n): \"))\n",
    "\n",
    "print(\"n =\", n)\n",
    "\n",
    "result = fun2(n)\n",
    "print(\"Number of complete rows:\", result)\n"
   ]
  },
  {
   "cell_type": "markdown",
   "id": "36eb6bc2-3485-492f-b4d6-eff1c0b0aa55",
   "metadata": {},
   "source": [
    "\n",
    "💡 **Question 3**\n",
    "\n",
    "Given an integer array nums sorted in **non-decreasing** order, return *an array of **the squares of each number** sorted in non-decreasing order*.\n",
    "\n",
    "**Example 1:**\n",
    "\n",
    "**Input:** nums = [-4,-1,0,3,10]\n",
    "\n",
    "**Output:** [0,1,9,16,100]\n",
    "\n",
    "**Explanation:** After squaring, the array becomes [16,1,0,9,100].\n",
    "\n",
    "After sorting, it becomes [0,1,9,16,100].\n"
   ]
  },
  {
   "cell_type": "code",
   "execution_count": 5,
   "id": "41e71b34-b584-46b6-b157-f1eedc717907",
   "metadata": {},
   "outputs": [
    {
     "name": "stdin",
     "output_type": "stream",
     "text": [
      "Enter the numbers in the array (space-separated):  -4 -1 0 3 10\n"
     ]
    },
    {
     "name": "stdout",
     "output_type": "stream",
     "text": [
      "nums = [-4, -1, 0, 3, 10]\n",
      "Squared numbers sorted in non-decreasing order: [0, 1, 9, 16, 100]\n"
     ]
    }
   ],
   "source": [
    "def fun3(nums):\n",
    "    \n",
    "    squared_nums = [num**2 for num in nums]\n",
    "    \n",
    "    sorted_nums = sorted(squared_nums)\n",
    "    \n",
    "    return sorted_nums\n",
    "\n",
    "nums = list(map(int, input(\"Enter the numbers in the array (space-separated): \").split()))\n",
    "\n",
    "print(\"nums =\", nums)\n",
    "\n",
    "result = fun3(nums)\n",
    "print(\"Squared numbers sorted in non-decreasing order:\", result)\n"
   ]
  },
  {
   "cell_type": "markdown",
   "id": "e31e5562-1ae1-44a9-8f11-be322228ea7b",
   "metadata": {},
   "source": [
    "\n",
    "💡 **Question 4**\n",
    "\n",
    "Given two **0-indexed** integer arrays nums1 and nums2, return *a list* answer *of size* 2 *where:*\n",
    "\n",
    "- answer[0] *is a list of all **distinct** integers in* nums1 *which are **not** present in* nums2*.*\n",
    "- answer[1] *is a list of all **distinct** integers in* nums2 *which are **not** present in* nums1.\n",
    "\n",
    "**Note** that the integers in the lists may be returned in **any** order.\n",
    "\n",
    "**Example 1:**\n",
    "\n",
    "**Input:** nums1 = [1,2,3], nums2 = [2,4,6]\n",
    "\n",
    "**Output:** [[1,3],[4,6]]\n",
    "\n",
    "**Explanation:**\n",
    "\n",
    "For nums1, nums1[1] = 2 is present at index 0 of nums2, whereas nums1[0] = 1 and nums1[2] = 3 are not present in nums2. Therefore, answer[0] = [1,3].\n",
    "\n",
    "For nums2, nums2[0] = 2 is present at index 1 of nums1, whereas nums2[1] = 4 and nums2[2] = 6 are not present in nums2. Therefore, answer[1] = [4,6].\n"
   ]
  },
  {
   "cell_type": "code",
   "execution_count": 7,
   "id": "a04d8a76-3031-471b-b1ef-c778f932f024",
   "metadata": {},
   "outputs": [
    {
     "name": "stdin",
     "output_type": "stream",
     "text": [
      "Enter the numbers in the first array (space-separated):  1 2 3\n",
      "Enter the numbers in the second array (space-separated):  2 4 6\n"
     ]
    },
    {
     "name": "stdout",
     "output_type": "stream",
     "text": [
      "nums1 = [1, 2, 3]\n",
      "nums2 = [2, 4, 6]\n",
      "Distinct numbers in nums1 not present in nums2: [1, 3]\n",
      "Distinct numbers in nums2 not present in nums1: [4, 6]\n"
     ]
    }
   ],
   "source": [
    "def fun4(nums1, nums2):\n",
    "    set1 = set(nums1)\n",
    "    set2 = set(nums2)\n",
    "    \n",
    "    distinct_nums1 = list(set1 - set2)\n",
    "    distinct_nums2 = list(set2 - set1)\n",
    "    \n",
    "    answer = [distinct_nums1, distinct_nums2]\n",
    "    \n",
    "    return answer\n",
    "\n",
    "nums1 = list(map(int, input(\"Enter the numbers in the first array (space-separated): \").split()))\n",
    "nums2 = list(map(int, input(\"Enter the numbers in the second array (space-separated): \").split()))\n",
    "\n",
    "print(\"nums1 =\", nums1)\n",
    "print(\"nums2 =\", nums2)\n",
    "\n",
    "result = fun4(nums1, nums2)\n",
    "print(\"Distinct numbers in nums1 not present in nums2:\", result[0])\n",
    "print(\"Distinct numbers in nums2 not present in nums1:\", result[1])\n"
   ]
  },
  {
   "cell_type": "markdown",
   "id": "9a687210-f90c-4666-bdd8-5bdb291393ea",
   "metadata": {},
   "source": [
    "\n",
    "💡 **Question 5**\n",
    "\n",
    "Given two integer arrays arr1 and arr2, and the integer d, *return the distance value between the two arrays*.\n",
    "\n",
    "The distance value is defined as the number of elements arr1[i] such that there is not any element arr2[j] where |arr1[i]-arr2[j]| <= d.\n",
    "\n",
    "**Example 1:**\n",
    "\n",
    "**Input:** arr1 = [4,5,8], arr2 = [10,9,1,8], d = 2\n",
    "\n",
    "**Output:** 2\n",
    "\n",
    "**Explanation:**\n",
    "\n",
    "For arr1[0]=4 we have:\n",
    "\n",
    "|4-10|=6 > d=2\n",
    "\n",
    "|4-9|=5 > d=2\n",
    "\n",
    "|4-1|=3 > d=2\n",
    "\n",
    "|4-8|=4 > d=2\n",
    "\n",
    "For arr1[1]=5 we have:\n",
    "\n",
    "|5-10|=5 > d=2\n",
    "\n",
    "|5-9|=4 > d=2\n",
    "\n",
    "|5-1|=4 > d=2\n",
    "\n",
    "|5-8|=3 > d=2\n",
    "\n",
    "For arr1[2]=8 we have:\n",
    "\n",
    "**|8-10|=2 <= d=2**\n",
    "\n",
    "**|8-9|=1 <= d=2**\n",
    "\n",
    "|8-1|=7 > d=2\n",
    "\n",
    "**|8-8|=0 <= d=2**\n"
   ]
  },
  {
   "cell_type": "code",
   "execution_count": 9,
   "id": "f03de0ad-1071-4883-a8be-cbeae80a4ea2",
   "metadata": {},
   "outputs": [
    {
     "name": "stdin",
     "output_type": "stream",
     "text": [
      "Enter the numbers in the first array (space-separated):  4 5 8\n",
      "Enter the numbers in the second array (space-separated):  10 9 1 8\n",
      "Enter the value of d:  2\n"
     ]
    },
    {
     "name": "stdout",
     "output_type": "stream",
     "text": [
      "arr1 = [4, 5, 8]\n",
      "arr2 = [10, 9, 1, 8]\n",
      "d = 2\n",
      "Distance value between the two arrays: 2\n"
     ]
    }
   ],
   "source": [
    "def fun5(arr1, arr2, d):\n",
    "    distance = 0\n",
    "    \n",
    "    for num1 in arr1:\n",
    "        found = False\n",
    "        for num2 in arr2:\n",
    "            if abs(num1 - num2) <= d:\n",
    "                found = True\n",
    "                break\n",
    "        if not found:\n",
    "            distance += 1\n",
    "    \n",
    "    return distance\n",
    "\n",
    "arr1 = list(map(int, input(\"Enter the numbers in the first array (space-separated): \").split()))\n",
    "arr2 = list(map(int, input(\"Enter the numbers in the second array (space-separated): \").split()))\n",
    "d = int(input(\"Enter the value of d: \"))\n",
    "\n",
    "print(\"arr1 =\", arr1)\n",
    "print(\"arr2 =\", arr2)\n",
    "print(\"d =\", d)\n",
    "\n",
    "result = fun5(arr1, arr2, d)\n",
    "print(\"Distance value between the two arrays:\", result)\n"
   ]
  },
  {
   "cell_type": "markdown",
   "id": "34d28d48-700d-475e-aa63-f434abc758ce",
   "metadata": {},
   "source": [
    "\n",
    "💡 **Question 6**\n",
    "\n",
    "Given an integer array nums of length n where all the integers of nums are in the range [1, n] and each integer appears **once** or **twice**, return *an array of all the integers that appears **twice***.\n",
    "\n",
    "You must write an algorithm that runs in O(n) time and uses only constant extra space.\n",
    "\n",
    "**Example 1:**\n",
    "\n",
    "**Input:** nums = [4,3,2,7,8,2,3,1]\n",
    "\n",
    "**Output:**\n",
    "\n",
    "[2,3]\n"
   ]
  },
  {
   "cell_type": "code",
   "execution_count": 10,
   "id": "fade6b75-d0eb-493f-a290-17daf24e149d",
   "metadata": {},
   "outputs": [
    {
     "name": "stdin",
     "output_type": "stream",
     "text": [
      "Enter the numbers in the array (space-separated):  4 3 2 7 8 2 3 1\n"
     ]
    },
    {
     "name": "stdout",
     "output_type": "stream",
     "text": [
      "nums = [4, 3, 2, 7, 8, 2, 3, 1]\n",
      "Integers that appear twice: [2, 3]\n"
     ]
    }
   ],
   "source": [
    "def fun6(nums):\n",
    "    duplicates = []\n",
    "    \n",
    "    for num in nums:\n",
    "        \n",
    "        if nums[abs(num) - 1] < 0:\n",
    "            duplicates.append(abs(num))\n",
    "        else:\n",
    "            nums[abs(num) - 1] *= -1\n",
    "    \n",
    "    return duplicates\n",
    "\n",
    "nums = list(map(int, input(\"Enter the numbers in the array (space-separated): \").split()))\n",
    "\n",
    "print(\"nums =\", nums)\n",
    "\n",
    "result = fun6(nums)\n",
    "print(\"Integers that appear twice:\", result)\n"
   ]
  },
  {
   "cell_type": "markdown",
   "id": "ee25bdb8-ecfc-4736-a700-0733d17fcea6",
   "metadata": {},
   "source": [
    "\n",
    "💡 **Question 7**\n",
    "\n",
    "Suppose an array of length n sorted in ascending order is **rotated** between 1 and n times. For example, the array nums = [0,1,2,4,5,6,7] might become:\n",
    "\n",
    "- [4,5,6,7,0,1,2] if it was rotated 4 times.\n",
    "- [0,1,2,4,5,6,7] if it was rotated 7 times.\n",
    "\n",
    "Notice that **rotating** an array [a[0], a[1], a[2], ..., a[n-1]] 1 time results in the array [a[n-1], a[0], a[1], a[2], ..., a[n-2]].\n",
    "\n",
    "Given the sorted rotated array nums of **unique** elements, return *the minimum element of this array*.\n",
    "\n",
    "You must write an algorithm that runs in O(log n) time.\n",
    "\n",
    "**Example 1:**\n",
    "\n",
    "**Input:** nums = [3,4,5,1,2]\n",
    "\n",
    "**Output:** 1\n",
    "\n",
    "**Explanation:**\n",
    "\n",
    "The original array was [1,2,3,4,5] rotated 3 times.\n",
    "\n"
   ]
  },
  {
   "cell_type": "code",
   "execution_count": 11,
   "id": "7785d852-a95c-49ff-b00d-7175fa3ec308",
   "metadata": {},
   "outputs": [
    {
     "name": "stdin",
     "output_type": "stream",
     "text": [
      "Enter the numbers in the array (space-separated):  3 4 5 1 2\n"
     ]
    },
    {
     "name": "stdout",
     "output_type": "stream",
     "text": [
      "nums = [3, 4, 5, 1, 2]\n",
      "Minimum element of the array: 1\n"
     ]
    }
   ],
   "source": [
    "def fun7(nums):\n",
    "    left = 0\n",
    "    right = len(nums) - 1\n",
    "    \n",
    "    while left < right:\n",
    "        mid = (left + right) // 2\n",
    "        \n",
    "        if nums[mid] > nums[right]:\n",
    "            left = mid + 1\n",
    "        else:\n",
    "            right = mid\n",
    "    \n",
    "    return nums[left]\n",
    "\n",
    "nums = list(map(int, input(\"Enter the numbers in the array (space-separated): \").split()))\n",
    "\n",
    "print(\"nums =\", nums)\n",
    "\n",
    "result = fun7(nums)\n",
    "print(\"Minimum element of the array:\", result)\n"
   ]
  },
  {
   "cell_type": "markdown",
   "id": "59f1b0e0-4f4f-414c-9bb7-18eb1cf1eebf",
   "metadata": {},
   "source": [
    "\n",
    "💡 **Question 8**\n",
    "\n",
    "An integer array original is transformed into a **doubled** array changed by appending **twice the value** of every element in original, and then randomly **shuffling** the resulting array.\n",
    "\n",
    "Given an array changed, return original *if* changed *is a **doubled** array. If* changed *is not a **doubled** array, return an empty array. The elements in* original *may be returned in **any** order*.\n",
    "\n",
    "**Example 1:**\n",
    "\n",
    "**Input:** changed = [1,3,4,2,6,8]\n",
    "\n",
    "**Output:** [1,3,4]\n",
    "\n",
    "**Explanation:** One possible original array could be [1,3,4]:\n",
    "\n",
    "- Twice the value of 1 is 1 * 2 = 2.\n",
    "- Twice the value of 3 is 3 * 2 = 6.\n",
    "- Twice the value of 4 is 4 * 2 = 8.\n",
    "\n",
    "Other original arrays could be [4,3,1] or [3,1,4].\n"
   ]
  },
  {
   "cell_type": "code",
   "execution_count": 15,
   "id": "8ed8ba53-eb5a-4c6f-85c6-052fd6ab242e",
   "metadata": {},
   "outputs": [
    {
     "name": "stdin",
     "output_type": "stream",
     "text": [
      "Enter the numbers in the array (space-separated):  1 3 4 2 6 8\n"
     ]
    },
    {
     "name": "stdout",
     "output_type": "stream",
     "text": [
      "changed = [1, 3, 4, 2, 6, 8]\n",
      "Original array: [1, 3, 4]\n"
     ]
    }
   ],
   "source": [
    "def fun8(changed):\n",
    "    count = {}\n",
    "    original = []\n",
    "    \n",
    "    for num in changed:\n",
    "        if num in count:\n",
    "            count[num] += 1\n",
    "        else:\n",
    "            count[num] = 1\n",
    "    \n",
    "    for num in changed:\n",
    "        if count[num] > 0:\n",
    "            original.append(num)\n",
    "            count[num] -= 1\n",
    "            if num * 2 not in count or count[num * 2] == 0:\n",
    "                return []\n",
    "            count[num * 2] -= 1\n",
    "    \n",
    "    return original\n",
    "\n",
    "changed = list(map(int, input(\"Enter the numbers in the array (space-separated): \").split()))\n",
    "\n",
    "print(\"changed =\", changed)\n",
    "\n",
    "result = fun8(changed)\n",
    "print(\"Original array:\", result)\n",
    "\n"
   ]
  },
  {
   "cell_type": "code",
   "execution_count": null,
   "id": "f78394b3-44f9-4947-bb71-2e77fe904fe1",
   "metadata": {},
   "outputs": [],
   "source": []
  }
 ],
 "metadata": {
  "kernelspec": {
   "display_name": "Python 3 (ipykernel)",
   "language": "python",
   "name": "python3"
  },
  "language_info": {
   "codemirror_mode": {
    "name": "ipython",
    "version": 3
   },
   "file_extension": ".py",
   "mimetype": "text/x-python",
   "name": "python",
   "nbconvert_exporter": "python",
   "pygments_lexer": "ipython3",
   "version": "3.10.8"
  }
 },
 "nbformat": 4,
 "nbformat_minor": 5
}
