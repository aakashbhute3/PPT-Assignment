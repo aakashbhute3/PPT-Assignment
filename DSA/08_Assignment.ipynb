{
 "cells": [
  {
   "cell_type": "markdown",
   "id": "94bbc2ee-3dba-4e82-a66a-68ee7f0e7050",
   "metadata": {},
   "source": [
    "# Assignment Questions 8"
   ]
  },
  {
   "cell_type": "markdown",
   "id": "b764f886-e6cd-4dd9-82d0-e86c4e9a46d4",
   "metadata": {},
   "source": [
    "\n",
    "💡 **Question 1**\n",
    "\n",
    "Given two strings s1 and s2, return *the lowest **ASCII** sum of deleted characters to make two strings equal*.\n",
    "\n",
    "**Example 1:**\n",
    "\n",
    "**Input:** s1 = \"sea\", s2 = \"eat\"\n",
    "\n",
    "**Output:** 231\n",
    "\n",
    "**Explanation:** Deleting \"s\" from \"sea\" adds the ASCII value of \"s\" (115) to the sum.\n",
    "\n",
    "Deleting \"t\" from \"eat\" adds 116 to the sum.\n",
    "\n",
    "At the end, both strings are equal, and 115 + 116 = 231 is the minimum sum possible to achieve this.\n",
    "\n"
   ]
  },
  {
   "cell_type": "code",
   "execution_count": 2,
   "id": "a77de424-9c66-4dba-a7d2-020748e48a70",
   "metadata": {},
   "outputs": [
    {
     "name": "stdin",
     "output_type": "stream",
     "text": [
      "Enter the first string:  sea\n",
      "Enter the second string:  eat\n"
     ]
    },
    {
     "name": "stdout",
     "output_type": "stream",
     "text": [
      "Input:\n",
      "s1 = sea\n",
      "s2 = eat\n",
      "Output:\n",
      "231\n"
     ]
    }
   ],
   "source": [
    "def fun1(s1, s2):\n",
    "    m, n = len(s1), len(s2)\n",
    "    dp = [[0] * (n+1) for _ in range(m+1)]\n",
    "\n",
    "    for i in range(1, m+1):\n",
    "        dp[i][0] = dp[i-1][0] + ord(s1[i-1])\n",
    "    for j in range(1, n+1):\n",
    "        dp[0][j] = dp[0][j-1] + ord(s2[j-1])\n",
    "\n",
    "    for i in range(1, m+1):\n",
    "        for j in range(1, n+1):\n",
    "            if s1[i-1] == s2[j-1]:\n",
    "                dp[i][j] = dp[i-1][j-1]\n",
    "            else:\n",
    "                dp[i][j] = min(dp[i-1][j] + ord(s1[i-1]), dp[i][j-1] + ord(s2[j-1]))\n",
    "\n",
    "    return dp[m][n]\n",
    "\n",
    "s1 = input(\"Enter the first string: \")\n",
    "s2 = input(\"Enter the second string: \")\n",
    "\n",
    "print(\"Input:\")\n",
    "print(\"s1 =\", s1)\n",
    "print(\"s2 =\", s2)\n",
    "\n",
    "output = fun1(s1, s2)\n",
    "print(\"Output:\")\n",
    "print(output)\n"
   ]
  },
  {
   "cell_type": "markdown",
   "id": "72686304-d3e9-485a-ab62-e650c6e0da03",
   "metadata": {},
   "source": [
    "\n",
    "💡 **Question 2**\n",
    "\n",
    "Given a string s containing only three types of characters: '(', ')' and '*', return true *if* s *is **valid***.\n",
    "\n",
    "The following rules define a **valid** string:\n",
    "\n",
    "- Any left parenthesis '(' must have a corresponding right parenthesis ')'.\n",
    "- Any right parenthesis ')' must have a corresponding left parenthesis '('.\n",
    "- Left parenthesis '(' must go before the corresponding right parenthesis ')'.\n",
    "- '*' could be treated as a single right parenthesis ')' or a single left parenthesis '(' or an empty string \"\".\n",
    "\n",
    "**Example 1:**\n",
    "\n",
    "**Input:** s = \"()\"\n",
    "\n",
    "**Output:**\n",
    "\n",
    "true\n",
    "\n"
   ]
  },
  {
   "cell_type": "code",
   "execution_count": 4,
   "id": "6201dd86-5596-47a3-87aa-0a679049a216",
   "metadata": {},
   "outputs": [
    {
     "name": "stdin",
     "output_type": "stream",
     "text": [
      "Enter the string:  ()\n"
     ]
    },
    {
     "name": "stdout",
     "output_type": "stream",
     "text": [
      "Input:\n",
      "s = ()\n",
      "Output:\n",
      "True\n"
     ]
    }
   ],
   "source": [
    "def fun2(s):\n",
    "    \n",
    "    open_count = 0\n",
    "\n",
    "    asterisk_count = 0\n",
    "\n",
    "    for char in s:\n",
    "        if char == '(':\n",
    "            open_count += 1\n",
    "        elif char == '*':\n",
    "            asterisk_count += 1\n",
    "        else:  # char == ')'\n",
    "            if open_count > 0:\n",
    "                open_count -= 1\n",
    "            elif asterisk_count > 0:\n",
    "                asterisk_count -= 1\n",
    "            else:\n",
    "                return False\n",
    "\n",
    " \n",
    "    while open_count > 0:\n",
    "        if asterisk_count > 0:\n",
    "            open_count -= 1\n",
    "            asterisk_count -= 1\n",
    "        else:\n",
    "            return False\n",
    "\n",
    "    return True\n",
    "\n",
    "s = input(\"Enter the string: \")\n",
    "\n",
    "print(\"Input:\")\n",
    "print(\"s =\", s)\n",
    "\n",
    "output = fun2(s)\n",
    "print(\"Output:\")\n",
    "print(output)\n"
   ]
  },
  {
   "cell_type": "markdown",
   "id": "f714f17e-2e2a-483d-9788-93f8d221b2e3",
   "metadata": {},
   "source": [
    "\n",
    "💡 **Question 3**\n",
    "\n",
    "Given two strings word1 and word2, return *the minimum number of **steps** required to make* word1 *and* word2 *the same*.\n",
    "\n",
    "In one **step**, you can delete exactly one character in either string.\n",
    "\n",
    "**Example 1:**\n",
    "\n",
    "**Input:** word1 = \"sea\", word2 = \"eat\"\n",
    "\n",
    "**Output:** 2\n",
    "\n",
    "**Explanation:** You need one step to make \"sea\" to \"ea\" and another step to make \"eat\" to \"ea\".\n",
    "\n"
   ]
  },
  {
   "cell_type": "code",
   "execution_count": 5,
   "id": "d47e0c6c-4d3d-4a48-86f9-cc32d54827be",
   "metadata": {},
   "outputs": [
    {
     "name": "stdin",
     "output_type": "stream",
     "text": [
      "Enter the first word:  sea\n",
      "Enter the second word:  eat\n"
     ]
    },
    {
     "name": "stdout",
     "output_type": "stream",
     "text": [
      "Input:\n",
      "word1 = sea\n",
      "word2 = eat\n",
      "Output:\n",
      "2\n"
     ]
    }
   ],
   "source": [
    "def fun3(word1, word2):\n",
    "    m, n = len(word1), len(word2)\n",
    "    dp = [[0] * (n+1) for _ in range(m+1)]\n",
    "\n",
    "    for i in range(1, m+1):\n",
    "        dp[i][0] = dp[i-1][0] + 1\n",
    "\n",
    "    for j in range(1, n+1):\n",
    "        dp[0][j] = dp[0][j-1] + 1\n",
    "\n",
    "    for i in range(1, m+1):\n",
    "        for j in range(1, n+1):\n",
    "            if word1[i-1] == word2[j-1]:\n",
    "                dp[i][j] = dp[i-1][j-1]\n",
    "            else:\n",
    "                dp[i][j] = min(dp[i-1][j] + 1, dp[i][j-1] + 1)\n",
    "\n",
    "    return dp[m][n]\n",
    "\n",
    "word1 = input(\"Enter the first word: \")\n",
    "word2 = input(\"Enter the second word: \")\n",
    "\n",
    "print(\"Input:\")\n",
    "print(\"word1 =\", word1)\n",
    "print(\"word2 =\", word2)\n",
    "\n",
    "output = fun3(word1, word2)\n",
    "print(\"Output:\")\n",
    "print(output)\n"
   ]
  },
  {
   "cell_type": "markdown",
   "id": "3fc05f36-2795-45b2-9bd6-9c8bf79170ed",
   "metadata": {},
   "source": [
    "\n",
    "💡 **Question 4**\n",
    "\n",
    "You need to construct a binary tree from a string consisting of parenthesis and integers.\n",
    "\n",
    "The whole input represents a binary tree. It contains an integer followed by zero, one or two pairs of parenthesis. The integer represents the root's value and a pair of parenthesis contains a child binary tree with the same structure.\n",
    "You always start to construct the **left** child node of the parent first if it exists.\n",
    "\n",
    "![Screenshot 2023-05-29 010548.png](https://s3-us-west-2.amazonaws.com/secure.notion-static.com/bdbea2d1-34a4-4c4b-a450-ea6db7410c43/Screenshot_2023-05-29_010548.png)\n",
    "\n",
    "**Input:** s = \"4(2(3)(1))(6(5))\"\n",
    "\n",
    "**Output:** [4,2,6,3,1,5]\n"
   ]
  },
  {
   "cell_type": "code",
   "execution_count": null,
   "id": "41e77871-782c-4e86-b173-5cbcb44b9075",
   "metadata": {},
   "outputs": [],
   "source": []
  },
  {
   "cell_type": "markdown",
   "id": "18d08595-d493-4350-ae0f-86cd0243752d",
   "metadata": {},
   "source": [
    "\n",
    "💡 **Question 5**\n",
    "\n",
    "Given an array of characters chars, compress it using the following algorithm:\n",
    "\n",
    "Begin with an empty string s. For each group of **consecutive repeating characters** in chars:\n",
    "\n",
    "- If the group's length is 1, append the character to s.\n",
    "- Otherwise, append the character followed by the group's length.\n",
    "\n",
    "The compressed string s **should not be returned separately**, but instead, be stored **in the input character array chars**. Note that group lengths that are 10 or longer will be split into multiple characters in chars.\n",
    "\n",
    "After you are done **modifying the input array,** return *the new length of the array*.\n",
    "\n",
    "You must write an algorithm that uses only constant extra space.\n",
    "\n",
    "**Example 1:**\n",
    "\n",
    "**Input:** chars = [\"a\",\"a\",\"b\",\"b\",\"c\",\"c\",\"c\"]\n",
    "\n",
    "**Output:** Return 6, and the first 6 characters of the input array should be: [\"a\",\"2\",\"b\",\"2\",\"c\",\"3\"]\n",
    "\n",
    "**Explanation:**\n",
    "\n",
    "The groups are \"aa\", \"bb\", and \"ccc\". This compresses to \"a2b2c3\".\n"
   ]
  },
  {
   "cell_type": "code",
   "execution_count": 6,
   "id": "14fcf6ae-169c-487a-851c-9357c4550f16",
   "metadata": {},
   "outputs": [
    {
     "name": "stdin",
     "output_type": "stream",
     "text": [
      "Enter the characters:  a a b b c c c\n"
     ]
    },
    {
     "name": "stdout",
     "output_type": "stream",
     "text": [
      "Input:\n",
      "chars = ['a', 'a', 'b', 'b', 'c', 'c', 'c']\n",
      "Output:\n",
      "Return 6 and the first 6 characters of the input array should be: ['a', '2', 'b', '2', 'c', '3']\n"
     ]
    }
   ],
   "source": [
    "def fun5(chars):\n",
    "    if not chars:\n",
    "        return 0\n",
    "\n",
    "    write_idx = 0\n",
    "    curr_char = chars[0]\n",
    "    curr_count = 1\n",
    "\n",
    "    for i in range(1, len(chars)):\n",
    "        if chars[i] == curr_char:\n",
    "            curr_count += 1\n",
    "        else:\n",
    "            chars[write_idx] = curr_char\n",
    "            write_idx += 1\n",
    "\n",
    "            if curr_count > 1:\n",
    "                count_str = str(curr_count)\n",
    "                for j in range(len(count_str)):\n",
    "                    chars[write_idx] = count_str[j]\n",
    "                    write_idx += 1\n",
    "\n",
    "            curr_char = chars[i]\n",
    "            curr_count = 1\n",
    "\n",
    "    chars[write_idx] = curr_char\n",
    "    write_idx += 1\n",
    "\n",
    "    if curr_count > 1:\n",
    "        count_str = str(curr_count)\n",
    "        for j in range(len(count_str)):\n",
    "            chars[write_idx] = count_str[j]\n",
    "            write_idx += 1\n",
    "\n",
    "    return write_idx\n",
    "\n",
    "chars = input(\"Enter the characters: \").split()\n",
    "\n",
    "print(\"Input:\")\n",
    "print(\"chars =\", chars)\n",
    "\n",
    "output_len = fun5(chars)\n",
    "output = chars[:output_len]\n",
    "print(\"Output:\")\n",
    "print(\"Return\", output_len, \"and the first\", output_len, \"characters of the input array should be:\", output)\n"
   ]
  },
  {
   "cell_type": "markdown",
   "id": "d84fd37b-e152-4391-9026-fb8d7b8c044b",
   "metadata": {},
   "source": [
    "\n",
    "💡 **Question 6**\n",
    "\n",
    "Given two strings s and p, return *an array of all the start indices of* p*'s anagrams in* s. You may return the answer in **any order**.\n",
    "\n",
    "An **Anagram** is a word or phrase formed by rearranging the letters of a different word or phrase, typically using all the original letters exactly once.\n",
    "\n",
    "**Example 1:**\n",
    "\n",
    "**Input:** s = \"cbaebabacd\", p = \"abc\"\n",
    "\n",
    "**Output:** [0,6]\n",
    "\n",
    "**Explanation:**\n",
    "\n",
    "The substring with start index = 0 is \"cba\", which is an anagram of \"abc\".\n",
    "\n",
    "The substring with start index = 6 is \"bac\", which is an anagram of \"abc\".\n",
    "\n"
   ]
  },
  {
   "cell_type": "code",
   "execution_count": null,
   "id": "d4036bd5-92f0-4641-bf8e-42e2c215b6da",
   "metadata": {},
   "outputs": [],
   "source": []
  },
  {
   "cell_type": "markdown",
   "id": "40cce5b3-8345-42bc-bdae-db783eca0e44",
   "metadata": {},
   "source": [
    "\n",
    "💡 **Question 7**\n",
    "\n",
    "Given an encoded string, return its decoded string.\n",
    "\n",
    "The encoding rule is: k[encoded_string], where the encoded_string inside the square brackets is being repeated exactly k times. Note that k is guaranteed to be a positive integer.\n",
    "\n",
    "You may assume that the input string is always valid; there are no extra white spaces, square brackets are well-formed, etc. Furthermore, you may assume that the original data does not contain any digits and that digits are only for those repeat numbers, k. For example, there will not be input like 3a or 2[4].\n",
    "\n",
    "The test cases are generated so that the length of the output will never exceed 105.\n",
    "\n",
    "**Example 1:**\n",
    "\n",
    "**Input:** s = \"3[a]2[bc]\"\n",
    "\n",
    "**Output:** \"aaabcbc\"\n"
   ]
  },
  {
   "cell_type": "code",
   "execution_count": 7,
   "id": "2aac8235-7788-46ea-aebd-abbfc1977b37",
   "metadata": {},
   "outputs": [
    {
     "name": "stdin",
     "output_type": "stream",
     "text": [
      "Enter the encoded string:  3[a]2[bc]\n"
     ]
    },
    {
     "name": "stdout",
     "output_type": "stream",
     "text": [
      "Input:\n",
      "s = 3[a]2[bc]\n",
      "Output:\n",
      "aaabcbc\n"
     ]
    }
   ],
   "source": [
    "def fun7(s):\n",
    "    stack = []\n",
    "    curr_str = \"\"\n",
    "    curr_num = 0\n",
    "\n",
    "    for char in s:\n",
    "        if char.isdigit():\n",
    "            curr_num = curr_num * 10 + int(char)\n",
    "        elif char == '[':\n",
    "            stack.append((curr_str, curr_num))\n",
    "            curr_str = \"\"\n",
    "            curr_num = 0\n",
    "        elif char == ']':\n",
    "            prev_str, prev_num = stack.pop()\n",
    "            curr_str = prev_str + curr_str * prev_num\n",
    "        else:\n",
    "            curr_str += char\n",
    "\n",
    "    return curr_str\n",
    "\n",
    "s = input(\"Enter the encoded string: \")\n",
    "\n",
    "print(\"Input:\")\n",
    "print(\"s =\", s)\n",
    "\n",
    "output = fun7(s)\n",
    "print(\"Output:\")\n",
    "print(output)\n"
   ]
  },
  {
   "cell_type": "markdown",
   "id": "9258fc70-7e9b-442a-88e0-2cbbc0aae237",
   "metadata": {},
   "source": [
    "\n",
    "💡 **Question 8**\n",
    "\n",
    "Given two strings s and goal, return true *if you can swap two letters in* s *so the result is equal to* goal*, otherwise, return* false*.*\n",
    "\n",
    "Swapping letters is defined as taking two indices i and j (0-indexed) such that i != j and swapping the characters at s[i] and s[j].\n",
    "\n",
    "- For example, swapping at indices 0 and 2 in \"abcd\" results in \"cbad\".\n",
    "\n",
    "**Example 1:**\n",
    "\n",
    "**Input:** s = \"ab\", goal = \"ba\"\n",
    "\n",
    "**Output:** true\n",
    "\n",
    "**Explanation:** You can swap s[0] = 'a' and s[1] = 'b' to get \"ba\", which is equal to goal.\n",
    "\n"
   ]
  },
  {
   "cell_type": "code",
   "execution_count": 8,
   "id": "5bff0b1a-9708-44af-ae19-0a61c629a4aa",
   "metadata": {},
   "outputs": [
    {
     "name": "stdin",
     "output_type": "stream",
     "text": [
      "Enter string s:  ab\n",
      "Enter string goal:  ba\n"
     ]
    },
    {
     "name": "stdout",
     "output_type": "stream",
     "text": [
      "Input:\n",
      "s = ab\n",
      "goal = ba\n",
      "Output:\n",
      "True\n"
     ]
    }
   ],
   "source": [
    "def fun8(s, goal):\n",
    "    if len(s) != len(goal):\n",
    "        return False\n",
    "\n",
    "    diff_indices = []\n",
    "    for i in range(len(s)):\n",
    "        if s[i] != goal[i]:\n",
    "            diff_indices.append(i)\n",
    "\n",
    "    if len(diff_indices) != 2:\n",
    "        return False\n",
    "\n",
    "    i, j = diff_indices\n",
    "    return s[i] == goal[j] and s[j] == goal[i]\n",
    "\n",
    "s = input(\"Enter string s: \")\n",
    "goal = input(\"Enter string goal: \")\n",
    "\n",
    "print(\"Input:\")\n",
    "print(\"s =\", s)\n",
    "print(\"goal =\", goal)\n",
    "\n",
    "output = fun8(s, goal)\n",
    "print(\"Output:\")\n",
    "print(output)\n"
   ]
  },
  {
   "cell_type": "code",
   "execution_count": null,
   "id": "d8b56904-e264-4ae7-8e9c-6ea8e1256d8e",
   "metadata": {},
   "outputs": [],
   "source": []
  }
 ],
 "metadata": {
  "kernelspec": {
   "display_name": "Python 3 (ipykernel)",
   "language": "python",
   "name": "python3"
  },
  "language_info": {
   "codemirror_mode": {
    "name": "ipython",
    "version": 3
   },
   "file_extension": ".py",
   "mimetype": "text/x-python",
   "name": "python",
   "nbconvert_exporter": "python",
   "pygments_lexer": "ipython3",
   "version": "3.10.8"
  }
 },
 "nbformat": 4,
 "nbformat_minor": 5
}
