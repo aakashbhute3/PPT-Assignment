{
 "cells": [
  {
   "cell_type": "markdown",
   "id": "7681b619-7e5f-4f65-8bd0-f3dae836cc5a",
   "metadata": {},
   "source": [
    "# Assignment 3 Questions - Arrays | DSA"
   ]
  },
  {
   "cell_type": "markdown",
   "id": "3429a15c-1ced-4bbe-9c6f-5f2c92f09166",
   "metadata": {},
   "source": [
    "Question 1\n",
    "Given an integer array nums of length n and an integer target, find three integers\n",
    "in nums such that the sum is closest to the target.\n",
    "\n",
    "Return the sum of the three integers.\n",
    "\n",
    "You may assume that each input would have exactly one solution.\n",
    "\n",
    "Example 1:\n",
    "\n",
    "Input: nums = [-1,2,1,-4], target = 1\n",
    "\n",
    "Output: 2\n",
    "\n",
    "Explanation: The sum that is closest to the target is 2. (-1 + 2 + 1 = 2)."
   ]
  },
  {
   "cell_type": "code",
   "execution_count": 4,
   "id": "c58fa472-d171-4c4d-b0b8-d74d373dd3e3",
   "metadata": {},
   "outputs": [
    {
     "name": "stdin",
     "output_type": "stream",
     "text": [
      "Enter the integer array (space-separated):  -1 2 1 -4\n",
      "Enter the target sum:  1\n"
     ]
    },
    {
     "name": "stdout",
     "output_type": "stream",
     "text": [
      "Input array: [-1, 2, 1, -4]\n",
      "Target sum: 1\n",
      "The sum closest to the target is: 2\n"
     ]
    }
   ],
   "source": [
    "def fun1(nums, target):\n",
    "    nums.sort()\n",
    "    closest_sum = float('inf')\n",
    "    n = len(nums)\n",
    "\n",
    "    for i in range(n - 2):\n",
    "        left = i + 1\n",
    "        right = n - 1\n",
    "\n",
    "        while left < right:\n",
    "            current_sum = nums[i] + nums[left] + nums[right]\n",
    "\n",
    "            if current_sum == target:\n",
    "                return target\n",
    "\n",
    "            if abs(current_sum - target) < abs(closest_sum - target):\n",
    "                closest_sum = current_sum\n",
    "\n",
    "            if current_sum < target:\n",
    "                left += 1\n",
    "            else:\n",
    "                right -= 1\n",
    "\n",
    "    return closest_sum\n",
    "\n",
    "nums = list(map(int, input(\"Enter the integer array (space-separated): \").split()))\n",
    "target = int(input(\"Enter the target sum: \"))\n",
    "\n",
    "print(\"Input array:\", nums)\n",
    "print(\"Target sum:\", target)\n",
    "\n",
    "result = fun1(nums, target)\n",
    "print(\"The sum closest to the target is:\", result)\n"
   ]
  },
  {
   "cell_type": "markdown",
   "id": "5e2f7481-9dfd-4ee3-8516-03267f9ec8b1",
   "metadata": {},
   "source": [
    "Question 2\n",
    "Given an array nums of n integers, return an array of all the unique quadruplets\n",
    "[nums[a], nums[b], nums[c], nums[d]] such that:\n",
    "    \n",
    "● 0 <= a, b, c, d < n\n",
    "\n",
    "● a, b, c, and d are distinct.\n",
    "\n",
    "● nums[a] + nums[b] + nums[c] + nums[d] == target\n",
    "\n",
    "You may return the answer in any order.\n",
    "\n",
    "Example 1:\n",
    "    \n",
    "Input: nums = [1,0,-1,0,-2,2], target = 0\n",
    "\n",
    "Output: [[-2,-1,1,2],[-2,0,0,2],[-1,0,0,1]]"
   ]
  },
  {
   "cell_type": "code",
   "execution_count": 6,
   "id": "e02e1e7f-9700-454d-8e9c-789c7ba1eae1",
   "metadata": {},
   "outputs": [
    {
     "name": "stdin",
     "output_type": "stream",
     "text": [
      "Enter the integer array (space-separated):  1 0 -1 0 -2 2\n",
      "Enter the target sum:  0\n"
     ]
    },
    {
     "name": "stdout",
     "output_type": "stream",
     "text": [
      "Input array: [1, 0, -1, 0, -2, 2]\n",
      "Target sum: 0\n",
      "Unique quadruplets that sum to the target:\n",
      "[-2, -1, 1, 2]\n",
      "[-2, 0, 0, 2]\n",
      "[-1, 0, 0, 1]\n"
     ]
    }
   ],
   "source": [
    "def fun2(nums, target):\n",
    "    nums.sort()\n",
    "    result = []\n",
    "    n = len(nums)\n",
    "\n",
    "    for i in range(n - 3):\n",
    "        if i > 0 and nums[i] == nums[i - 1]:\n",
    "            continue\n",
    "\n",
    "        for j in range(i + 1, n - 2):\n",
    "            if j > i + 1 and nums[j] == nums[j - 1]:\n",
    "                continue\n",
    "\n",
    "            left = j + 1\n",
    "            right = n - 1\n",
    "\n",
    "            while left < right:\n",
    "                current_sum = nums[i] + nums[j] + nums[left] + nums[right]\n",
    "\n",
    "                if current_sum == target:\n",
    "                    result.append([nums[i], nums[j], nums[left], nums[right]])\n",
    "\n",
    "                    while left < right and nums[left] == nums[left + 1]:\n",
    "                        left += 1\n",
    "                    while left < right and nums[right] == nums[right - 1]:\n",
    "                        right -= 1\n",
    "\n",
    "                    left += 1\n",
    "                    right -= 1\n",
    "\n",
    "                elif current_sum < target:\n",
    "                    left += 1\n",
    "                else:\n",
    "                    right -= 1\n",
    "\n",
    "    return result\n",
    "\n",
    "nums = list(map(int, input(\"Enter the integer array (space-separated): \").split()))\n",
    "target = int(input(\"Enter the target sum: \"))\n",
    "\n",
    "print(\"Input array:\", nums)\n",
    "print(\"Target sum:\", target)\n",
    "\n",
    "result = fun2(nums, target)\n",
    "print(\"Unique quadruplets that sum to the target:\")\n",
    "for quadruplet in result:\n",
    "    print(quadruplet)\n"
   ]
  },
  {
   "cell_type": "markdown",
   "id": "2f599945-b174-4dc6-8abb-09d75b0ebb0a",
   "metadata": {},
   "source": [
    "Question 3\n",
    "\n",
    "A permutation of an array of integers is an arrangement of its members into a\n",
    "sequence or linear order.\n",
    "● For example, for arr = [1,2,3], the following are all the permutations of arr:\n",
    "[1,2,3], [1,3,2], [2, 1, 3], [2, 3, 1], [3,1,2], [3,2,1].\n",
    "The next permutation of an array of integers is the next lexicographically greater\n",
    "permutation of its integer. More formally, if all the permutations of the array are\n",
    "sorted in one container according to their lexicographical order, then the next\n",
    "permutation of that array is the permutation that follows it in the sorted container.\n",
    "\n",
    "\n",
    "Assignment 3 Questions - Arrays | DSA\n",
    "If such an arrangement is not possible, the array must be rearranged as the\n",
    "lowest possible order (i.e., sorted in ascending order).\n",
    "● For example, the next permutation of arr = [1,2,3] is [1,3,2].\n",
    "● Similarly, the next permutation of arr = [2,3,1] is [3,1,2].\n",
    "● While the next permutation of arr = [3,2,1] is [1,2,3] because [3,2,1] does not\n",
    "have a lexicographical larger rearrangement.\n",
    "Given an array of integers nums, find the next permutation of nums.\n",
    "The replacement must be in place and use only constant extra memory.\n",
    "Example 1:\n",
    "Input: nums = [1,2,3]\n",
    "Output: [1,3,2]"
   ]
  },
  {
   "cell_type": "code",
   "execution_count": 7,
   "id": "ebe586be-50cc-4e43-b950-c9399240f500",
   "metadata": {},
   "outputs": [
    {
     "name": "stdin",
     "output_type": "stream",
     "text": [
      "Enter the integer array (space-separated):  1 2 3\n"
     ]
    },
    {
     "name": "stdout",
     "output_type": "stream",
     "text": [
      "Input array: [1, 2, 3]\n",
      "The next permutation is: [1, 3, 2]\n"
     ]
    }
   ],
   "source": [
    "def fun3(nums):\n",
    "    n = len(nums)\n",
    "    i = n - 2\n",
    "\n",
    "    while i >= 0 and nums[i] >= nums[i + 1]:\n",
    "        i -= 1\n",
    "\n",
    "    if i >= 0:\n",
    "        j = n - 1\n",
    "    \n",
    "        while nums[j] <= nums[i]:\n",
    "            j -= 1\n",
    "      \n",
    "        nums[i], nums[j] = nums[j], nums[i]\n",
    "\n",
    "   \n",
    "    left = i + 1\n",
    "    right = n - 1\n",
    "    while left < right:\n",
    "        nums[left], nums[right] = nums[right], nums[left]\n",
    "        left += 1\n",
    "        right -= 1\n",
    "\n",
    "    return nums\n",
    "\n",
    "\n",
    "nums = list(map(int, input(\"Enter the integer array (space-separated): \").split()))\n",
    "\n",
    "print(\"Input array:\", nums)\n",
    "\n",
    "result = fun3(nums)\n",
    "print(\"The next permutation is:\", result)\n"
   ]
  },
  {
   "cell_type": "markdown",
   "id": "3cd98e45-a47c-4268-bf9e-0e7cd59ad09a",
   "metadata": {},
   "source": [
    "Question 4\n",
    "Given a sorted array of distinct integers and a target value, return the index if the\n",
    "target is found. If not, return the index where it would be if it were inserted in\n",
    "order.\n",
    "You must write an algorithm with O(log n) runtime complexity.\n",
    "Example 1:\n",
    "Input: nums = [1,3,5,6], target = 5\n",
    "Output: 2"
   ]
  },
  {
   "cell_type": "code",
   "execution_count": 9,
   "id": "2d149945-0ff2-42fc-b117-be700325c174",
   "metadata": {},
   "outputs": [
    {
     "name": "stdin",
     "output_type": "stream",
     "text": [
      "Enter the sorted integer array (space-separated):  1 3 5 6\n",
      "Enter the target value:  5\n"
     ]
    },
    {
     "name": "stdout",
     "output_type": "stream",
     "text": [
      "Input array: [1, 3, 5, 6]\n",
      "Target value: 5\n",
      "Index of the target value (or where it would be inserted): 2\n"
     ]
    }
   ],
   "source": [
    "def fun4(nums, target):\n",
    "    left = 0\n",
    "    right = len(nums) - 1\n",
    "\n",
    "    while left <= right:\n",
    "        mid = (left + right) // 2\n",
    "\n",
    "        if nums[mid] == target:\n",
    "            return mid\n",
    "\n",
    "        if nums[mid] < target:\n",
    "            left = mid + 1\n",
    "        else:\n",
    "            right = mid - 1\n",
    "\n",
    "    return left\n",
    "\n",
    "nums = list(map(int, input(\"Enter the sorted integer array (space-separated): \").split()))\n",
    "target = int(input(\"Enter the target value: \"))\n",
    "\n",
    "print(\"Input array:\", nums)\n",
    "print(\"Target value:\", target)\n",
    "\n",
    "result = fun4(nums, target)\n",
    "print(\"Index of the target value (or where it would be inserted):\", result)\n"
   ]
  },
  {
   "cell_type": "markdown",
   "id": "45e56067-109b-4ac5-abd1-c265ecf97508",
   "metadata": {},
   "source": [
    "Question 5\n",
    "\n",
    "You are given a large integer represented as an integer array digits, where each\n",
    "digits[i] is the ith digit of the integer. The digits are ordered from most significant\n",
    "to least significant in left-to-right order. The large integer does not contain any\n",
    "leading 0's.\n",
    "Increment the large integer by one and return the resulting array of digits.\n",
    "Example 1:\n",
    "Input: digits = [1,2,3]\n",
    "Output: [1,2,4]\n",
    "\n",
    "Explanation: The array represents the integer 123.\n",
    "Incrementing by one gives 123 + 1 = 124.\n",
    "Thus, the result should be [1,2,4]."
   ]
  },
  {
   "cell_type": "code",
   "execution_count": 11,
   "id": "5c840868-4bab-40d6-87eb-2f2a55b27220",
   "metadata": {},
   "outputs": [
    {
     "name": "stdin",
     "output_type": "stream",
     "text": [
      "Enter the integer array (space-separated):  1 2 3\n"
     ]
    },
    {
     "name": "stdout",
     "output_type": "stream",
     "text": [
      "Input array: [1, 2, 3]\n",
      "The incremented array: [1, 2, 4]\n"
     ]
    }
   ],
   "source": [
    "def fun5(digits):\n",
    "    n = len(digits)\n",
    "\n",
    "    for i in range(n - 1, -1, -1):\n",
    "        if digits[i] < 9:\n",
    "            digits[i] += 1\n",
    "            return digits\n",
    "        else:\n",
    "            digits[i] = 0\n",
    "            \n",
    "    digits.insert(0, 1)\n",
    "    return digits\n",
    "\n",
    "digits = list(map(int, input(\"Enter the integer array (space-separated): \").split()))\n",
    "\n",
    "print(\"Input array:\", digits)\n",
    "\n",
    "result = fun5(digits)\n",
    "print(\"The incremented array:\", result)\n"
   ]
  },
  {
   "cell_type": "markdown",
   "id": "1f492f62-f077-4481-9a54-7a41a42d2406",
   "metadata": {},
   "source": [
    "Question 6\n",
    "\n",
    "Given a non-empty array of integers nums, every element appears twice except\n",
    "for one. Find that single one.\n",
    "\n",
    "You must implement a solution with a linear runtime complexity and use only\n",
    "constant extra space.\n",
    "\n",
    "Example 1:\n",
    "    \n",
    "Input: nums = [2,2,1]\n",
    "\n",
    "Output: 1"
   ]
  },
  {
   "cell_type": "code",
   "execution_count": 13,
   "id": "40600061-8353-4da5-8c82-cafb620c12c7",
   "metadata": {},
   "outputs": [
    {
     "name": "stdin",
     "output_type": "stream",
     "text": [
      "Enter the integer array (space-separated):  2 2 1\n"
     ]
    },
    {
     "name": "stdout",
     "output_type": "stream",
     "text": [
      "Input array: [2, 2, 1]\n",
      "The single number: 1\n"
     ]
    }
   ],
   "source": [
    "def fun6(nums):\n",
    "    result = 0\n",
    "    for num in nums:\n",
    "        result ^= num\n",
    "    return result\n",
    "\n",
    "nums = list(map(int, input(\"Enter the integer array (space-separated): \").split()))\n",
    "\n",
    "print(\"Input array:\", nums)\n",
    "\n",
    "result = fun6(nums)\n",
    "print(\"The single number:\", result)\n"
   ]
  },
  {
   "cell_type": "markdown",
   "id": "89d9b4c0-801f-4357-9f2f-f7ca697b85fa",
   "metadata": {},
   "source": [
    "Question 7\n",
    "\n",
    "You are given an inclusive range [lower, upper] and a sorted unique integer array\n",
    "nums, where all elements are within the inclusive range.\n",
    "\n",
    "A number x is considered missing if x is in the range [lower, upper] and x is not in\n",
    "nums.\n",
    "\n",
    "Return the shortest sorted list of ranges that exactly covers all the missing\n",
    "numbers. That is, no element of nums is included in any of the ranges, and each\n",
    "missing number is covered by one of the ranges.\n",
    "\n",
    "Example 1:\n",
    "    \n",
    "Input: nums = [0,1,3,50,75], lower = 0, upper = 99\n",
    "\n",
    "Output: [[2,2],[4,49],[51,74],[76,99]]\n",
    "\n",
    "Explanation: The ranges are:\n",
    "[2,2]\n",
    "[4,49]\n",
    "[51,74]\n",
    "[76,99]"
   ]
  },
  {
   "cell_type": "code",
   "execution_count": 19,
   "id": "08deee62-1215-44ff-b717-769a80e049c7",
   "metadata": {},
   "outputs": [
    {
     "name": "stdin",
     "output_type": "stream",
     "text": [
      "Enter the integer array (space-separated):  0 1 3 50 75\n",
      "Enter the lower range:  0\n",
      "Enter the upper range:  99\n"
     ]
    },
    {
     "name": "stdout",
     "output_type": "stream",
     "text": [
      "Input array: [0, 1, 3, 50, 75]\n",
      "Lower range: 0\n",
      "Upper range: 99\n",
      "Missing ranges:\n",
      "[2]\n",
      "[4, 49]\n",
      "[51, 74]\n",
      "[76, 99]\n"
     ]
    }
   ],
   "source": [
    "def fun71(nums, lower, upper):\n",
    "    ranges = []\n",
    "    prev = lower - 1\n",
    "\n",
    "    for num in nums:\n",
    "        if num > prev + 1:\n",
    "            ranges.append(fun72(prev + 1, num - 1))\n",
    "        prev = num\n",
    "\n",
    "    if upper > prev:\n",
    "        ranges.append(fun72(prev + 1, upper))\n",
    "\n",
    "    return ranges\n",
    "\n",
    "def fun72(start, end):\n",
    "    if start == end:\n",
    "        return [start]\n",
    "    else:\n",
    "        return [start, end]\n",
    "\n",
    "nums = list(map(int, input(\"Enter the integer array (space-separated): \").split()))\n",
    "lower = int(input(\"Enter the lower range: \"))\n",
    "upper = int(input(\"Enter the upper range: \"))\n",
    "\n",
    "print(\"Input array:\", nums)\n",
    "print(\"Lower range:\", lower)\n",
    "print(\"Upper range:\", upper)\n",
    "\n",
    "result = fun71(nums, lower, upper)\n",
    "print(\"Missing ranges:\")\n",
    "for range in result:\n",
    "    print(range)\n"
   ]
  },
  {
   "cell_type": "markdown",
   "id": "71559703-87f1-4911-aa1e-cf4008b4377f",
   "metadata": {},
   "source": [
    "Question 8\n",
    "\n",
    "Given an array of meeting time intervals where intervals[i] = [starti, endi],\n",
    "determine if a person could attend all meetings.\n",
    "\n",
    "Example 1:\n",
    "\n",
    "Input: intervals = [[0,30],[5,10],[15,20]]\n",
    "\n",
    "Output: false"
   ]
  },
  {
   "cell_type": "code",
   "execution_count": null,
   "id": "d64d5fb2-bae5-40dc-ab43-23ed2dc7850e",
   "metadata": {},
   "outputs": [],
   "source": [
    "def canAttendMeetings(meetings):\n",
    "    meetings.sort(key=lambda x: x[0])  \n",
    "\n",
    "    for i in range(1, len(meetings)):\n",
    "        if meetings[i][0] < meetings[i-1][1]:\n",
    "            return False  \n",
    "\n",
    "    return True \n",
    "\n",
    "\n",
    "intervals = [[0, 30], [5, 10], [15, 20]]\n",
    "print(canAttendMeetings(intervals)) \n"
   ]
  }
 ],
 "metadata": {
  "kernelspec": {
   "display_name": "Python 3 (ipykernel)",
   "language": "python",
   "name": "python3"
  },
  "language_info": {
   "codemirror_mode": {
    "name": "ipython",
    "version": 3
   },
   "file_extension": ".py",
   "mimetype": "text/x-python",
   "name": "python",
   "nbconvert_exporter": "python",
   "pygments_lexer": "ipython3",
   "version": "3.10.8"
  }
 },
 "nbformat": 4,
 "nbformat_minor": 5
}
