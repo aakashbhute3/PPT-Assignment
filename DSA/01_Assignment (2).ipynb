{
 "cells": [
  {
   "cell_type": "markdown",
   "id": "b8b528b0-8231-4849-88bf-8efc5c9cde86",
   "metadata": {},
   "source": [
    "# Assignment 1 Questions - Arrays | DSA"
   ]
  },
  {
   "cell_type": "markdown",
   "id": "913bdc49-843b-48cf-943b-deecbcf310ba",
   "metadata": {},
   "source": [
    "💡 **Q1.** Given an array of integers nums and an integer target, return indices of the two numbers such that they add up to target.\n",
    "\n",
    "You may assume that each input would have exactly one solution, and you may not use the same element twice.\n",
    "\n",
    "You can return the answer in any order.\n",
    "\n",
    "**Example:**\n",
    "Input: nums = [2,7,11,15], target = 9\n",
    "Output0 [0,1]\n",
    "\n",
    "**Explanation:** Because nums[0] + nums[1] == 9, we return [0, 1][\n",
    "\n",
    "\n",
    "\n"
   ]
  },
  {
   "cell_type": "code",
   "execution_count": 7,
   "id": "95af8e6f-76e5-4291-9daf-9225f84a2980",
   "metadata": {},
   "outputs": [
    {
     "name": "stdin",
     "output_type": "stream",
     "text": [
      "Enter the array of integers:  2 7 11 15\n",
      "Enter the target value:  9\n"
     ]
    },
    {
     "name": "stdout",
     "output_type": "stream",
     "text": [
      "Input Variables:\n",
      "Array of integers: [2, 7, 11, 15]\n",
      "Target value: 9\n",
      "Indices of the two numbers: [0, 1]\n"
     ]
    }
   ],
   "source": [
    "def fun1(nums, target):\n",
    "    num_dict = {}\n",
    "    for i, num in enumerate(nums):\n",
    "        complement = target - num\n",
    "        if complement in num_dict:\n",
    "            return [num_dict[complement], i]\n",
    "        num_dict[num] = i\n",
    "    return []\n",
    "\n",
    "nums = input(\"Enter the array of integers: \").split()\n",
    "nums = [int(num) for num in nums]\n",
    "\n",
    "target = int(input(\"Enter the target value: \"))\n",
    "\n",
    "result = fun1(nums, target)\n",
    "\n",
    "print(\"Input Variables:\")\n",
    "print(\"Array of integers:\", nums)\n",
    "print(\"Target value:\", target)\n",
    "\n",
    "if result:\n",
    "    print(\"Indices of the two numbers:\", result)\n",
    "else:\n",
    "    print(\"No two numbers found that add up to the target.\")\n"
   ]
  },
  {
   "cell_type": "markdown",
   "id": "60a25db4-dfb7-4180-a0d6-3f9af7f260a1",
   "metadata": {},
   "source": []
  },
  {
   "cell_type": "markdown",
   "id": "f3caf7dd-b9f1-4e04-bbf6-230f90cf76b2",
   "metadata": {},
   "source": [
    "\n",
    "💡 **Q2.** Given an integer array nums and an integer val, remove all occurrences of val in nums in-place. The order of the elements may be changed. Then return the number of elements in nums which are not equal to val.\n",
    "\n",
    "Consider the number of elements in nums which are not equal to val be k, to get accepted, you need to do the following things:\n",
    "\n",
    "- Change the array nums such that the first k elements of nums contain the elements which are not equal to val. The remaining elements of nums are not important as well as the size of nums.\n",
    "- Return k.\n",
    "\n",
    "**Example :**\n",
    "Input: nums = [3,2,2,3], val = 3\n",
    "Output: 2, nums = [2,2,_*,_*]\n",
    "\n",
    "**Explanation:** Your function should return k = 2, with the first two elements of nums being 2. It does not matter what you leave beyond the returned k (hence they are underscores)[\n",
    "\n"
   ]
  },
  {
   "cell_type": "code",
   "execution_count": 6,
   "id": "bbdc5798-e7ce-4515-a9bf-f7844595ced5",
   "metadata": {},
   "outputs": [
    {
     "name": "stdin",
     "output_type": "stream",
     "text": [
      "Enter the array of integers (space-separated):  3 2 2 3\n",
      "Enter the value to remove:  3\n"
     ]
    },
    {
     "name": "stdout",
     "output_type": "stream",
     "text": [
      "Input array: [2, 2, 2, 3]\n",
      "Value to remove: 3\n",
      "Count of elements not equal to val: 2\n"
     ]
    }
   ],
   "source": [
    "def fun2(nums, val):\n",
    "    j = 0\n",
    "    for num in nums:\n",
    "        if num != val:\n",
    "            nums[j] = num\n",
    "            j += 1\n",
    "    return j\n",
    "\n",
    "nums = input(\"Enter the array of integers (space-separated): \").split()\n",
    "nums = [int(num) for num in nums]\n",
    "\n",
    "val = int(input(\"Enter the value to remove: \"))\n",
    "\n",
    "count = fun2(nums, val)\n",
    "\n",
    "print(\"Input array:\", nums)\n",
    "print(\"Value to remove:\", val)\n",
    "print(\"Count of elements not equal to val:\", count)\n"
   ]
  },
  {
   "cell_type": "markdown",
   "id": "557e5189-7130-43a2-a50f-19602a1323ec",
   "metadata": {},
   "source": []
  },
  {
   "cell_type": "markdown",
   "id": "f1baa5f3-b177-409e-985e-81410aa37797",
   "metadata": {},
   "source": [
    "\n",
    "💡 **Q3.** Given a sorted array of distinct integers and a target value, return the index if the target is found. If not, return the index where it would be if it were inserted in order.\n",
    "\n",
    "You must write an algorithm with O(log n) runtime complexity.\n",
    "\n",
    "**Example 1:**\n",
    "Input: nums = [1,3,5,6], target = 5\n",
    "\n",
    "Output: 2\n",
    "\n"
   ]
  },
  {
   "cell_type": "code",
   "execution_count": 5,
   "id": "2313ab4e-d570-44ca-bf50-693e3ff3e287",
   "metadata": {},
   "outputs": [
    {
     "name": "stdin",
     "output_type": "stream",
     "text": [
      "Enter the sorted array of integers (space-separated):  1 3 5 6\n",
      "Enter the target value:  5\n"
     ]
    },
    {
     "name": "stdout",
     "output_type": "stream",
     "text": [
      "Index where the target would be inserted: 2\n",
      "Input variables:\n",
      "nums: [1, 3, 5, 6]\n",
      "target: 5\n"
     ]
    }
   ],
   "source": [
    "def fun3(nums, target):\n",
    "    left = 0\n",
    "    right = len(nums) - 1\n",
    "\n",
    "    while left <= right:\n",
    "        mid = (left + right) // 2\n",
    "\n",
    "        if nums[mid] == target:\n",
    "            return mid\n",
    "        elif nums[mid] < target:\n",
    "            left = mid + 1\n",
    "        else:\n",
    "            right = mid - 1\n",
    "\n",
    "    return left\n",
    "\n",
    "nums_input = input(\"Enter the sorted array of integers (space-separated): \")\n",
    "nums = [int(num) for num in nums_input.split()]\n",
    "\n",
    "target = int(input(\"Enter the target value: \"))\n",
    "\n",
    "index = fun3(nums, target)\n",
    "\n",
    "print(\"Index where the target would be inserted:\", index)\n",
    "print(\"Input variables:\")\n",
    "print(\"nums:\", nums)\n",
    "print(\"target:\", target)\n"
   ]
  },
  {
   "cell_type": "markdown",
   "id": "80e97b0f-71b5-4404-b2db-6e723987e600",
   "metadata": {},
   "source": []
  },
  {
   "cell_type": "markdown",
   "id": "27cca8dd-3869-484d-9cfe-b6bbfc852fe8",
   "metadata": {},
   "source": [
    "\n",
    "💡 **Q4.** You are given a large integer represented as an integer array digits, where each digits[i] is the ith digit of the integer. The digits are ordered from most significant to least significant in left-to-right order. The large integer does not contain any leading 0's.\n",
    "\n",
    "Increment the large integer by one and return the resulting array of digits.\n",
    "\n",
    "**Example 1:**\n",
    "Input: digits = [1,2,3]\n",
    "Output: [1,2,4]\n",
    "\n",
    "**Explanation:** The array represents the integer 123.\n",
    "\n",
    "Incrementing by one gives 123 + 1 = 124.\n",
    "Thus, the result should be [1,2,4].\n",
    "\n"
   ]
  },
  {
   "cell_type": "code",
   "execution_count": 4,
   "id": "f82d0187-de32-4ebb-a0cf-1252dc53f086",
   "metadata": {},
   "outputs": [
    {
     "name": "stdin",
     "output_type": "stream",
     "text": [
      "Enter the array of digits (space-separated):  1 2 3\n"
     ]
    },
    {
     "name": "stdout",
     "output_type": "stream",
     "text": [
      "Input: [1, 2, 3]\n",
      "Output: 124\n"
     ]
    }
   ],
   "source": [
    "def fun4(digits):\n",
    "    n = len(digits)\n",
    "\n",
    "    for i in range(n - 1, -1, -1):\n",
    "        digits[i] += 1\n",
    "\n",
    "        if digits[i] < 10:\n",
    "            # No\n",
    "            return digits\n",
    "        else:\n",
    "            digits[i] = 0\n",
    "\n",
    "    digits.insert(0, 1)\n",
    "    return digits\n",
    "\n",
    "digits = input(\"Enter the array of digits (space-separated): \").split()\n",
    "digits = [int(digit) for digit in digits]\n",
    "\n",
    "print(\"Input:\", digits)\n",
    "\n",
    "result = fun4(digits)\n",
    "\n",
    "output = int(''.join(map(str, result)))\n",
    "\n",
    "print(\"Output:\", output)\n"
   ]
  },
  {
   "cell_type": "code",
   "execution_count": null,
   "id": "a04f9e2c-77d8-4577-b859-92d25c50ba4a",
   "metadata": {},
   "outputs": [],
   "source": []
  },
  {
   "cell_type": "markdown",
   "id": "a70eac27-2c47-4a37-8c9c-8366a7b385d5",
   "metadata": {},
   "source": [
    "\n",
    "💡 **Q5.** You are given two integer arrays nums1 and nums2, sorted in non-decreasing order, and two integers m and n, representing the number of elements in nums1 and nums2 respectively.\n",
    "\n",
    "Merge nums1 and nums2 into a single array sorted in non-decreasing order.\n",
    "\n",
    "The final sorted array should not be returned by the function, but instead be stored inside the array nums1. To accommodate this, nums1 has a length of m + n, where the first m elements denote the elements that should be merged, and the last n elements are set to 0 and should be ignored. nums2 has a length of n.\n",
    "\n",
    "**Example 1:**\n",
    "Input: nums1 = [1,2,3,0,0,0], m = 3, nums2 = [2,5,6], n = 3\n",
    "Output: [1,2,2,3,5,6]\n",
    "\n",
    "**Explanation:** The arrays we are merging are [1,2,3] and [2,5,6].\n",
    "The result of the merge is [1,2,2,3,5,6] with the underlined elements coming from nums1.\n",
    "\n"
   ]
  },
  {
   "cell_type": "code",
   "execution_count": 9,
   "id": "bd029509-6973-485c-bdc2-550311704508",
   "metadata": {},
   "outputs": [
    {
     "name": "stdin",
     "output_type": "stream",
     "text": [
      "Enter the first array of integers (space-separated):  1 2 3 0 0\n",
      "Enter the length of the first array:  3\n",
      "Enter the second array of integers (space-separated):  2 5 6\n",
      "Enter the length of the second array:  3\n"
     ]
    },
    {
     "name": "stdout",
     "output_type": "stream",
     "text": [
      "Input variables:\n",
      "nums1: [1, 2, 3, 0, 0, 0]\n",
      "m: 3\n",
      "nums2: [2, 5, 6]\n",
      "n: 3\n",
      "Output: [1, 2, 2, 3, 5, 6]\n"
     ]
    }
   ],
   "source": [
    "def fun5(nums1, m, nums2, n):\n",
    "    p1 = m - 1\n",
    "    p2 = n - 1\n",
    "    p = m + n - 1\n",
    "\n",
    "    while p1 >= 0 and p2 >= 0:\n",
    "        if nums1[p1] > nums2[p2]:\n",
    "            nums1[p] = nums1[p1]\n",
    "            p1 -= 1\n",
    "        else:\n",
    "            nums1[p] = nums2[p2]\n",
    "            p2 -= 1\n",
    "        p -= 1\n",
    "\n",
    "    while p2 >= 0:\n",
    "        nums1[p] = nums2[p2]\n",
    "        p2 -= 1\n",
    "        p -= 1\n",
    "\n",
    "nums1 = input(\"Enter the first array of integers (space-separated): \").split()\n",
    "nums1 = [int(num) for num in nums1]\n",
    "\n",
    "m = int(input(\"Enter the length of the first array: \"))\n",
    "\n",
    "nums2 = input(\"Enter the second array of integers (space-separated): \").split()\n",
    "nums2 = [int(num) for num in nums2]\n",
    "\n",
    "n = int(input(\"Enter the length of the second array: \"))\n",
    "\n",
    "nums1 = nums1[:m] + [0] * n\n",
    "\n",
    "print(\"Input variables:\")\n",
    "print(\"nums1:\", nums1)\n",
    "print(\"m:\", m)\n",
    "print(\"nums2:\", nums2)\n",
    "print(\"n:\", n)\n",
    "\n",
    "fun5(nums1, m, nums2, n)\n",
    "\n",
    "print(\"Output:\", nums1)\n",
    "\n"
   ]
  },
  {
   "cell_type": "code",
   "execution_count": null,
   "id": "0a8bc5e8-7f4e-43c6-91aa-ae7112366af7",
   "metadata": {},
   "outputs": [],
   "source": []
  },
  {
   "cell_type": "markdown",
   "id": "3a580dea-1436-4c9a-bea5-8a2104f73a47",
   "metadata": {},
   "source": [
    "\n",
    "💡 **Q6.** Given an integer array nums, return true if any value appears at least twice in the array, and return false if every element is distinct.\n",
    "\n",
    "**Example 1:**\n",
    "Input: nums = [1,2,3,1]\n",
    "\n",
    "Output: true\n",
    "\n"
   ]
  },
  {
   "cell_type": "code",
   "execution_count": 11,
   "id": "34556ba2-d11b-486b-b123-e8f93a736c85",
   "metadata": {},
   "outputs": [
    {
     "name": "stdin",
     "output_type": "stream",
     "text": [
      "Enter the array of integers (space-separated):  1 2 3 1\n"
     ]
    },
    {
     "name": "stdout",
     "output_type": "stream",
     "text": [
      "Input: [1, 2, 3, 1]\n",
      "Output: True\n"
     ]
    }
   ],
   "source": [
    "def fun6(nums):\n",
    "    num_set = set()\n",
    "\n",
    "    for num in nums:\n",
    "        if num in num_set:\n",
    "            return True\n",
    "        num_set.add(num)\n",
    "\n",
    "    return False\n",
    "\n",
    "nums = input(\"Enter the array of integers (space-separated): \").split()\n",
    "nums = [int(num) for num in nums]\n",
    "\n",
    "print(\"Input:\", nums)\n",
    "\n",
    "result = fun6(nums)\n",
    "\n",
    "print(\"Output:\", result)\n",
    "\n"
   ]
  },
  {
   "cell_type": "code",
   "execution_count": null,
   "id": "6fbec593-cc18-4d00-97eb-158b2da66283",
   "metadata": {},
   "outputs": [],
   "source": []
  },
  {
   "cell_type": "markdown",
   "id": "7651398f-f9d7-4ef0-8118-addd52fb6885",
   "metadata": {},
   "source": [
    "\n",
    "💡 **Q7.** Given an integer array nums, move all 0's to the end of it while maintaining the relative order of the nonzero elements.\n",
    "\n",
    "Note that you must do this in-place without making a copy of the array.\n",
    "\n",
    "**Example 1:**\n",
    "Input: nums = [0,1,0,3,12]\n",
    "Output: [1,3,12,0,0]\n",
    "\n"
   ]
  },
  {
   "cell_type": "code",
   "execution_count": 16,
   "id": "cfe4e482-2753-4e1f-9bb5-6d22a6d17585",
   "metadata": {},
   "outputs": [
    {
     "name": "stdin",
     "output_type": "stream",
     "text": [
      "Enter the array of integers (space-separated):  0 1 0 3 12\n"
     ]
    },
    {
     "name": "stdout",
     "output_type": "stream",
     "text": [
      "Input: [0, 1, 0, 3, 12]\n",
      "Output: [1, 3, 12, 0, 0]\n"
     ]
    }
   ],
   "source": [
    "def fun7(nums):\n",
    "    n = len(nums)\n",
    "    non_zero_index = 0\n",
    "\n",
    "    for i in range(n):\n",
    "        if nums[i] != 0:\n",
    "            nums[non_zero_index] = nums[i]\n",
    "            non_zero_index += 1\n",
    "\n",
    "    while non_zero_index < n:\n",
    "        nums[non_zero_index] = 0\n",
    "        non_zero_index += 1\n",
    "\n",
    "    return nums\n",
    "\n",
    "nums = input(\"Enter the array of integers (space-separated): \").split()\n",
    "nums = [int(num) for num in nums]\n",
    "\n",
    "print(\"Input:\", nums)\n",
    "\n",
    "result = fun7(nums)\n",
    "\n",
    "print(\"Output:\", result)\n"
   ]
  },
  {
   "cell_type": "markdown",
   "id": "c0829eb0-24c1-40fa-8cd8-12c076e58670",
   "metadata": {},
   "source": []
  },
  {
   "cell_type": "markdown",
   "id": "147ee22f-1c1d-4b11-9a62-616d3ccb2921",
   "metadata": {},
   "source": [
    "\n",
    "💡 **Q8.** You have a set of integers s, which originally contains all the numbers from 1 to n. Unfortunately, due to some error, one of the numbers in s got duplicated to another number in the set, which results in repetition of one number and loss of another number.\n",
    "\n",
    "You are given an integer array nums representing the data status of this set after the error.\n",
    "\n",
    "Find the number that occurs twice and the number that is missing and return them in the form of an array.\n",
    "\n",
    "**Example 1:**\n",
    "Input: nums = [1,2,2,4]\n",
    "Output: [2,3]\n",
    "\n"
   ]
  },
  {
   "cell_type": "code",
   "execution_count": 15,
   "id": "4f4e1b48-3a91-407c-8455-8c313d8b3f40",
   "metadata": {},
   "outputs": [
    {
     "name": "stdin",
     "output_type": "stream",
     "text": [
      "Enter the array of integers (space-separated):  1 2 2 4\n"
     ]
    },
    {
     "name": "stdout",
     "output_type": "stream",
     "text": [
      "Input: [1, 2, 2, 4]\n",
      "Output: [2, 3]\n"
     ]
    }
   ],
   "source": [
    "def fun8(nums):\n",
    "    n = len(nums)\n",
    "    num_set = set()\n",
    "    duplicate = -1\n",
    "    total_sum = n * (n + 1) // 2\n",
    "    actual_sum = 0\n",
    "\n",
    "    for num in nums:\n",
    "        actual_sum += num\n",
    "        if num in num_set:\n",
    "            duplicate = num\n",
    "        num_set.add(num)\n",
    "\n",
    "    missing = total_sum - actual_sum + duplicate\n",
    "\n",
    "    return [duplicate, missing]\n",
    "\n",
    "nums = input(\"Enter the array of integers (space-separated): \").split()\n",
    "nums = [int(num) for num in nums]\n",
    "\n",
    "print(\"Input:\", nums)\n",
    "\n",
    "result = fun8(nums)\n",
    "\n",
    "print(\"Output:\", result)\n"
   ]
  },
  {
   "cell_type": "markdown",
   "id": "2199be17-f698-43b1-bcfc-05afe8f3b5de",
   "metadata": {},
   "source": []
  }
 ],
 "metadata": {
  "kernelspec": {
   "display_name": "Python 3 (ipykernel)",
   "language": "python",
   "name": "python3"
  },
  "language_info": {
   "codemirror_mode": {
    "name": "ipython",
    "version": 3
   },
   "file_extension": ".py",
   "mimetype": "text/x-python",
   "name": "python",
   "nbconvert_exporter": "python",
   "pygments_lexer": "ipython3",
   "version": "3.10.8"
  }
 },
 "nbformat": 4,
 "nbformat_minor": 5
}
