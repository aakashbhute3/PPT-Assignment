{
 "cells": [
  {
   "cell_type": "markdown",
   "id": "af59e33d-0840-45fa-b3d3-25278b5ab200",
   "metadata": {},
   "source": [
    "# Assignment 1 Python"
   ]
  },
  {
   "cell_type": "markdown",
   "id": "51a96b9c-25c5-4c65-b536-7ce53a09dd09",
   "metadata": {},
   "source": [
    "1. Write a Python program to reverse a string without using any built-in string reversal functions."
   ]
  },
  {
   "cell_type": "code",
   "execution_count": 5,
   "id": "5e17dd61-b658-4f0c-9376-c020d0c47c38",
   "metadata": {},
   "outputs": [
    {
     "name": "stdout",
     "output_type": "stream",
     "text": [
      "Reversed string: etuhB hsakaA\n"
     ]
    }
   ],
   "source": [
    "my_string=(\"Aakash Bhute\")\n",
    "str=\"\"\n",
    "for i in my_string:\n",
    "    str=i+str\n",
    "print(\"Reversed string:\",str)"
   ]
  },
  {
   "cell_type": "markdown",
   "id": "ed8dc239-43a1-4135-a2c3-a5d621e88562",
   "metadata": {},
   "source": [
    "2. Implement a function to check if a given string is a palindrome."
   ]
  },
  {
   "cell_type": "code",
   "execution_count": 9,
   "id": "cbb8354c-ad67-48cd-8054-ad052e0b1e65",
   "metadata": {},
   "outputs": [
    {
     "name": "stdout",
     "output_type": "stream",
     "text": [
      "Yes\n"
     ]
    }
   ],
   "source": [
    "def isPalindrome(s):\n",
    "    return s == s[::-1]\n",
    " \n",
    " \n",
    "s = \"malayalam\"\n",
    "ans = isPalindrome(s)\n",
    " \n",
    "if ans:\n",
    "    print(\"Yes\")\n",
    "else:\n",
    "    print(\"No\")"
   ]
  },
  {
   "cell_type": "markdown",
   "id": "a49cd7ed-c958-4164-a4f1-01a63d063fde",
   "metadata": {},
   "source": [
    "3. Write a program to find the largest element in a given list."
   ]
  },
  {
   "cell_type": "code",
   "execution_count": 10,
   "id": "449ef413-5b9b-438b-a43e-675b5c4d84b9",
   "metadata": {},
   "outputs": [
    {
     "name": "stdout",
     "output_type": "stream",
     "text": [
      "Largest element is: 99\n"
     ]
    }
   ],
   "source": [
    "\n",
    "list1 = [10, 20, 4, 45, 99]\n",
    "\n",
    "list1.sort()\n",
    "\n",
    "print(\"Largest element is:\", list1[-1])\n"
   ]
  },
  {
   "cell_type": "markdown",
   "id": "21144091-c19d-47db-b58b-e1cd2aa1990d",
   "metadata": {},
   "source": [
    "4. Implement a function to count the occurrence of each element in a list."
   ]
  },
  {
   "cell_type": "code",
   "execution_count": 14,
   "id": "787fc82e-f524-47be-aabf-acabd9577f42",
   "metadata": {},
   "outputs": [
    {
     "name": "stdout",
     "output_type": "stream",
     "text": [
      "Element counts: defaultdict(<class 'int'>, {8: 5, 6: 1, 10: 2, 20: 1})\n"
     ]
    }
   ],
   "source": [
    "from collections import defaultdict\n",
    "\n",
    "def count_elements(lst):\n",
    "    element_count = defaultdict(int)\n",
    "\n",
    "    for element in lst:\n",
    "        element_count[element] += 1\n",
    "\n",
    "    return element_count\n",
    "\n",
    "input_list = [8, 6, 8, 10, 8, 20, 10, 8, 8]\n",
    "element_count = count_elements(input_list)\n",
    "print(\"Element counts:\", element_count)\n",
    "\n"
   ]
  },
  {
   "cell_type": "markdown",
   "id": "afd289a7-0682-4f6b-a8da-230d3c2d4676",
   "metadata": {},
   "source": [
    "5. Write a Python program to find the second largest number in a list"
   ]
  },
  {
   "cell_type": "code",
   "execution_count": 15,
   "id": "4bc18f09-04a8-49ed-b414-f460385de777",
   "metadata": {},
   "outputs": [
    {
     "name": "stdout",
     "output_type": "stream",
     "text": [
      "Second largest element is: 45\n"
     ]
    }
   ],
   "source": [
    "\n",
    "list1 = [10, 20, 20, 4, 45, 45, 45, 99, 99]\n",
    "\n",
    "\n",
    "list2 = list(set(list1))\n",
    "\n",
    "list2.sort()\n",
    "\n",
    "print(\"Second largest element is:\", list2[-2])\n"
   ]
  },
  {
   "cell_type": "markdown",
   "id": "7c6845bb-b26c-4fdd-ace6-bfd483dc8e7c",
   "metadata": {},
   "source": [
    "6. Implement a function to remove duplicate elements from a list."
   ]
  },
  {
   "cell_type": "code",
   "execution_count": 16,
   "id": "fc38fa90-d506-496e-8ccc-8ff2c5ac201d",
   "metadata": {},
   "outputs": [
    {
     "name": "stdout",
     "output_type": "stream",
     "text": [
      "[2, 4, 5, 10, 20]\n"
     ]
    }
   ],
   "source": [
    "duplicate = [2, 4, 10, 20, 5, 2, 20, 4]\n",
    "print(list(set(duplicate)))"
   ]
  },
  {
   "cell_type": "markdown",
   "id": "cf81e4fc-a141-4fa1-b22a-ab0d1b16d057",
   "metadata": {},
   "source": [
    "7. Write a program to calculate the factorial of a given number."
   ]
  },
  {
   "cell_type": "code",
   "execution_count": 21,
   "id": "6027e33e-7f5e-4a1a-8bbf-518a4021f615",
   "metadata": {},
   "outputs": [
    {
     "name": "stdout",
     "output_type": "stream",
     "text": [
      "Factorial of 5 is 120\n"
     ]
    }
   ],
   "source": [
    "def factorial(n):\n",
    "\treturn 1 if (n==1 or n==0) else n * factorial(n - 1)\n",
    "\n",
    "num = 5\n",
    "print(\"Factorial of\",num,\"is\",factorial(num))\n",
    "\n"
   ]
  },
  {
   "cell_type": "markdown",
   "id": "e97a36cf-1620-4864-88be-0a87bd4a36a1",
   "metadata": {},
   "source": [
    "8. Implement a function to check if a given number is prime."
   ]
  },
  {
   "cell_type": "code",
   "execution_count": 22,
   "id": "7cef504b-faea-4bf8-af4f-0b624b150c2e",
   "metadata": {},
   "outputs": [
    {
     "name": "stdin",
     "output_type": "stream",
     "text": [
      "Enter a number:  13\n"
     ]
    },
    {
     "name": "stdout",
     "output_type": "stream",
     "text": [
      "The number is prime.\n"
     ]
    }
   ],
   "source": [
    "def is_prime(number):\n",
    "    if number < 2:\n",
    "        return False\n",
    "\n",
    "    for i in range(2, int(number ** 0.5) + 1):\n",
    "        if number % i == 0:\n",
    "            return False\n",
    "\n",
    "    return True\n",
    "\n",
    "input_number = int(input(\"Enter a number: \"))\n",
    "if is_prime(input_number):\n",
    "    print(\"The number is prime.\")\n",
    "else:\n",
    "    print(\"The number is not prime.\")\n"
   ]
  },
  {
   "cell_type": "markdown",
   "id": "3c80d01f-3083-45e6-ab5d-35a988d42226",
   "metadata": {},
   "source": [
    "9. Write a Python program to sort a list of integers in ascending order."
   ]
  },
  {
   "cell_type": "code",
   "execution_count": 23,
   "id": "08b93edc-2e91-43c8-b923-27d33f4b3e48",
   "metadata": {},
   "outputs": [
    {
     "name": "stdout",
     "output_type": "stream",
     "text": [
      "Sorted list (ascending order): [4, 10, 20, 20, 45, 45, 45, 99, 99]\n"
     ]
    }
   ],
   "source": [
    "def sort_list_ascending(lst):\n",
    "    lst.sort()\n",
    "\n",
    "input_list = [10, 20, 20, 4, 45, 45, 45, 99, 99]\n",
    "sort_list_ascending(input_list)\n",
    "print(\"Sorted list (ascending order):\", input_list)\n"
   ]
  },
  {
   "cell_type": "markdown",
   "id": "7c10f857-b2fd-4ff1-a7a6-697005547992",
   "metadata": {},
   "source": [
    "10. Implement a function to find the sum of all numbers in a list."
   ]
  },
  {
   "cell_type": "code",
   "execution_count": 25,
   "id": "80ee99a2-ea97-4209-9bd2-38bc8e333fd8",
   "metadata": {},
   "outputs": [
    {
     "name": "stdout",
     "output_type": "stream",
     "text": [
      "Sum of numbers: 387\n"
     ]
    }
   ],
   "source": [
    "def find_sum(input_list):\n",
    "    total_sum = sum(input_list)\n",
    "    return total_sum\n",
    "\n",
    "input_list = [10, 20, 20, 4, 45, 45, 45, 99, 99]\n",
    "sum_of_numbers = find_sum(input_list)\n",
    "print(\"Sum of numbers:\", sum_of_numbers)\n"
   ]
  },
  {
   "cell_type": "markdown",
   "id": "d510456a-010c-4a0a-8ea5-1073a777de20",
   "metadata": {},
   "source": [
    "11. Write a program to find the common elements between two lists."
   ]
  },
  {
   "cell_type": "code",
   "execution_count": 26,
   "id": "6c4b3955-7ce7-4ebb-bbcb-bff897b60544",
   "metadata": {},
   "outputs": [
    {
     "name": "stdout",
     "output_type": "stream",
     "text": [
      "Common elements: [4, 5]\n"
     ]
    }
   ],
   "source": [
    "def find_common_elements(list1, list2):\n",
    "    common_elements = list(set(list1) & set(list2))\n",
    "    return common_elements\n",
    "\n",
    "list1 = [1, 2, 3, 4, 5]\n",
    "list2 = [4, 5, 6, 7, 8]\n",
    "common_elements = find_common_elements(list1, list2)\n",
    "print(\"Common elements:\", common_elements)\n"
   ]
  },
  {
   "cell_type": "markdown",
   "id": "2299a7b5-f991-49b1-a232-2618883f4249",
   "metadata": {},
   "source": [
    "12. Implement a function to check if a given string is an anagram of another string."
   ]
  },
  {
   "cell_type": "code",
   "execution_count": 27,
   "id": "bf122ddb-0312-4345-87e9-541baa8d0f2c",
   "metadata": {},
   "outputs": [
    {
     "name": "stdin",
     "output_type": "stream",
     "text": [
      "Enter the first string:  slient\n",
      "Enter the second string:  listen\n"
     ]
    },
    {
     "name": "stdout",
     "output_type": "stream",
     "text": [
      "The strings are anagrams.\n"
     ]
    }
   ],
   "source": [
    "def is_anagram(str1, str2):\n",
    "    str1_sorted = sorted(str1.lower())\n",
    "    str2_sorted = sorted(str2.lower())\n",
    "\n",
    "    return str1_sorted == str2_sorted\n",
    "\n",
    "string1 = input(\"Enter the first string: \")\n",
    "string2 = input(\"Enter the second string: \")\n",
    "\n",
    "if is_anagram(string1, string2):\n",
    "    print(\"The strings are anagrams.\")\n",
    "else:\n",
    "    print(\"The strings are not anagrams.\")\n"
   ]
  },
  {
   "cell_type": "markdown",
   "id": "f7def87a-f41f-4dbc-ba25-3f3966eaaaa9",
   "metadata": {},
   "source": [
    "13. Write a Python program to generate all permutations of a given string."
   ]
  },
  {
   "cell_type": "code",
   "execution_count": 29,
   "id": "b485e32c-1e43-40ec-918b-2aac5a77bd86",
   "metadata": {},
   "outputs": [
    {
     "name": "stdin",
     "output_type": "stream",
     "text": [
      "Enter a string:  cat\n"
     ]
    },
    {
     "name": "stdout",
     "output_type": "stream",
     "text": [
      "Permutations:\n",
      "cat\n",
      "cta\n",
      "act\n",
      "atc\n",
      "tca\n",
      "tac\n"
     ]
    }
   ],
   "source": [
    "def generate_permutations(string):\n",
    "    if len(string) == 0:\n",
    "        return []\n",
    "\n",
    "    if len(string) == 1:\n",
    "        return [string]\n",
    "\n",
    "    permutations = []  \n",
    "\n",
    "    for i in range(len(string)):\n",
    "        current_char = string[i]\n",
    "        remaining_chars = string[:i] + string[i+1:]\n",
    "\n",
    "        for sub_permutation in generate_permutations(remaining_chars):\n",
    "            permutations.append(current_char + sub_permutation)\n",
    "\n",
    "    return permutations\n",
    "\n",
    "input_string = input(\"Enter a string: \")\n",
    "permutations = generate_permutations(input_string)\n",
    "print(\"Permutations:\")\n",
    "for permutation in permutations:\n",
    "    print(permutation)"
   ]
  },
  {
   "cell_type": "markdown",
   "id": "3919e0f1-664e-44c9-9c5e-5194397d35de",
   "metadata": {},
   "source": [
    "14. Implement a function to calculate the Fibonacci sequence up to a given number of terms."
   ]
  },
  {
   "cell_type": "code",
   "execution_count": 30,
   "id": "e2689e15-5bad-4273-9c83-9cd0bcaeb9dc",
   "metadata": {},
   "outputs": [
    {
     "name": "stdin",
     "output_type": "stream",
     "text": [
      "Enter the number of Fibonacci terms to generate:  10\n"
     ]
    },
    {
     "name": "stdout",
     "output_type": "stream",
     "text": [
      "Fibonacci sequence up to 10 terms: [0, 1, 1, 2, 3, 5, 8, 13, 21, 34]\n"
     ]
    }
   ],
   "source": [
    "def fibonacci_sequence(n):\n",
    "    sequence = []\n",
    "    if n >= 1:\n",
    "        sequence.append(0)\n",
    "    if n >= 2:\n",
    "        sequence.append(1)\n",
    "    \n",
    "    for i in range(2, n):\n",
    "        next_number = sequence[i-1] + sequence[i-2]\n",
    "        sequence.append(next_number)\n",
    "    \n",
    "    return sequence\n",
    "\n",
    "num_terms = int(input(\"Enter the number of Fibonacci terms to generate: \"))\n",
    "fibonacci_terms = fibonacci_sequence(num_terms)\n",
    "print(\"Fibonacci sequence up to\", num_terms, \"terms:\", fibonacci_terms)\n"
   ]
  },
  {
   "cell_type": "markdown",
   "id": "25b72a13-8ced-4d1e-8415-099a0bfcc198",
   "metadata": {},
   "source": [
    "15. Write a program to find the median of a list of numbers."
   ]
  },
  {
   "cell_type": "code",
   "execution_count": 31,
   "id": "42c9d469-bfda-4a02-8bb4-375ae7c175f8",
   "metadata": {},
   "outputs": [
    {
     "name": "stdout",
     "output_type": "stream",
     "text": [
      "Median: 5\n"
     ]
    }
   ],
   "source": [
    "def find_median(numbers):\n",
    "    sorted_numbers = sorted(numbers)\n",
    "    n = len(sorted_numbers)\n",
    "    mid = n // 2\n",
    "\n",
    "    if n % 2 == 0:\n",
    "        median = (sorted_numbers[mid-1] + sorted_numbers[mid]) / 2\n",
    "    else:\n",
    "        median = sorted_numbers[mid]\n",
    "\n",
    "    return median\n",
    "\n",
    "number_list = [2, 5, 3, 8, 1, 9, 7, 4, 6]\n",
    "median_value = find_median(number_list)\n",
    "print(\"Median:\", median_value)\n"
   ]
  },
  {
   "cell_type": "markdown",
   "id": "9d0a1177-af84-414e-bd79-23859288a852",
   "metadata": {},
   "source": [
    "16. Implement a function to check if a given list is sorted in non-decreasing order."
   ]
  },
  {
   "cell_type": "code",
   "execution_count": 32,
   "id": "ba82da82-37e4-4a4d-9d38-f156ef02c927",
   "metadata": {},
   "outputs": [
    {
     "name": "stdout",
     "output_type": "stream",
     "text": [
      "The list is sorted in non-decreasing order.\n"
     ]
    }
   ],
   "source": [
    "def is_sorted(numbers):\n",
    "    n = len(numbers)\n",
    "    for i in range(1, n):\n",
    "        if numbers[i] < numbers[i-1]:\n",
    "            return False\n",
    "    return True\n",
    "\n",
    "number_list = [1, 2, 3, 4, 5]\n",
    "if is_sorted(number_list):\n",
    "    print(\"The list is sorted in non-decreasing order.\")\n",
    "else:\n",
    "    print(\"The list is not sorted in non-decreasing order.\")\n"
   ]
  },
  {
   "cell_type": "markdown",
   "id": "6784b64d-ec8a-41d2-89c3-a7595db68dc5",
   "metadata": {},
   "source": [
    "17. Write a Python program to find the intersection of two lists."
   ]
  },
  {
   "cell_type": "code",
   "execution_count": 33,
   "id": "df536fa5-c49a-40a8-8e20-31da5a5ca6b6",
   "metadata": {},
   "outputs": [
    {
     "name": "stdout",
     "output_type": "stream",
     "text": [
      "Intersection: [4, 5]\n"
     ]
    }
   ],
   "source": [
    "def find_intersection(list1, list2):\n",
    "    intersection = list(set(list1) & set(list2))\n",
    "    return intersection\n",
    "\n",
    "# Test the program\n",
    "list1 = [1, 2, 3, 4, 5]\n",
    "list2 = [4, 5, 6, 7, 8]\n",
    "intersection_list = find_intersection(list1, list2)\n",
    "print(\"Intersection:\", intersection_list)\n"
   ]
  },
  {
   "cell_type": "markdown",
   "id": "7a6de22b-941f-4c0c-8aa6-cbee9647bd8b",
   "metadata": {},
   "source": [
    "18. Implement a function to find the maximum subarray sum in a given list."
   ]
  },
  {
   "cell_type": "code",
   "execution_count": 34,
   "id": "33395c7c-14e7-46ff-89e4-96edac1e3c99",
   "metadata": {},
   "outputs": [
    {
     "name": "stdout",
     "output_type": "stream",
     "text": [
      "Maximum subarray sum: 6\n"
     ]
    }
   ],
   "source": [
    "def find_maximum(nums):\n",
    "    if not nums:\n",
    "        return 0\n",
    "\n",
    "    current_sum = max_sum = nums[0]\n",
    "\n",
    "    for num in nums[1:]:\n",
    "        current_sum = max(num, current_sum + num)\n",
    "        max_sum = max(max_sum, current_sum)\n",
    "\n",
    "    return max_sum\n",
    "\n",
    "\n",
    "number_list = [-2, 1, -3, 4, -1, 2, 1, -5, 4]\n",
    "maximum_sum = find_maximum(number_list)\n",
    "print(\"Maximum subarray sum:\", maximum_sum)\n"
   ]
  },
  {
   "cell_type": "markdown",
   "id": "08a1ca9d-926d-4717-9c7b-58f7ae44156a",
   "metadata": {},
   "source": [
    "19. Write a program to remove all vowels from a given string."
   ]
  },
  {
   "cell_type": "code",
   "execution_count": 36,
   "id": "f4019ef8-4378-402d-8fab-7e75f68d5dc1",
   "metadata": {},
   "outputs": [
    {
     "name": "stdin",
     "output_type": "stream",
     "text": [
      "Enter a string:  Aakash Bhute\n"
     ]
    },
    {
     "name": "stdout",
     "output_type": "stream",
     "text": [
      "String without vowels: ksh Bht\n"
     ]
    }
   ],
   "source": [
    "def remove_vowels(string):\n",
    "    vowels = \"aeiouAEIOU\"\n",
    "    new_string = \"\"\n",
    "    for char in string:\n",
    "        if char not in vowels:\n",
    "            new_string += char\n",
    "    return new_string\n",
    "\n",
    "input_string = input(\"Enter a string: \")\n",
    "result_string = remove_vowels(input_string)\n",
    "print(\"String without vowels:\", result_string)\n"
   ]
  },
  {
   "cell_type": "markdown",
   "id": "7a73e3d9-c2ee-447f-9b10-c307e1884a8f",
   "metadata": {},
   "source": [
    "20. Implement a function to reverse the order of words in a given sentence"
   ]
  },
  {
   "cell_type": "code",
   "execution_count": 37,
   "id": "f483b106-3fec-4fac-b8da-c13190fb00ea",
   "metadata": {},
   "outputs": [
    {
     "name": "stdin",
     "output_type": "stream",
     "text": [
      "Enter a sentence:  aakash bhute data \n"
     ]
    },
    {
     "name": "stdout",
     "output_type": "stream",
     "text": [
      "Reversed sentence: data bhute aakash\n"
     ]
    }
   ],
   "source": [
    "def reverse_sentence(sentence):\n",
    "    words = sentence.split()\n",
    "    reversed_words = words[::-1]\n",
    "    reversed_sentence = ' '.join(reversed_words)\n",
    "    return reversed_sentence\n",
    "\n",
    "input_sentence = input(\"Enter a sentence: \")\n",
    "result_sentence = reverse_sentence(input_sentence)\n",
    "print(\"Reversed sentence:\", result_sentence)\n"
   ]
  },
  {
   "cell_type": "markdown",
   "id": "d71a3113-d72e-4d5a-add3-82db8e141d8e",
   "metadata": {},
   "source": [
    "21. Write a Python program to check if two strings are anagrams of each other."
   ]
  },
  {
   "cell_type": "code",
   "execution_count": 38,
   "id": "e8640368-1e86-4e89-83b9-e4a140c0c343",
   "metadata": {},
   "outputs": [
    {
     "name": "stdin",
     "output_type": "stream",
     "text": [
      "Enter the first string:  slient\n",
      "Enter the second string:  listen\n"
     ]
    },
    {
     "name": "stdout",
     "output_type": "stream",
     "text": [
      "The two strings are anagrams.\n"
     ]
    }
   ],
   "source": [
    "def are_anagrams(str1, str2):\n",
    "    if len(str1) != len(str2):\n",
    "        return False\n",
    "\n",
    "    count = {}\n",
    "\n",
    "    for char in str1:\n",
    "        count[char] = count.get(char, 0) + 1\n",
    "\n",
    "    for char in str2:\n",
    "        if char not in count:\n",
    "            return False\n",
    "        count[char] -= 1\n",
    "\n",
    "    for value in count.values():\n",
    "        if value != 0:\n",
    "            return False\n",
    "\n",
    "    return True\n",
    "\n",
    "string1 = input(\"Enter the first string: \")\n",
    "string2 = input(\"Enter the second string: \")\n",
    "if are_anagrams(string1, string2):\n",
    "    print(\"The two strings are anagrams.\")\n",
    "else:\n",
    "    print(\"The two strings are not anagrams.\")\n"
   ]
  },
  {
   "cell_type": "markdown",
   "id": "9b49e9da-2e63-4d77-baca-524b68d72b3a",
   "metadata": {},
   "source": [
    "22. Implement a function to find the first non-repeating character in a string."
   ]
  },
  {
   "cell_type": "code",
   "execution_count": 40,
   "id": "c876b4ec-acac-45c1-9cea-d20078ef2fa3",
   "metadata": {},
   "outputs": [
    {
     "name": "stdin",
     "output_type": "stream",
     "text": [
      "Enter a string:  aakashbhute\n"
     ]
    },
    {
     "name": "stdout",
     "output_type": "stream",
     "text": [
      "First non-repeating character: k\n"
     ]
    }
   ],
   "source": [
    "def find_first_non_repeating_char(string):\n",
    "    count = {}\n",
    "    for char in string:\n",
    "        count[char] = count.get(char, 0) + 1\n",
    "\n",
    "    for char in string:\n",
    "        if count[char] == 1:\n",
    "            return char\n",
    "\n",
    "    return None\n",
    "\n",
    "input_string = input(\"Enter a string: \")\n",
    "result_char = find_first_non_repeating_char(input_string)\n",
    "if result_char:\n",
    "    print(\"First non-repeating character:\", result_char)\n",
    "else:\n",
    "    print(\"No non-repeating character found.\")\n"
   ]
  },
  {
   "cell_type": "markdown",
   "id": "f67ebed6-2e00-4fae-95c9-f304a1bc9229",
   "metadata": {},
   "source": [
    "23. Write a program to find the prime factors of a given number."
   ]
  },
  {
   "cell_type": "code",
   "execution_count": 41,
   "id": "764c778a-3658-4c65-986b-7c487daafb28",
   "metadata": {},
   "outputs": [
    {
     "name": "stdin",
     "output_type": "stream",
     "text": [
      "Enter a number:  10\n"
     ]
    },
    {
     "name": "stdout",
     "output_type": "stream",
     "text": [
      "Prime factors: [2, 5]\n"
     ]
    }
   ],
   "source": [
    "def find_prime_factors(number):\n",
    "    prime_factors = []\n",
    "    divisor = 2\n",
    "\n",
    "    while divisor <= number:\n",
    "        if number % divisor == 0:\n",
    "            prime_factors.append(divisor)\n",
    "            number //= divisor\n",
    "        else:\n",
    "            divisor += 1\n",
    "\n",
    "    return prime_factors\n",
    "\n",
    "input_number = int(input(\"Enter a number: \"))\n",
    "result_factors = find_prime_factors(input_number)\n",
    "print(\"Prime factors:\", result_factors)\n"
   ]
  },
  {
   "cell_type": "markdown",
   "id": "aa36b791-cf79-4406-b899-d67702de6cee",
   "metadata": {},
   "source": [
    "24. Implement a function to check if a given number is a power of two."
   ]
  },
  {
   "cell_type": "code",
   "execution_count": 42,
   "id": "52a46a19-0113-4ce4-a716-9a31481f6212",
   "metadata": {},
   "outputs": [
    {
     "name": "stdin",
     "output_type": "stream",
     "text": [
      "Enter a number:  8\n"
     ]
    },
    {
     "name": "stdout",
     "output_type": "stream",
     "text": [
      "The number is a power of two.\n"
     ]
    }
   ],
   "source": [
    "def is_power_of_two(number):\n",
    "    if number <= 0:\n",
    "        return False\n",
    "    return (number & (number - 1)) == 0\n",
    "\n",
    "input_number = int(input(\"Enter a number: \"))\n",
    "if is_power_of_two(input_number):\n",
    "    print(\"The number is a power of two.\")\n",
    "else:\n",
    "    print(\"The number is not a power of two.\")\n"
   ]
  },
  {
   "cell_type": "markdown",
   "id": "3247304a-5b13-4d26-968b-863c79f9256b",
   "metadata": {},
   "source": [
    "25. Write a Python program to merge two sorted lists into a single sorted list."
   ]
  },
  {
   "cell_type": "code",
   "execution_count": 48,
   "id": "a540bdae-421d-456e-972d-34aff7bd1caf",
   "metadata": {},
   "outputs": [
    {
     "name": "stdout",
     "output_type": "stream",
     "text": [
      "Merged sorted list: [1, 2, 3, 4, 5, 6, 7, 8]\n"
     ]
    }
   ],
   "source": [
    "def merge_sorted_lists(list1, list2):\n",
    "    merged_list = []\n",
    "    i = j = 0\n",
    "\n",
    "    while i < len(list1) and j < len(list2):\n",
    "        if list1[i] <= list2[j]:\n",
    "            merged_list.append(list1[i])\n",
    "            i += 1\n",
    "        else:\n",
    "            merged_list.append(list2[j])\n",
    "            j += 1\n",
    "\n",
    "    while i < len(list1):\n",
    "        merged_list.append(list1[i])\n",
    "        i += 1\n",
    "\n",
    "    while j < len(list2):\n",
    "        merged_list.append(list2[j])\n",
    "        j += 1\n",
    "\n",
    "    return merged_list\n",
    "\n",
    "\n",
    "list1 = [1, 3, 5, 7]\n",
    "list2 = [2, 4, 6, 8]\n",
    "result_list = merge_sorted_lists(list1, list2)\n",
    "print(\"Merged sorted list:\", result_list)\n",
    "\n"
   ]
  },
  {
   "cell_type": "markdown",
   "id": "eebd3f36-333e-48d1-a454-d340d56ed4ec",
   "metadata": {},
   "source": [
    "26. Implement a function to find the mode of a list of numbers."
   ]
  },
  {
   "cell_type": "code",
   "execution_count": 49,
   "id": "889de40b-2633-4dd5-aad9-40511e0a52f2",
   "metadata": {},
   "outputs": [
    {
     "name": "stdout",
     "output_type": "stream",
     "text": [
      "Mode: 4\n"
     ]
    }
   ],
   "source": [
    "from collections import Counter\n",
    "\n",
    "def find_mode(numbers):\n",
    "    counter = Counter(numbers)\n",
    "    mode = counter.most_common(1)[0][0]\n",
    "    return mode\n",
    "\n",
    "input_numbers = [1, 2, 2, 3, 3, 3, 4, 4, 4, 4]\n",
    "result_mode = find_mode(input_numbers)\n",
    "print(\"Mode:\", result_mode)\n"
   ]
  },
  {
   "cell_type": "markdown",
   "id": "4d0112b6-79e8-48b4-b206-15ab7c199fc3",
   "metadata": {},
   "source": [
    "27. Write a program to find the greatest common divisor (GCD) of two numbers."
   ]
  },
  {
   "cell_type": "code",
   "execution_count": 50,
   "id": "95661762-9304-4243-99f6-5b7a6f5c6d05",
   "metadata": {},
   "outputs": [
    {
     "name": "stdin",
     "output_type": "stream",
     "text": [
      "Enter the first number:  5\n",
      "Enter the second number:  10\n"
     ]
    },
    {
     "name": "stdout",
     "output_type": "stream",
     "text": [
      "GCD: 5\n"
     ]
    }
   ],
   "source": [
    "def find_gcd(a, b):\n",
    "    while b != 0:\n",
    "        a, b = b, a % b\n",
    "    return a\n",
    "\n",
    "number1 = int(input(\"Enter the first number: \"))\n",
    "number2 = int(input(\"Enter the second number: \"))\n",
    "result_gcd = find_gcd(number1, number2)\n",
    "print(\"GCD:\", result_gcd)\n"
   ]
  },
  {
   "cell_type": "markdown",
   "id": "85fa53c5-d1ba-4eab-bc44-7e0692191002",
   "metadata": {},
   "source": [
    "28. Implement a function to calculate the square root of a given number."
   ]
  },
  {
   "cell_type": "code",
   "execution_count": 52,
   "id": "d07fd762-1193-483d-93a4-98d5292297a0",
   "metadata": {},
   "outputs": [
    {
     "name": "stdin",
     "output_type": "stream",
     "text": [
      "Enter a number:  5\n"
     ]
    },
    {
     "name": "stdout",
     "output_type": "stream",
     "text": [
      "Square root: 2.2360679779158037\n"
     ]
    }
   ],
   "source": [
    "def calculate_square_root(number):\n",
    "    if number < 0:\n",
    "        raise ValueError(\"Cannot calculate square root of a negative number.\")\n",
    "\n",
    "    if number == 0:\n",
    "        return 0\n",
    "\n",
    "    guess = number / 2\n",
    "    epsilon = 0.00001 \n",
    "\n",
    "    while abs(guess * guess - number) > epsilon:\n",
    "        guess = (guess + number / guess) / 2\n",
    "\n",
    "    return guess\n",
    "\n",
    "input_number = float(input(\"Enter a number: \"))\n",
    "result_sqrt = calculate_square_root(input_number)\n",
    "print(\"Square root:\", result_sqrt)\n"
   ]
  },
  {
   "cell_type": "markdown",
   "id": "90f687b7-35ca-4fbf-9cb7-9e711c6b42e8",
   "metadata": {},
   "source": [
    "29. Write a Python program to check if a given string is a valid palindrome ignoring non-alphanumeric characters."
   ]
  },
  {
   "cell_type": "code",
   "execution_count": 53,
   "id": "979f306c-d440-4b5b-819e-dde803a2bfc3",
   "metadata": {},
   "outputs": [
    {
     "name": "stdin",
     "output_type": "stream",
     "text": [
      "Enter a string:  agmark\n"
     ]
    },
    {
     "name": "stdout",
     "output_type": "stream",
     "text": [
      "The string is not a valid palindrome.\n"
     ]
    }
   ],
   "source": [
    "import re\n",
    "\n",
    "def is_valid_palindrome(string):\n",
    "  \n",
    "    alphanumeric_string = re.sub(r'[^a-zA-Z0-9]', '', string)\n",
    "\n",
    "    \n",
    "    lowercase_string = alphanumeric_string.lower()\n",
    "\n",
    "    \n",
    "    return lowercase_string == lowercase_string[::-1]\n",
    "\n",
    "input_string = input(\"Enter a string: \")\n",
    "if is_valid_palindrome(input_string):\n",
    "    print(\"The string is a valid palindrome.\")\n",
    "else:\n",
    "    print(\"The string is not a valid palindrome.\")\n"
   ]
  },
  {
   "cell_type": "markdown",
   "id": "b51f0f99-5ec4-4fbc-b221-98059d9f0ef4",
   "metadata": {},
   "source": [
    "30. Implement a function to find the minimum element in a rotated sorted list."
   ]
  },
  {
   "cell_type": "code",
   "execution_count": 55,
   "id": "7f9cc998-a324-4198-8d8b-9550ffecac57",
   "metadata": {},
   "outputs": [
    {
     "name": "stdout",
     "output_type": "stream",
     "text": [
      "Minimum element: 1\n"
     ]
    }
   ],
   "source": [
    "def find_minimum_rotated_sorted(nums):\n",
    "    left = 0\n",
    "    right = len(nums) - 1\n",
    "\n",
    "    while left < right:\n",
    "        mid = left + (right - left) // 2\n",
    "\n",
    "        if nums[mid] > nums[right]:\n",
    "            left = mid + 1\n",
    "        else:\n",
    "            right = mid\n",
    "\n",
    "    return nums[left]\n",
    "\n",
    "input_list = [4, 5, 6, 7, 1, 2]\n",
    "result_minimum = find_minimum_rotated_sorted(input_list)\n",
    "print(\"Minimum element:\", result_minimum)\n"
   ]
  },
  {
   "cell_type": "markdown",
   "id": "b07c94af-af4f-44c8-bd41-b47fc0c5d82c",
   "metadata": {},
   "source": [
    "31. Write a program to find the sum of all even numbers in a list."
   ]
  },
  {
   "cell_type": "code",
   "execution_count": 56,
   "id": "4b6bc07c-2460-4788-a14a-d9e366bacf1c",
   "metadata": {},
   "outputs": [
    {
     "name": "stdout",
     "output_type": "stream",
     "text": [
      "Sum of even numbers: 30\n"
     ]
    }
   ],
   "source": [
    "def sum_even(numbers):\n",
    "    sum_even = 0\n",
    "    for num in numbers:\n",
    "        if num % 2 == 0:\n",
    "            sum_even += num\n",
    "    return sum_even\n",
    "\n",
    "input_numbers = [1, 2, 3, 4, 5, 6, 7, 8, 9, 10]\n",
    "result_sum_even = sum_even(input_numbers)\n",
    "print(\"Sum of even numbers:\", result_sum_even)\n"
   ]
  },
  {
   "cell_type": "markdown",
   "id": "3ae1dc16-00cc-4d42-8e98-b38957a6090f",
   "metadata": {},
   "source": [
    "32. Implement a function to calculate the power of a number using recursion."
   ]
  },
  {
   "cell_type": "code",
   "execution_count": 57,
   "id": "70a1a4fe-2f03-470f-adb1-63e8f3ca6ffe",
   "metadata": {},
   "outputs": [
    {
     "name": "stdin",
     "output_type": "stream",
     "text": [
      "Enter the base:  26\n",
      "Enter the exponent:  2\n"
     ]
    },
    {
     "name": "stdout",
     "output_type": "stream",
     "text": [
      "Result: 676.0\n"
     ]
    }
   ],
   "source": [
    "def power(base, exponent):\n",
    "    if exponent == 0:\n",
    "        return 1\n",
    "    elif exponent < 0:\n",
    "        return 1 / power(base, -exponent)\n",
    "    else:\n",
    "        return base * power(base, exponent - 1)\n",
    "\n",
    "base = float(input(\"Enter the base: \"))\n",
    "exponent = int(input(\"Enter the exponent: \"))\n",
    "result_power = power(base, exponent)\n",
    "print(\"Result:\", result_power)\n"
   ]
  },
  {
   "cell_type": "markdown",
   "id": "874e4157-e092-4cb7-ae6e-27456953ef04",
   "metadata": {},
   "source": [
    "33. Write a Python program to remove duplicates from a list while preserving the order."
   ]
  },
  {
   "cell_type": "code",
   "execution_count": 59,
   "id": "073d6d9a-bbee-4524-bd38-3f483ff5180b",
   "metadata": {},
   "outputs": [
    {
     "name": "stdout",
     "output_type": "stream",
     "text": [
      "List with duplicates removed: [10, 20, 30, 40, 50]\n"
     ]
    }
   ],
   "source": [
    "def remove_duplicates(lst):\n",
    "    unique_list = []\n",
    "    for item in lst:\n",
    "        if item not in unique_list:\n",
    "            unique_list.append(item)\n",
    "    return unique_list\n",
    "\n",
    "input_list = [10, 20, 30, 10, 40, 20, 50, 30]\n",
    "result_list = remove_duplicates(input_list)\n",
    "print(\"List with duplicates removed:\", result_list)\n"
   ]
  },
  {
   "cell_type": "markdown",
   "id": "b4a599bf-7dce-4ddc-aa62-f650aceb868e",
   "metadata": {},
   "source": [
    "34. Implement a function to find the longest common prefix among a list of strings"
   ]
  },
  {
   "cell_type": "code",
   "execution_count": 60,
   "id": "88188027-9665-4e12-8922-394c25e027eb",
   "metadata": {},
   "outputs": [
    {
     "name": "stdout",
     "output_type": "stream",
     "text": [
      "Longest common prefix: fl\n"
     ]
    }
   ],
   "source": [
    "def longest_common(strs):\n",
    "    if not strs:\n",
    "        return \"\"\n",
    "\n",
    "    min_len = min(len(s) for s in strs)\n",
    "    prefix = \"\"\n",
    "    \n",
    "    for i in range(min_len):\n",
    "        char = strs[0][i]\n",
    "        if all(s[i] == char for s in strs):\n",
    "            prefix += char\n",
    "        else:\n",
    "            break\n",
    "\n",
    "    return prefix\n",
    "\n",
    "input_strings = [\"flower\", \"flow\", \"flight\"]\n",
    "result_prefix = longest_common(input_strings)\n",
    "print(\"Longest common prefix:\", result_prefix)\n"
   ]
  },
  {
   "cell_type": "markdown",
   "id": "8d36cbd1-c7dc-4916-8153-0a4c1f108a03",
   "metadata": {},
   "source": [
    "35. Write a program to check if a given number is a perfect square."
   ]
  },
  {
   "cell_type": "code",
   "execution_count": 61,
   "id": "bcbf13b6-9eb2-454c-98bd-9859980c2782",
   "metadata": {},
   "outputs": [
    {
     "name": "stdin",
     "output_type": "stream",
     "text": [
      "Enter a number:  4\n"
     ]
    },
    {
     "name": "stdout",
     "output_type": "stream",
     "text": [
      "The number is a perfect square.\n"
     ]
    }
   ],
   "source": [
    "def is_perfect_square(num):\n",
    "    if num < 0:\n",
    "        return False\n",
    "\n",
    "    sqrt_num = int(num ** 0.5)\n",
    "    return sqrt_num * sqrt_num == num\n",
    "\n",
    "input_num = int(input(\"Enter a number: \"))\n",
    "result = is_perfect_square(input_num)\n",
    "if result:\n",
    "    print(\"The number is a perfect square.\")\n",
    "else:\n",
    "    print(\"The number is not a perfect square.\")\n"
   ]
  },
  {
   "cell_type": "markdown",
   "id": "d58eda4a-729c-47ee-acee-1b4d422f1ddf",
   "metadata": {},
   "source": [
    "36. Implement a function to calculate the product of all elements in a list."
   ]
  },
  {
   "cell_type": "code",
   "execution_count": 62,
   "id": "fc4e118f-b5b1-498e-a6af-eeeabe713b8c",
   "metadata": {},
   "outputs": [
    {
     "name": "stdout",
     "output_type": "stream",
     "text": [
      "Product of elements: 120\n"
     ]
    }
   ],
   "source": [
    "def calculate(lst):\n",
    "    product = 1\n",
    "    for num in lst:\n",
    "        product *= num\n",
    "    return product\n",
    "\n",
    "input_list = [2, 3, 4, 5]\n",
    "result_product = calculate(input_list)\n",
    "print(\"Product of elements:\", result_product)\n"
   ]
  },
  {
   "cell_type": "markdown",
   "id": "eacec3d4-f76c-49b4-9457-0a5cd3df10c3",
   "metadata": {},
   "source": [
    "37. Write a Python program to reverse the order of words in a sentence while preserving the word order"
   ]
  },
  {
   "cell_type": "code",
   "execution_count": 66,
   "id": "82885184-b1d3-4422-b5a7-9c7b6bc43b5c",
   "metadata": {},
   "outputs": [
    {
     "name": "stdout",
     "output_type": "stream",
     "text": [
      "Reversed sentence: ? you are how Hello,\n"
     ]
    }
   ],
   "source": [
    "def reverse_sen(sentence):\n",
    "    words = sentence.split()\n",
    "    reversed_words = words[::-1]\n",
    "    reversed_sentence = ' '.join(reversed_words)\n",
    "    return reversed_sentence\n",
    "\n",
    "input_sentence = \"Hello, how are you ?\"\n",
    "result_sentence = reverse_sen(input_sentence)\n",
    "print(\"Reversed sentence:\", result_sentence)\n"
   ]
  },
  {
   "cell_type": "markdown",
   "id": "75e0fcbb-68c0-41b4-b29b-1e377203f19b",
   "metadata": {},
   "source": [
    "38. Implement a function to find the missing number in a given list of consecutive numbers."
   ]
  },
  {
   "cell_type": "code",
   "execution_count": 67,
   "id": "e2e625c6-fbc1-4b5f-8b85-6082922aaee5",
   "metadata": {},
   "outputs": [
    {
     "name": "stdout",
     "output_type": "stream",
     "text": [
      "Missing number: 4\n"
     ]
    }
   ],
   "source": [
    "def find_number(lst):\n",
    "    n = len(lst) + 1\n",
    "    total_sum = (n * (n + 1)) // 2\n",
    "    list_sum = sum(lst)\n",
    "    missing_number = total_sum - list_sum\n",
    "    return missing_number\n",
    "\n",
    "input_list = [1, 2, 3, 5, 6]\n",
    "result = find_number(input_list)\n",
    "print(\"Missing number:\", result)\n"
   ]
  },
  {
   "cell_type": "markdown",
   "id": "a5d1f03e-9443-4c53-bc54-9dd3762f71c2",
   "metadata": {},
   "source": [
    "39. Write a program to find the sum of digits of a given number."
   ]
  },
  {
   "cell_type": "code",
   "execution_count": 68,
   "id": "044b323b-dccf-4521-b0f2-f65e17a037f2",
   "metadata": {},
   "outputs": [
    {
     "name": "stdin",
     "output_type": "stream",
     "text": [
      "Enter a number:  102424\n"
     ]
    },
    {
     "name": "stdout",
     "output_type": "stream",
     "text": [
      "Sum of digits: 13\n"
     ]
    }
   ],
   "source": [
    "def sum_of_digits(num):\n",
    "    sum = 0\n",
    "    while num > 0:\n",
    "        digit = num % 10\n",
    "        sum += digit\n",
    "        num //= 10\n",
    "    return sum\n",
    "\n",
    "input_num = int(input(\"Enter a number: \"))\n",
    "result = sum_of_digits(input_num)\n",
    "print(\"Sum of digits:\", result)\n"
   ]
  },
  {
   "cell_type": "markdown",
   "id": "dd7faa2b-aeb4-4d45-83f9-01198bc04a29",
   "metadata": {},
   "source": [
    "40. Implement a function to check if a given string is a valid palindrome considering case sensitivity."
   ]
  },
  {
   "cell_type": "code",
   "execution_count": 69,
   "id": "6cb07c5d-ec80-4e86-a852-60d9fdebc4d5",
   "metadata": {},
   "outputs": [
    {
     "name": "stdin",
     "output_type": "stream",
     "text": [
      "Enter a string:  Radar\n"
     ]
    },
    {
     "name": "stdout",
     "output_type": "stream",
     "text": [
      "The string is a valid palindrome.\n"
     ]
    }
   ],
   "source": [
    "def is_valid_palindrome(string):\n",
    "    cleaned_string = ''.join(char.lower() for char in string if char.isalnum())\n",
    "    reversed_string = cleaned_string[::-1]\n",
    "    return cleaned_string == reversed_string\n",
    "\n",
    "input_string = input(\"Enter a string: \")\n",
    "result = is_valid_palindrome(input_string)\n",
    "if result:\n",
    "    print(\"The string is a valid palindrome.\")\n",
    "else:\n",
    "    print(\"The string is not a valid palindrome.\")\n"
   ]
  },
  {
   "cell_type": "markdown",
   "id": "ad668243-28c0-429a-930a-e5ffc2d210fd",
   "metadata": {},
   "source": [
    "41. Write a Python program to find the smallest missing positive integer in a list."
   ]
  },
  {
   "cell_type": "code",
   "execution_count": 70,
   "id": "4e1e27e2-0376-44a5-bc21-fa2ad7ae6dd7",
   "metadata": {},
   "outputs": [
    {
     "name": "stdout",
     "output_type": "stream",
     "text": [
      "Smallest missing positive integer: 2\n"
     ]
    }
   ],
   "source": [
    "def find_smallest(nums):\n",
    "    n = len(nums)\n",
    "\n",
    "    for i in range(n):\n",
    "        while 1 <= nums[i] <= n and nums[i] != nums[nums[i] - 1]:\n",
    "            nums[nums[i] - 1], nums[i] = nums[i], nums[nums[i] - 1]\n",
    "\n",
    "    for i in range(n):\n",
    "        if nums[i] != i + 1:\n",
    "            return i + 1\n",
    "    \n",
    "    return n + 1\n",
    "\n",
    "input_list = [3, 4, -1, 1]\n",
    "result = find_smallest(input_list)\n",
    "print(\"Smallest missing positive integer:\", result)\n"
   ]
  },
  {
   "cell_type": "markdown",
   "id": "b0b9be2a-4d5f-43d2-9ef9-ccf0aae8d1c8",
   "metadata": {},
   "source": [
    "42. Implement a function to find the longest palindrome substring in a given string"
   ]
  },
  {
   "cell_type": "code",
   "execution_count": 71,
   "id": "1342e1c4-d163-484c-b609-5d2f92f7d203",
   "metadata": {},
   "outputs": [
    {
     "name": "stdin",
     "output_type": "stream",
     "text": [
      "Enter a string:  babad\n"
     ]
    },
    {
     "name": "stdout",
     "output_type": "stream",
     "text": [
      "Longest palindrome substring: bab\n"
     ]
    }
   ],
   "source": [
    "def longest_palindrome_substring(string):\n",
    "    if len(string) < 2:\n",
    "        return string\n",
    "\n",
    "    longest_palindrome = \"\"\n",
    "    for i in range(len(string)):\n",
    "    \n",
    "        odd_palindrome = expand_around_center(string, i, i)\n",
    "        if len(odd_palindrome) > len(longest_palindrome):\n",
    "            longest_palindrome = odd_palindrome\n",
    "\n",
    "    \n",
    "        even_palindrome = expand_around_center(string, i, i + 1)\n",
    "        if len(even_palindrome) > len(longest_palindrome):\n",
    "            longest_palindrome = even_palindrome\n",
    "\n",
    "    return longest_palindrome\n",
    "\n",
    "\n",
    "def expand_around_center(string, left, right):\n",
    "    while left >= 0 and right < len(string) and string[left] == string[right]:\n",
    "        left -= 1\n",
    "        right += 1\n",
    "\n",
    "    return string[left + 1: right]\n",
    "\n",
    "\n",
    "input_string = input(\"Enter a string: \")\n",
    "result = longest_palindrome_substring(input_string)\n",
    "print(\"Longest palindrome substring:\", result)\n"
   ]
  },
  {
   "cell_type": "markdown",
   "id": "251893c8-9f87-4ac1-9264-559f9004e8d7",
   "metadata": {},
   "source": [
    "43. Write a program to find the number of occurrences of a given element in a list."
   ]
  },
  {
   "cell_type": "code",
   "execution_count": 72,
   "id": "fed9303c-8fe2-465e-9972-9911c0a30d5a",
   "metadata": {},
   "outputs": [
    {
     "name": "stdout",
     "output_type": "stream",
     "text": [
      "Number of occurrences of 20 in the list: 3\n"
     ]
    }
   ],
   "source": [
    "def count_occurrences(lst, element):\n",
    "    count = 0\n",
    "    for item in lst:\n",
    "        if item == element:\n",
    "            count += 1\n",
    "    return count\n",
    "\n",
    "input_list = [10, 20, 30, 20, 40, 20, 50]\n",
    "element = 20\n",
    "result = count_occurrences(input_list, element)\n",
    "print(\"Number of occurrences of\", element, \"in the list:\", result)\n"
   ]
  },
  {
   "cell_type": "markdown",
   "id": "3c285424-3f1b-4eaf-896c-2b5dbd8957c1",
   "metadata": {},
   "source": [
    "44. Implement a function to check if a given number is a perfect number."
   ]
  },
  {
   "cell_type": "code",
   "execution_count": 73,
   "id": "57f8ea35-1457-46c4-823d-89020aa4363d",
   "metadata": {},
   "outputs": [
    {
     "name": "stdin",
     "output_type": "stream",
     "text": [
      "Enter a number:  8\n"
     ]
    },
    {
     "name": "stdout",
     "output_type": "stream",
     "text": [
      "8 is not a perfect number\n"
     ]
    }
   ],
   "source": [
    "def is_perfect_number(number):\n",
    "    if number <= 0:\n",
    "        return False\n",
    "\n",
    "    divisor_sum = 0\n",
    "    for i in range(1, number):\n",
    "        if number % i == 0:\n",
    "            divisor_sum += i\n",
    "\n",
    "    return divisor_sum == number\n",
    "\n",
    "\n",
    "input_number = int(input(\"Enter a number: \"))\n",
    "result = is_perfect_number(input_number)\n",
    "if result:\n",
    "    print(input_number, \"is a perfect number\")\n",
    "else:\n",
    "    print(input_number, \"is not a perfect number\")\n"
   ]
  },
  {
   "cell_type": "markdown",
   "id": "c0973300-c39b-464b-a128-c3bebeb1bd50",
   "metadata": {},
   "source": [
    "45. Write a Python program to remove all duplicates from a string."
   ]
  },
  {
   "cell_type": "code",
   "execution_count": 74,
   "id": "7cc33800-5765-4711-a6a1-e87a7cf9ecd0",
   "metadata": {},
   "outputs": [
    {
     "name": "stdin",
     "output_type": "stream",
     "text": [
      "Enter a string:  it was it was use ok ok\n"
     ]
    },
    {
     "name": "stdout",
     "output_type": "stream",
     "text": [
      "String after removing duplicates: it wasueok\n"
     ]
    }
   ],
   "source": [
    "def remove_duplicates(string):\n",
    "    unique_chars = []\n",
    "    result = ''\n",
    "    \n",
    "    for char in string:\n",
    "        if char not in unique_chars:\n",
    "            unique_chars.append(char)\n",
    "            result += char\n",
    "\n",
    "    return result\n",
    "\n",
    "\n",
    "input_string = input(\"Enter a string: \")\n",
    "result = remove_duplicates(input_string)\n",
    "print(\"String after removing duplicates:\", result)\n"
   ]
  },
  {
   "cell_type": "markdown",
   "id": "b7786a14-8f01-4dce-8434-7c20fb81cd47",
   "metadata": {},
   "source": [
    "46. Implement a function to find the first missing positive"
   ]
  },
  {
   "cell_type": "code",
   "execution_count": 75,
   "id": "93b669e5-ee7e-4048-9eea-10dbc7cf5775",
   "metadata": {},
   "outputs": [
    {
     "name": "stdout",
     "output_type": "stream",
     "text": [
      "First missing positive: 2\n"
     ]
    }
   ],
   "source": [
    "def find_first_missing_positive(nums):\n",
    "    n = len(nums)\n",
    "    i = 0\n",
    "    while i < n:\n",
    "        if 1 <= nums[i] <= n and nums[i] != nums[nums[i] - 1]:\n",
    "            nums[nums[i] - 1], nums[i] = nums[i], nums[nums[i] - 1]\n",
    "        else:\n",
    "            i += 1\n",
    "\n",
    "    for i in range(n):\n",
    "        if nums[i] != i + 1:\n",
    "            return i + 1\n",
    "\n",
    "    return n + 1\n",
    "\n",
    "\n",
    "input_nums = [3, 4, -1, 1]\n",
    "result = find_first_missing_positive(input_nums)\n",
    "print(\"First missing positive:\", result)\n"
   ]
  },
  {
   "cell_type": "code",
   "execution_count": null,
   "id": "9a025b5f-5790-4594-8c14-08ecc4a6bc4c",
   "metadata": {},
   "outputs": [],
   "source": []
  }
 ],
 "metadata": {
  "kernelspec": {
   "display_name": "Python 3 (ipykernel)",
   "language": "python",
   "name": "python3"
  },
  "language_info": {
   "codemirror_mode": {
    "name": "ipython",
    "version": 3
   },
   "file_extension": ".py",
   "mimetype": "text/x-python",
   "name": "python",
   "nbconvert_exporter": "python",
   "pygments_lexer": "ipython3",
   "version": "3.10.8"
  }
 },
 "nbformat": 4,
 "nbformat_minor": 5
}
